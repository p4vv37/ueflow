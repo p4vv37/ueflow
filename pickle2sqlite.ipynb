{
 "cells": [
  {
   "cell_type": "code",
   "execution_count": 7,
   "metadata": {
    "collapsed": false,
    "pycharm": {
     "name": "#%%\n"
    }
   },
   "outputs": [
    {
     "name": "stdout",
     "output_type": "stream",
     "text": [
      "samplesGeneration/data \n",
      " samplesGeneration/data/10.740195295589409_140.0\n"
     ]
    }
   ],
   "source": [
    "# Same code is used in Houdini to test, with some modifications in imports and without some hard-coded values\n",
    "# So here I'm separating imports and definitions of those hardcoded values.\n",
    "\n",
    "import pickle\n",
    "import os\n",
    "import numpy as np\n",
    "import math\n",
    "\n",
    "data_dir = os.path.normpath(\"samplesGeneration/data\")\n",
    "file_names = os.listdir(data_dir)\n",
    "file_name = file_names[51]\n",
    "file_path = os.path.join(data_dir, file_name)\n",
    "\n",
    "print(data_dir, \"\\n\", file_path)"
   ]
  },
  {
   "cell_type": "code",
   "execution_count": 9,
   "metadata": {},
   "outputs": [],
   "source": [
    "import itertools\n",
    "from tensorflow.python.data import AUTOTUNE\n",
    "\n",
    "with open(file_path, \"rb\") as f:\n",
    "    data = pickle.load(f)\n",
    "\n",
    "def angle_to_sin_cos(angle):\n",
    "    return [math.sin(angle), math.cos(angle)]\n",
    "\n",
    "def sin_cos_to_angle(sin, cos):\n",
    "    return math.atan2(sin, cos)\n",
    "\n",
    "def angle_to_sin_and_back(angle):\n",
    "    return math.atan2(*angle_to_sin_cos(angle))\n",
    "\n",
    "def to_abs_with_sin_cos(arr):\n",
    "    result = list()\n",
    "    for box in arr:\n",
    "        angles = [angle_to_sin_cos(angle) for angle in box[3:]]\n",
    "        result.append(list(box[:3]) + list(itertools.chain(*angles)))\n",
    "    return np.asarray(result)\n",
    "\n",
    "def process_abs_sample(sample):\n",
    "    \"\"\" Changes sample in form of single 6 elements array to houdini compatible vec3 pos and vec4 orient \"\"\"\n",
    "    orient = [sin_cos_to_angle(sample[3+2*x], sample[4+2*x]) for x in range(3)] + [1]\n",
    "    return sample[:3], orient\n",
    "\n",
    "def configure_for_performance(ds):\n",
    "    ds = ds.cache()\n",
    "    ds = ds.shuffle(buffer_size=1000)\n",
    "    ds = ds.batch(32)\n",
    "    ds = ds.prefetch(buffer_size=AUTOTUNE)\n",
    "    return ds\n",
    "\n",
    "class DataProcessor(object):\n",
    "    \"\"\" Code responsible for processing of data gathered into a class for readability.\n",
    "\n",
    "    Trying few different approaches to data representation to test what works best:\n",
    "\n",
    "    For every frame n following representations are calculated:\n",
    "    - x_delta: array (4, 6) of delta between frames n and n-1: (Δx, Δy, Δz, Δα , Δβ, Δγ)\n",
    "    - x_abs_n_minus_1: array (2, 4, 9) of absolute values in frame n-1\n",
    "    - x_abs_n: x_abs in in frame n\n",
    "      Structure of x_abs_*: [[x, y, z, sin(α), cos(α), sin(β), cos(β), sin(γ), cos(γ)], [...]]\n",
    "    - x_force: array of forces in frame n: (power, sin(Φ), cos(Φ)\n",
    "\n",
    "    - y_delta: array (4, 6) of delta between frames n and n+1\n",
    "    - y_abs: array (4, 9) of absolute values in frame n+1\n",
    "\n",
    "    Data is passed to neural networks in forms:\n",
    "    - x: (x_delta, x_force) y: y_delta\n",
    "    - x: (x_delta, x_abs_n, x_force) y: y_delta\n",
    "    - x: (x_delta, x_abs_n, x_force) y: y_abs\n",
    "    - x: (x_abs_n_minus_1, x_abs_n, x_force) y: y_abs\n",
    "    - x: (x_abs_n_minus_1, x_abs_n, x_force) y: y_delta\n",
    "    \"\"\"\n",
    "    def __init__(self, paths):\n",
    "        # self.x_delta = np.empty((1, 4, 6))\n",
    "        # self.x_abs_n_minus_1 = np.empty((1, 4, 9))\n",
    "        # self.x_abs_n = np.empty((1, 4, 9))\n",
    "        # self.x_force = np.empty((1, 3))\n",
    "        #\n",
    "        # self.y_delta = np.empty((1, 4, 6))\n",
    "        # self.y_abs = np.empty((1, 4, 9))\n",
    "\n",
    "        self.x_delta = list()\n",
    "        self.x_abs_n_minus_1 = list()\n",
    "        self.x_abs_n = list()\n",
    "        self.x_force = list()\n",
    "\n",
    "        self.y_delta = list()\n",
    "        self.y_abs = list()\n",
    "\n",
    "        for file_path in paths:\n",
    "            with open(file_path, \"rb\") as f:\n",
    "                frames = pickle.load(f)\n",
    "                filename = os.path.basename(file_path)\n",
    "                force, force_angle = [float(part) for part in filename.split(\"_\")]\n",
    "                last_frame = None\n",
    "                for num, (frame, next_frame) in enumerate(zip(frames[:-1], frames[1:])):\n",
    "                    # print(num, end=\"\\r\")\n",
    "                    if num <=2:\n",
    "                        frame_force = 0\n",
    "                    else:\n",
    "                        frame_force = force\n",
    "                    if last_frame is not None:\n",
    "                        x_force = np.asarray(angle_to_sin_cos(force_angle) + [frame_force])\n",
    "                        n_minus_1_abs = np.asarray([f[0] + f[1][:-1] for f in last_frame])\n",
    "                        n_abs = np.asarray([f[0] + f[1][:-1] for f in frame])\n",
    "                        n_plus_1_abs = np.asarray([f[0] + f[1][:-1] for f in next_frame])\n",
    "\n",
    "                        x_delta = n_abs - n_minus_1_abs\n",
    "                        y_delta = n_plus_1_abs - n_abs\n",
    "\n",
    "                        n_minus_1_abs = to_abs_with_sin_cos(n_minus_1_abs)\n",
    "                        n_abs = to_abs_with_sin_cos(n_abs)\n",
    "                        y_abs = to_abs_with_sin_cos(n_plus_1_abs)\n",
    "\n",
    "                        self.x_delta.append(x_delta)\n",
    "                        self.x_abs_n_minus_1.append(n_minus_1_abs)\n",
    "                        self.x_abs_n.append(n_abs)\n",
    "                        self.x_force.append(x_force)\n",
    "\n",
    "                        self.y_delta.append(y_delta)\n",
    "                        self.y_abs.append(y_abs)\n",
    "                    last_frame = frame\n",
    "\n",
    "        self.x_delta = np.asarray(self.x_delta)\n",
    "        self.x_abs_n_minus_1 = np.asarray(self.x_abs_n_minus_1)\n",
    "        self.x_abs_n = np.asarray(self.x_abs_n)\n",
    "        self.x_force = np.asarray(self.x_force)\n",
    "\n",
    "        self.y_delta = np.asarray(self.y_delta)\n",
    "        self.y_abs = np.asarray(self.y_abs)\n",
    "\n",
    "dp = DataProcessor([file_path])\n",
    "# process_sample(data, file_name)"
   ]
  },
  {
   "cell_type": "code",
   "execution_count": 10,
   "metadata": {
    "collapsed": false,
    "pycharm": {
     "name": "#%%\n"
    }
   },
   "outputs": [
    {
     "data": {
      "text/plain": [
       "(238, 4, 6)"
      ]
     },
     "execution_count": 10,
     "metadata": {},
     "output_type": "execute_result"
    }
   ],
   "source": [
    "dp.x_delta.shape"
   ]
  }
 ],
 "metadata": {
  "kernelspec": {
   "display_name": "Python 3",
   "language": "python",
   "name": "python3"
  },
  "language_info": {
   "codemirror_mode": {
    "name": "ipython",
    "version": 3
   },
   "file_extension": ".py",
   "mimetype": "text/x-python",
   "name": "python",
   "nbconvert_exporter": "python",
   "pygments_lexer": "ipython3",
   "version": "3.8.5"
  }
 },
 "nbformat": 4,
 "nbformat_minor": 4
}

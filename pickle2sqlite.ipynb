{
 "cells": [
  {
   "cell_type": "code",
   "execution_count": 1,
   "metadata": {},
   "outputs": [],
   "source": [
    "import pandas as pd\n",
    "import numpy as np\n",
    "import os\n",
    "import pickle\n",
    "import math\n",
    "\n",
    "import os\n",
    "import sys\n",
    "import io\n",
    "import numpy as np\n",
    "import re\n",
    "from mpl_toolkits.mplot3d import Axes3D\n",
    "import matplotlib.pyplot as plt\n",
    "\n",
    "%matplotlib inline\n",
    "\n",
    "\n",
    "from collections import defaultdict"
   ]
  },
  {
   "cell_type": "code",
   "execution_count": 2,
   "metadata": {},
   "outputs": [],
   "source": [
    "import math\n",
    "\n",
    "def angle_to_sin_cos(angle):\n",
    "    return(math.sin(angle), math.cos(angle))\n",
    "\n",
    "def flatten_frame(frame, force_power, force_angle):\n",
    "    result = list()\n",
    "    for element in frame:\n",
    "        result += element[0]\n",
    "        for axis in range(3):\n",
    "            result += angle_to_sin_cos(element[0][axis])\n",
    "    result.append(force_power)\n",
    "    result += angle_to_sin_cos(force_angle)\n",
    "    return result\n"
   ]
  },
  {
   "cell_type": "code",
   "execution_count": 3,
   "metadata": {},
   "outputs": [
    {
     "name": "stdout",
     "output_type": "stream",
     "text": [
      "7210 / 7220 72207220 7220\r"
     ]
    }
   ],
   "source": [
    "import pickle\n",
    "\n",
    "def process_sample(sample, sample_name):\n",
    "    force_power, force_angle = [float(x) for x in sample_name.split(\"_\")]\n",
    "    result = list()\n",
    "    for n in range(240):\n",
    "        if n == 5:\n",
    "            frame_power = force_power\n",
    "        else:\n",
    "            frame_power = 0\n",
    "        result.append(flatten_frame(sample[n], force_power, force_angle))\n",
    "    return result\n",
    "\n",
    "data_dir = os.path.join(os.getcwd(), \"samplesGeneration\", \"data\")\n",
    "models_dir = os.path.join(os.getcwd(), \"model\")\n",
    "\n",
    "data = list()\n",
    "files = os.listdir(data_dir)\n",
    "for num, fname in enumerate(files):\n",
    "    if not num % 10:\n",
    "        print(num, \"/\", len(files), end=\"\\r\")\n",
    "    with open(os.path.join(data_dir, fname), \"rb\") as f:\n",
    "        data.append(process_sample(pickle.load(f, encoding='latin1'), fname.rsplit(\".\", 1)[0]))"
   ]
  },
  {
   "cell_type": "code",
   "execution_count": 4,
   "metadata": {},
   "outputs": [],
   "source": [
    "data = np.array(data)"
   ]
  },
  {
   "cell_type": "code",
   "execution_count": 5,
   "metadata": {},
   "outputs": [
    {
     "data": {
      "image/png": "[encoded data removed]",
      "text/plain": [
       "<Figure size 432x288 with 1 Axes>"
      ]
     },
     "metadata": {
      "needs_background": "light"
     },
     "output_type": "display_data"
    }
   ],
   "source": [
    "fig = plt.figure()\n",
    "ax = fig.add_subplot(111, projection='3d', xlim=(-2,2),ylim=(-2,2), zlim=(0, 10))\n",
    "\n",
    "xs = list()\n",
    "ys = list()\n",
    "zs = list()\n",
    "sizes = list()\n",
    "sample_to_plot = data[600]\n",
    "for num, f in enumerate(sample_to_plot):\n",
    "    for i in range(4):\n",
    "        v = [f[9*i], f[9*i + 1], f[9*i + 2]]\n",
    "        # print(v)\n",
    "        xs.append(v[0])\n",
    "        ys.append(v[2])\n",
    "        zs.append(v[1])\n",
    "        sizes.append([(len(sample_to_plot) - float(num))/len(sample_to_plot), 0, 0])\n",
    "ax.scatter(xs, ys, zs, c=sizes)\n",
    "\n",
    "plt.show()"
   ]
  },
  {
   "cell_type": "code",
   "execution_count": 6,
   "metadata": {},
   "outputs": [
    {
     "name": "stdout",
     "output_type": "stream",
     "text": [
      "7219 / 7220/ 7220 / 7220 / 7220 / 7220 / 7220 / 7220 / 7220 / 7220 / 7220 / 7220 / 7220 / 7220 / 7220 / 7220 / 7220 / 7220 / 7220 / 7220 / 7220 / 7220 / 7220\r"
     ]
    }
   ],
   "source": [
    "import sqlite3\n",
    "import numpy as np\n",
    "\n",
    "def adapt_array(arr):\n",
    "    \"\"\"\n",
    "    Save Numpy array to SqLite.\n",
    "    Source:\n",
    "    http://stackoverflow.com/a/31312102/190597 (SoulNibbler)\n",
    "    \"\"\"\n",
    "    out = io.BytesIO()\n",
    "    np.save(out, arr)\n",
    "    out.seek(0)\n",
    "    return sqlite3.Binary(out.read())\n",
    "\n",
    "def convert_array(text):\n",
    "    \"\"\" \n",
    "    Load Numpy array from Sqlite.\n",
    "    Source:\n",
    "    http://stackoverflow.com/a/31312102/190597 (SoulNibbler)\n",
    "    \"\"\"\n",
    "    out = io.BytesIO(text)\n",
    "    out.seek(0)\n",
    "    return np.load(out)\n",
    "\n",
    "sqlite3.register_adapter(np.ndarray, adapt_array)\n",
    "sqlite3.register_converter(\"array\", convert_array)\n",
    "\n",
    "data_path = os.path.join(os.getcwd(), \"samplesGeneration\", \"prepared_data.bd\")\n",
    "\n",
    "con = sqlite3.connect(data_path,isolation_level=None)\n",
    "cur = con.cursor()\n",
    "cur.execute('PRAGMA synchronous = 0')\n",
    "cur.execute('PRAGMA journal_mode = OFF') \n",
    "cur.execute(\"create table if not exists data (id INTEGER PRIMARY KEY AUTOINCREMENT, x array, y array)\")\n",
    "\n",
    "sample_data = list()\n",
    "for num, sample in enumerate(data):\n",
    "    print(num, \"/\", len(data), end=\"\\r\")\n",
    "    for i in range(240-4):\n",
    "        x = np.concatenate([sample[i], sample[i+1], sample[i+2]])\n",
    "        y = sample[i+3][:-3]\n",
    "        sample_data.append((x, y))\n",
    "cur.executemany(\"insert into data (x, y) values (?,?)\", sample_data)\n",
    "con.commit()"
   ]
  },
  {
   "cell_type": "code",
   "execution_count": 7,
   "metadata": {},
   "outputs": [],
   "source": [
    "con.close()"
   ]
  },
  {
   "cell_type": "code",
   "execution_count": 8,
   "metadata": {},
   "outputs": [
    {
     "name": "stdout",
     "output_type": "stream",
     "text": [
      "WARNING:tensorflow:From <ipython-input-8-a65f97fcad91>:11: is_gpu_available (from tensorflow.python.framework.test_util) is deprecated and will be removed in a future version.\n",
      "Instructions for updating:\n",
      "Use `tf.config.list_physical_devices('GPU')` instead.\n"
     ]
    },
    {
     "data": {
      "text/plain": [
       "False"
      ]
     },
     "execution_count": 8,
     "metadata": {},
     "output_type": "execute_result"
    }
   ],
   "source": [
    "import os\n",
    "# --- Uncomment to use only CPU (e.g. GPU memory is too small)\n",
    "#os.environ[\"CUDA_DEVICE_ORDER\"] = \"PCI_BUS_ID\"   # see issue #152\n",
    "#os.environ[\"CUDA_VISIBLE_DEVICES\"] = \"\"\n",
    "\n",
    "# import sys\n",
    "# sys.path.append(\"/usr/local/cuda-10.1/bin\")\n",
    "# os.environ[\"LD_LIBRARY_PATH\"] = \"/usr/local/cuda-10.1/lib64\"\n",
    "\n",
    "import tensorflow as tf\n",
    "tf.test.is_gpu_available(cuda_only=True) "
   ]
  },
  {
   "cell_type": "code",
   "execution_count": 10,
   "metadata": {},
   "outputs": [
    {
     "name": "stdout",
     "output_type": "stream",
     "text": [
      "Requirement already satisfied: jupyter_contrib_nbextensions in c:\\users\\p4vv3\\appdata\\local\\programs\\python\\python38\\lib\\site-packages (0.5.1)\n",
      "Requirement already satisfied: jupyter-highlight-selected-word>=0.1.1 in c:\\users\\p4vv3\\appdata\\local\\programs\\python\\python38\\lib\\site-packages (from jupyter_contrib_nbextensions) (0.2.0)\n",
      "Requirement already satisfied: notebook>=4.0 in c:\\users\\p4vv3\\appdata\\local\\programs\\python\\python38\\lib\\site-packages (from jupyter_contrib_nbextensions) (6.1.4)\n",
      "Requirement already satisfied: nbconvert>=4.2 in c:\\users\\p4vv3\\appdata\\local\\programs\\python\\python38\\lib\\site-packages (from jupyter_contrib_nbextensions) (6.0.2)\n",
      "Requirement already satisfied: jupyter-latex-envs>=1.3.8 in c:\\users\\p4vv3\\appdata\\local\\programs\\python\\python38\\lib\\site-packages (from jupyter_contrib_nbextensions) (1.4.6)\n",
      "Requirement already satisfied: jupyter-nbextensions-configurator>=0.4.0 in c:\\users\\p4vv3\\appdata\\local\\programs\\python\\python38\\lib\\site-packages (from jupyter_contrib_nbextensions) (0.4.1)\n",
      "Requirement already satisfied: tornado in c:\\users\\p4vv3\\appdata\\local\\programs\\python\\python38\\lib\\site-packages (from jupyter_contrib_nbextensions) (6.0.4)\n",
      "Requirement already satisfied: traitlets>=4.1 in c:\\users\\p4vv3\\appdata\\local\\programs\\python\\python38\\lib\\site-packages (from jupyter_contrib_nbextensions) (5.0.4)\n",
      "Requirement already satisfied: jupyter-core in c:\\users\\p4vv3\\appdata\\local\\programs\\python\\python38\\lib\\site-packages (from jupyter_contrib_nbextensions) (4.6.3)\n",
      "Requirement already satisfied: ipython-genutils in c:\\users\\p4vv3\\appdata\\local\\programs\\python\\python38\\lib\\site-packages (from jupyter_contrib_nbextensions) (0.2.0)\n",
      "Requirement already satisfied: lxml in c:\\users\\p4vv3\\appdata\\local\\programs\\python\\python38\\lib\\site-packages (from jupyter_contrib_nbextensions) (4.6.2)\n",
      "Requirement already satisfied: jupyter-contrib-core>=0.3.3 in c:\\users\\p4vv3\\appdata\\local\\programs\\python\\python38\\lib\\site-packages (from jupyter_contrib_nbextensions) (0.3.3)\n",
      "Requirement already satisfied: pyyaml in c:\\users\\p4vv3\\appdata\\local\\programs\\python\\python38\\lib\\site-packages (from jupyter_contrib_nbextensions) (5.3.1)\n",
      "Requirement already satisfied: ipykernel in c:\\users\\p4vv3\\appdata\\local\\programs\\python\\python38\\lib\\site-packages (from notebook>=4.0->jupyter_contrib_nbextensions) (5.3.4)\n",
      "Requirement already satisfied: jinja2 in c:\\users\\p4vv3\\appdata\\local\\programs\\python\\python38\\lib\\site-packages (from notebook>=4.0->jupyter_contrib_nbextensions) (2.11.2)\n",
      "Requirement already satisfied: jupyter-client>=5.3.4 in c:\\users\\p4vv3\\appdata\\local\\programs\\python\\python38\\lib\\site-packages (from notebook>=4.0->jupyter_contrib_nbextensions) (6.1.7)\n",
      "Requirement already satisfied: nbformat in c:\\users\\p4vv3\\appdata\\local\\programs\\python\\python38\\lib\\site-packages (from notebook>=4.0->jupyter_contrib_nbextensions) (5.0.7)\n",
      "Requirement already satisfied: argon2-cffi in c:\\users\\p4vv3\\appdata\\local\\programs\\python\\python38\\lib\\site-packages (from notebook>=4.0->jupyter_contrib_nbextensions) (20.1.0)\n",
      "Requirement already satisfied: terminado>=0.8.3 in c:\\users\\p4vv3\\appdata\\local\\programs\\python\\python38\\lib\\site-packages (from notebook>=4.0->jupyter_contrib_nbextensions) (0.8.3)\n",
      "Requirement already satisfied: pyzmq>=17 in c:\\users\\p4vv3\\appdata\\local\\programs\\python\\python38\\lib\\site-packages (from notebook>=4.0->jupyter_contrib_nbextensions) (19.0.2)\n",
      "Requirement already satisfied: prometheus-client in c:\\users\\p4vv3\\appdata\\local\\programs\\python\\python38\\lib\\site-packages (from notebook>=4.0->jupyter_contrib_nbextensions) (0.8.0)\n",
      "Requirement already satisfied: Send2Trash in c:\\users\\p4vv3\\appdata\\local\\programs\\python\\python38\\lib\\site-packages (from notebook>=4.0->jupyter_contrib_nbextensions) (1.5.0)\n",
      "Requirement already satisfied: pandocfilters>=1.4.1 in c:\\users\\p4vv3\\appdata\\local\\programs\\python\\python38\\lib\\site-packages (from nbconvert>=4.2->jupyter_contrib_nbextensions) (1.4.2)\n",
      "Requirement already satisfied: defusedxml in c:\\users\\p4vv3\\appdata\\local\\programs\\python\\python38\\lib\\site-packages (from nbconvert>=4.2->jupyter_contrib_nbextensions) (0.6.0)\n",
      "Requirement already satisfied: nbclient<0.6.0,>=0.5.0 in c:\\users\\p4vv3\\appdata\\local\\programs\\python\\python38\\lib\\site-packages (from nbconvert>=4.2->jupyter_contrib_nbextensions) (0.5.0)\n",
      "Requirement already satisfied: jupyterlab-pygments in c:\\users\\p4vv3\\appdata\\local\\programs\\python\\python38\\lib\\site-packages (from nbconvert>=4.2->jupyter_contrib_nbextensions) (0.1.1)\n",
      "Requirement already satisfied: pygments>=2.4.1 in c:\\users\\p4vv3\\appdata\\local\\programs\\python\\python38\\lib\\site-packages (from nbconvert>=4.2->jupyter_contrib_nbextensions) (2.7.0)\n",
      "Requirement already satisfied: entrypoints>=0.2.2 in c:\\users\\p4vv3\\appdata\\local\\programs\\python\\python38\\lib\\site-packages (from nbconvert>=4.2->jupyter_contrib_nbextensions) (0.3)\n",
      "Requirement already satisfied: mistune<2,>=0.8.1 in c:\\users\\p4vv3\\appdata\\local\\programs\\python\\python38\\lib\\site-packages (from nbconvert>=4.2->jupyter_contrib_nbextensions) (0.8.4)\n",
      "Requirement already satisfied: bleach in c:\\users\\p4vv3\\appdata\\local\\programs\\python\\python38\\lib\\site-packages (from nbconvert>=4.2->jupyter_contrib_nbextensions) (3.1.5)\n",
      "Requirement already satisfied: testpath in c:\\users\\p4vv3\\appdata\\local\\programs\\python\\python38\\lib\\site-packages (from nbconvert>=4.2->jupyter_contrib_nbextensions) (0.4.4)\n",
      "Requirement already satisfied: ipython in c:\\users\\p4vv3\\appdata\\local\\programs\\python\\python38\\lib\\site-packages (from jupyter-latex-envs>=1.3.8->jupyter_contrib_nbextensions) (7.18.1)\n",
      "Requirement already satisfied: pywin32>=1.0; sys_platform == \"win32\" in c:\\users\\p4vv3\\appdata\\local\\programs\\python\\python38\\lib\\site-packages (from jupyter-core->jupyter_contrib_nbextensions) (228)\n",
      "Requirement already satisfied: setuptools in c:\\users\\p4vv3\\appdata\\local\\programs\\python\\python38\\lib\\site-packages (from jupyter-contrib-core>=0.3.3->jupyter_contrib_nbextensions) (49.2.1)\n",
      "Requirement already satisfied: MarkupSafe>=0.23 in c:\\users\\p4vv3\\appdata\\local\\programs\\python\\python38\\lib\\site-packages (from jinja2->notebook>=4.0->jupyter_contrib_nbextensions) (1.1.1)\n",
      "Requirement already satisfied: python-dateutil>=2.1 in c:\\users\\p4vv3\\appdata\\local\\programs\\python\\python38\\lib\\site-packages (from jupyter-client>=5.3.4->notebook>=4.0->jupyter_contrib_nbextensions) (2.8.1)\n",
      "Requirement already satisfied: jsonschema!=2.5.0,>=2.4 in c:\\users\\p4vv3\\appdata\\local\\programs\\python\\python38\\lib\\site-packages (from nbformat->notebook>=4.0->jupyter_contrib_nbextensions) (3.2.0)\n",
      "Requirement already satisfied: six in c:\\users\\p4vv3\\appdata\\local\\programs\\python\\python38\\lib\\site-packages (from argon2-cffi->notebook>=4.0->jupyter_contrib_nbextensions) (1.15.0)\n",
      "Requirement already satisfied: cffi>=1.0.0 in c:\\users\\p4vv3\\appdata\\local\\programs\\python\\python38\\lib\\site-packages (from argon2-cffi->notebook>=4.0->jupyter_contrib_nbextensions) (1.14.2)\n",
      "Requirement already satisfied: pywinpty>=0.5; os_name == \"nt\" in c:\\users\\p4vv3\\appdata\\local\\programs\\python\\python38\\lib\\site-packages (from terminado>=0.8.3->notebook>=4.0->jupyter_contrib_nbextensions) (0.5.7)\n",
      "Requirement already satisfied: nest-asyncio in c:\\users\\p4vv3\\appdata\\local\\programs\\python\\python38\\lib\\site-packages (from nbclient<0.6.0,>=0.5.0->nbconvert>=4.2->jupyter_contrib_nbextensions) (1.4.0)\n",
      "Requirement already satisfied: async-generator in c:\\users\\p4vv3\\appdata\\local\\programs\\python\\python38\\lib\\site-packages (from nbclient<0.6.0,>=0.5.0->nbconvert>=4.2->jupyter_contrib_nbextensions) (1.10)\n",
      "Requirement already satisfied: packaging in c:\\users\\p4vv3\\appdata\\local\\programs\\python\\python38\\lib\\site-packages (from bleach->nbconvert>=4.2->jupyter_contrib_nbextensions) (20.4)\n",
      "Requirement already satisfied: webencodings in c:\\users\\p4vv3\\appdata\\local\\programs\\python\\python38\\lib\\site-packages (from bleach->nbconvert>=4.2->jupyter_contrib_nbextensions) (0.5.1)\n",
      "Requirement already satisfied: jedi>=0.10 in c:\\users\\p4vv3\\appdata\\local\\programs\\python\\python38\\lib\\site-packages (from ipython->jupyter-latex-envs>=1.3.8->jupyter_contrib_nbextensions) (0.17.2)\n",
      "Requirement already satisfied: colorama; sys_platform == \"win32\" in c:\\users\\p4vv3\\appdata\\local\\programs\\python\\python38\\lib\\site-packages (from ipython->jupyter-latex-envs>=1.3.8->jupyter_contrib_nbextensions) (0.4.3)\n",
      "Requirement already satisfied: decorator in c:\\users\\p4vv3\\appdata\\local\\programs\\python\\python38\\lib\\site-packages (from ipython->jupyter-latex-envs>=1.3.8->jupyter_contrib_nbextensions) (4.4.2)\n",
      "Requirement already satisfied: pickleshare in c:\\users\\p4vv3\\appdata\\local\\programs\\python\\python38\\lib\\site-packages (from ipython->jupyter-latex-envs>=1.3.8->jupyter_contrib_nbextensions) (0.7.5)\n",
      "Requirement already satisfied: prompt-toolkit!=3.0.0,!=3.0.1,<3.1.0,>=2.0.0 in c:\\users\\p4vv3\\appdata\\local\\programs\\python\\python38\\lib\\site-packages (from ipython->jupyter-latex-envs>=1.3.8->jupyter_contrib_nbextensions) (3.0.7)\n",
      "Requirement already satisfied: backcall in c:\\users\\p4vv3\\appdata\\local\\programs\\python\\python38\\lib\\site-packages (from ipython->jupyter-latex-envs>=1.3.8->jupyter_contrib_nbextensions) (0.2.0)\n",
      "Requirement already satisfied: pyrsistent>=0.14.0 in c:\\users\\p4vv3\\appdata\\local\\programs\\python\\python38\\lib\\site-packages (from jsonschema!=2.5.0,>=2.4->nbformat->notebook>=4.0->jupyter_contrib_nbextensions) (0.17.3)\n",
      "Requirement already satisfied: attrs>=17.4.0 in c:\\users\\p4vv3\\appdata\\local\\programs\\python\\python38\\lib\\site-packages (from jsonschema!=2.5.0,>=2.4->nbformat->notebook>=4.0->jupyter_contrib_nbextensions) (20.2.0)\n",
      "Requirement already satisfied: pycparser in c:\\users\\p4vv3\\appdata\\local\\programs\\python\\python38\\lib\\site-packages (from cffi>=1.0.0->argon2-cffi->notebook>=4.0->jupyter_contrib_nbextensions) (2.20)\n",
      "Requirement already satisfied: pyparsing>=2.0.2 in c:\\users\\p4vv3\\appdata\\local\\programs\\python\\python38\\lib\\site-packages (from packaging->bleach->nbconvert>=4.2->jupyter_contrib_nbextensions) (2.4.7)\n",
      "Requirement already satisfied: parso<0.8.0,>=0.7.0 in c:\\users\\p4vv3\\appdata\\local\\programs\\python\\python38\\lib\\site-packages (from jedi>=0.10->ipython->jupyter-latex-envs>=1.3.8->jupyter_contrib_nbextensions) (0.7.1)\n",
      "Requirement already satisfied: wcwidth in c:\\users\\p4vv3\\appdata\\local\\programs\\python\\python38\\lib\\site-packages (from prompt-toolkit!=3.0.0,!=3.0.1,<3.1.0,>=2.0.0->ipython->jupyter-latex-envs>=1.3.8->jupyter_contrib_nbextensions) (0.2.5)\n"
     ]
    },
    {
     "name": "stderr",
     "output_type": "stream",
     "text": [
      "WARNING: You are using pip version 20.2.1; however, version 20.3 is available.\n",
      "You should consider upgrading via the 'c:\\users\\p4vv3\\appdata\\local\\programs\\python\\python38\\python.exe -m pip install --upgrade pip' command.\n"
     ]
    },
    {
     "name": "stdout",
     "output_type": "stream",
     "text": [
      "Requirement already satisfied: jupyter_nbextensions_configurator in c:\\users\\p4vv3\\appdata\\local\\programs\\python\\python38\\lib\\site-packages (0.4.1)\n",
      "Requirement already satisfied: notebook>=4.0 in c:\\users\\p4vv3\\appdata\\local\\programs\\python\\python38\\lib\\site-packages (from jupyter_nbextensions_configurator) (6.1.4)\n",
      "Requirement already satisfied: tornado in c:\\users\\p4vv3\\appdata\\local\\programs\\python\\python38\\lib\\site-packages (from jupyter_nbextensions_configurator) (6.0.4)\n",
      "Requirement already satisfied: pyyaml in c:\\users\\p4vv3\\appdata\\local\\programs\\python\\python38\\lib\\site-packages (from jupyter_nbextensions_configurator) (5.3.1)\n",
      "Requirement already satisfied: jupyter-core in c:\\users\\p4vv3\\appdata\\local\\programs\\python\\python38\\lib\\site-packages (from jupyter_nbextensions_configurator) (4.6.3)\n",
      "Requirement already satisfied: traitlets in c:\\users\\p4vv3\\appdata\\local\\programs\\python\\python38\\lib\\site-packages (from jupyter_nbextensions_configurator) (5.0.4)\n",
      "Requirement already satisfied: jupyter-contrib-core>=0.3.3 in c:\\users\\p4vv3\\appdata\\local\\programs\\python\\python38\\lib\\site-packages (from jupyter_nbextensions_configurator) (0.3.3)\n",
      "Requirement already satisfied: ipython-genutils in c:\\users\\p4vv3\\appdata\\local\\programs\\python\\python38\\lib\\site-packages (from notebook>=4.0->jupyter_nbextensions_configurator) (0.2.0)\n",
      "Requirement already satisfied: jupyter-client>=5.3.4 in c:\\users\\p4vv3\\appdata\\local\\programs\\python\\python38\\lib\\site-packages (from notebook>=4.0->jupyter_nbextensions_configurator) (6.1.7)\n",
      "Requirement already satisfied: jinja2 in c:\\users\\p4vv3\\appdata\\local\\programs\\python\\python38\\lib\\site-packages (from notebook>=4.0->jupyter_nbextensions_configurator) (2.11.2)\n",
      "Requirement already satisfied: prometheus-client in c:\\users\\p4vv3\\appdata\\local\\programs\\python\\python38\\lib\\site-packages (from notebook>=4.0->jupyter_nbextensions_configurator) (0.8.0)\n",
      "Requirement already satisfied: pyzmq>=17 in c:\\users\\p4vv3\\appdata\\local\\programs\\python\\python38\\lib\\site-packages (from notebook>=4.0->jupyter_nbextensions_configurator) (19.0.2)\n",
      "Requirement already satisfied: nbconvert in c:\\users\\p4vv3\\appdata\\local\\programs\\python\\python38\\lib\\site-packages (from notebook>=4.0->jupyter_nbextensions_configurator) (6.0.2)\n",
      "Requirement already satisfied: nbformat in c:\\users\\p4vv3\\appdata\\local\\programs\\python\\python38\\lib\\site-packages (from notebook>=4.0->jupyter_nbextensions_configurator) (5.0.7)\n",
      "Requirement already satisfied: argon2-cffi in c:\\users\\p4vv3\\appdata\\local\\programs\\python\\python38\\lib\\site-packages (from notebook>=4.0->jupyter_nbextensions_configurator) (20.1.0)\n",
      "Requirement already satisfied: ipykernel in c:\\users\\p4vv3\\appdata\\local\\programs\\python\\python38\\lib\\site-packages (from notebook>=4.0->jupyter_nbextensions_configurator) (5.3.4)\n",
      "Requirement already satisfied: terminado>=0.8.3 in c:\\users\\p4vv3\\appdata\\local\\programs\\python\\python38\\lib\\site-packages (from notebook>=4.0->jupyter_nbextensions_configurator) (0.8.3)\n",
      "Requirement already satisfied: Send2Trash in c:\\users\\p4vv3\\appdata\\local\\programs\\python\\python38\\lib\\site-packages (from notebook>=4.0->jupyter_nbextensions_configurator) (1.5.0)\n",
      "Requirement already satisfied: pywin32>=1.0; sys_platform == \"win32\" in c:\\users\\p4vv3\\appdata\\local\\programs\\python\\python38\\lib\\site-packages (from jupyter-core->jupyter_nbextensions_configurator) (228)\n",
      "Requirement already satisfied: setuptools in c:\\users\\p4vv3\\appdata\\local\\programs\\python\\python38\\lib\\site-packages (from jupyter-contrib-core>=0.3.3->jupyter_nbextensions_configurator) (49.2.1)\n",
      "Requirement already satisfied: python-dateutil>=2.1 in c:\\users\\p4vv3\\appdata\\local\\programs\\python\\python38\\lib\\site-packages (from jupyter-client>=5.3.4->notebook>=4.0->jupyter_nbextensions_configurator) (2.8.1)\n",
      "Requirement already satisfied: MarkupSafe>=0.23 in c:\\users\\p4vv3\\appdata\\local\\programs\\python\\python38\\lib\\site-packages (from jinja2->notebook>=4.0->jupyter_nbextensions_configurator) (1.1.1)\n",
      "Requirement already satisfied: testpath in c:\\users\\p4vv3\\appdata\\local\\programs\\python\\python38\\lib\\site-packages (from nbconvert->notebook>=4.0->jupyter_nbextensions_configurator) (0.4.4)\n",
      "Requirement already satisfied: mistune<2,>=0.8.1 in c:\\users\\p4vv3\\appdata\\local\\programs\\python\\python38\\lib\\site-packages (from nbconvert->notebook>=4.0->jupyter_nbextensions_configurator) (0.8.4)\n",
      "Requirement already satisfied: nbclient<0.6.0,>=0.5.0 in c:\\users\\p4vv3\\appdata\\local\\programs\\python\\python38\\lib\\site-packages (from nbconvert->notebook>=4.0->jupyter_nbextensions_configurator) (0.5.0)\n",
      "Requirement already satisfied: jupyterlab-pygments in c:\\users\\p4vv3\\appdata\\local\\programs\\python\\python38\\lib\\site-packages (from nbconvert->notebook>=4.0->jupyter_nbextensions_configurator) (0.1.1)\n",
      "Requirement already satisfied: bleach in c:\\users\\p4vv3\\appdata\\local\\programs\\python\\python38\\lib\\site-packages (from nbconvert->notebook>=4.0->jupyter_nbextensions_configurator) (3.1.5)\n",
      "Requirement already satisfied: pandocfilters>=1.4.1 in c:\\users\\p4vv3\\appdata\\local\\programs\\python\\python38\\lib\\site-packages (from nbconvert->notebook>=4.0->jupyter_nbextensions_configurator) (1.4.2)\n",
      "Requirement already satisfied: defusedxml in c:\\users\\p4vv3\\appdata\\local\\programs\\python\\python38\\lib\\site-packages (from nbconvert->notebook>=4.0->jupyter_nbextensions_configurator) (0.6.0)\n",
      "Requirement already satisfied: pygments>=2.4.1 in c:\\users\\p4vv3\\appdata\\local\\programs\\python\\python38\\lib\\site-packages (from nbconvert->notebook>=4.0->jupyter_nbextensions_configurator) (2.7.0)\n",
      "Requirement already satisfied: entrypoints>=0.2.2 in c:\\users\\p4vv3\\appdata\\local\\programs\\python\\python38\\lib\\site-packages (from nbconvert->notebook>=4.0->jupyter_nbextensions_configurator) (0.3)\n",
      "Requirement already satisfied: jsonschema!=2.5.0,>=2.4 in c:\\users\\p4vv3\\appdata\\local\\programs\\python\\python38\\lib\\site-packages (from nbformat->notebook>=4.0->jupyter_nbextensions_configurator) (3.2.0)\n",
      "Requirement already satisfied: six in c:\\users\\p4vv3\\appdata\\local\\programs\\python\\python38\\lib\\site-packages (from argon2-cffi->notebook>=4.0->jupyter_nbextensions_configurator) (1.15.0)\n",
      "Requirement already satisfied: cffi>=1.0.0 in c:\\users\\p4vv3\\appdata\\local\\programs\\python\\python38\\lib\\site-packages (from argon2-cffi->notebook>=4.0->jupyter_nbextensions_configurator) (1.14.2)\n",
      "Requirement already satisfied: ipython>=5.0.0 in c:\\users\\p4vv3\\appdata\\local\\programs\\python\\python38\\lib\\site-packages (from ipykernel->notebook>=4.0->jupyter_nbextensions_configurator) (7.18.1)\n",
      "Requirement already satisfied: pywinpty>=0.5; os_name == \"nt\" in c:\\users\\p4vv3\\appdata\\local\\programs\\python\\python38\\lib\\site-packages (from terminado>=0.8.3->notebook>=4.0->jupyter_nbextensions_configurator) (0.5.7)\n",
      "Requirement already satisfied: async-generator in c:\\users\\p4vv3\\appdata\\local\\programs\\python\\python38\\lib\\site-packages (from nbclient<0.6.0,>=0.5.0->nbconvert->notebook>=4.0->jupyter_nbextensions_configurator) (1.10)\n",
      "Requirement already satisfied: nest-asyncio in c:\\users\\p4vv3\\appdata\\local\\programs\\python\\python38\\lib\\site-packages (from nbclient<0.6.0,>=0.5.0->nbconvert->notebook>=4.0->jupyter_nbextensions_configurator) (1.4.0)\n",
      "Requirement already satisfied: packaging in c:\\users\\p4vv3\\appdata\\local\\programs\\python\\python38\\lib\\site-packages (from bleach->nbconvert->notebook>=4.0->jupyter_nbextensions_configurator) (20.4)\n",
      "Requirement already satisfied: webencodings in c:\\users\\p4vv3\\appdata\\local\\programs\\python\\python38\\lib\\site-packages (from bleach->nbconvert->notebook>=4.0->jupyter_nbextensions_configurator) (0.5.1)\n",
      "Requirement already satisfied: attrs>=17.4.0 in c:\\users\\p4vv3\\appdata\\local\\programs\\python\\python38\\lib\\site-packages (from jsonschema!=2.5.0,>=2.4->nbformat->notebook>=4.0->jupyter_nbextensions_configurator) (20.2.0)\n",
      "Requirement already satisfied: pyrsistent>=0.14.0 in c:\\users\\p4vv3\\appdata\\local\\programs\\python\\python38\\lib\\site-packages (from jsonschema!=2.5.0,>=2.4->nbformat->notebook>=4.0->jupyter_nbextensions_configurator) (0.17.3)\n",
      "Requirement already satisfied: pycparser in c:\\users\\p4vv3\\appdata\\local\\programs\\python\\python38\\lib\\site-packages (from cffi>=1.0.0->argon2-cffi->notebook>=4.0->jupyter_nbextensions_configurator) (2.20)\n",
      "Requirement already satisfied: pickleshare in c:\\users\\p4vv3\\appdata\\local\\programs\\python\\python38\\lib\\site-packages (from ipython>=5.0.0->ipykernel->notebook>=4.0->jupyter_nbextensions_configurator) (0.7.5)\n",
      "Requirement already satisfied: decorator in c:\\users\\p4vv3\\appdata\\local\\programs\\python\\python38\\lib\\site-packages (from ipython>=5.0.0->ipykernel->notebook>=4.0->jupyter_nbextensions_configurator) (4.4.2)\n",
      "Requirement already satisfied: backcall in c:\\users\\p4vv3\\appdata\\local\\programs\\python\\python38\\lib\\site-packages (from ipython>=5.0.0->ipykernel->notebook>=4.0->jupyter_nbextensions_configurator) (0.2.0)\n",
      "Requirement already satisfied: prompt-toolkit!=3.0.0,!=3.0.1,<3.1.0,>=2.0.0 in c:\\users\\p4vv3\\appdata\\local\\programs\\python\\python38\\lib\\site-packages (from ipython>=5.0.0->ipykernel->notebook>=4.0->jupyter_nbextensions_configurator) (3.0.7)\n",
      "Requirement already satisfied: jedi>=0.10 in c:\\users\\p4vv3\\appdata\\local\\programs\\python\\python38\\lib\\site-packages (from ipython>=5.0.0->ipykernel->notebook>=4.0->jupyter_nbextensions_configurator) (0.17.2)\n",
      "Requirement already satisfied: colorama; sys_platform == \"win32\" in c:\\users\\p4vv3\\appdata\\local\\programs\\python\\python38\\lib\\site-packages (from ipython>=5.0.0->ipykernel->notebook>=4.0->jupyter_nbextensions_configurator) (0.4.3)\n",
      "Requirement already satisfied: pyparsing>=2.0.2 in c:\\users\\p4vv3\\appdata\\local\\programs\\python\\python38\\lib\\site-packages (from packaging->bleach->nbconvert->notebook>=4.0->jupyter_nbextensions_configurator) (2.4.7)\n",
      "Requirement already satisfied: wcwidth in c:\\users\\p4vv3\\appdata\\local\\programs\\python\\python38\\lib\\site-packages (from prompt-toolkit!=3.0.0,!=3.0.1,<3.1.0,>=2.0.0->ipython>=5.0.0->ipykernel->notebook>=4.0->jupyter_nbextensions_configurator) (0.2.5)\n",
      "Requirement already satisfied: parso<0.8.0,>=0.7.0 in c:\\users\\p4vv3\\appdata\\local\\programs\\python\\python38\\lib\\site-packages (from jedi>=0.10->ipython>=5.0.0->ipykernel->notebook>=4.0->jupyter_nbextensions_configurator) (0.7.1)\n"
     ]
    },
    {
     "name": "stderr",
     "output_type": "stream",
     "text": [
      "WARNING: You are using pip version 20.2.1; however, version 20.3 is available.\n",
      "You should consider upgrading via the 'c:\\users\\p4vv3\\appdata\\local\\programs\\python\\python38\\python.exe -m pip install --upgrade pip' command.\n"
     ]
    }
   ],
   "source": [
    "!{sys.executable} -m pip install jupyter_contrib_nbextensions\n",
    "!{sys.executable} -m pip install jupyter_nbextensions_configurator"
   ]
  },
  {
   "cell_type": "code",
   "execution_count": 11,
   "metadata": {},
   "outputs": [
    {
     "data": {
      "text/plain": [
       "'c:\\\\users\\\\p4vv3\\\\appdata\\\\local\\\\programs\\\\python\\\\python38\\\\python.exe'"
      ]
     },
     "execution_count": 11,
     "metadata": {},
     "output_type": "execute_result"
    }
   ],
   "source": [
    "sys.executable"
   ]
  }
 ],
 "metadata": {
  "kernelspec": {
   "display_name": "Python 3",
   "language": "python",
   "name": "python3"
  },
  "language_info": {
   "codemirror_mode": {
    "name": "ipython",
    "version": 3
   },
   "file_extension": ".py",
   "mimetype": "text/x-python",
   "name": "python",
   "nbconvert_exporter": "python",
   "pygments_lexer": "ipython3",
   "version": "3.8.6rc1"
  }
 },
 "nbformat": 4,
 "nbformat_minor": 4
}

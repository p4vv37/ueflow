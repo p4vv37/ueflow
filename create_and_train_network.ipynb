{
 "cells": [
  {
   "cell_type": "code",
   "execution_count": 1,
   "metadata": {},
   "outputs": [],
   "source": [
    "import time\n",
    "#time.sleep(60*60*3)\n",
    "import os\n",
    "os.environ[\"TF_GPU_THREAD_MODE\"] = \"gpu_private\""
   ]
  },
  {
   "cell_type": "code",
   "execution_count": 2,
   "metadata": {},
   "outputs": [
    {
     "name": "stdout",
     "output_type": "stream",
     "text": [
      "WARNING:tensorflow:From <ipython-input-2-36f85b27b920>:24: is_gpu_available (from tensorflow.python.framework.test_util) is deprecated and will be removed in a future version.\n",
      "Instructions for updating:\n",
      "Use `tf.config.list_physical_devices('GPU')` instead.\n"
     ]
    },
    {
     "data": {
      "text/plain": [
       "True"
      ]
     },
     "execution_count": 2,
     "metadata": {},
     "output_type": "execute_result"
    }
   ],
   "source": [
    "import os\n",
    "# --- Uncomment to use only CPU (e.g. GPU memory is too small)\n",
    "# os.environ[\"CUDA_DEVICE_ORDER\"] = \"PCI_BUS_ID\"   # see issue #152\n",
    "# os.environ[\"CUDA_VISIBLE_DEVICES\"] = \"-1\"\n",
    "\n",
    "import tensorflow as tf\n",
    "physical_devices = tf.config.list_physical_devices('GPU') \n",
    "gpu_devices = tf.config.experimental.list_physical_devices(\"GPU\")\n",
    "tf.config.experimental.set_memory_growth(physical_devices[0], True)\n",
    "for device in gpu_devices:\n",
    "    tf.config.experimental.set_memory_growth(device, True)\n",
    "\n",
    "from tensorflow.compat.v1 import ConfigProto\n",
    "from tensorflow.compat.v1 import InteractiveSession\n",
    "config = ConfigProto()\n",
    "config.gpu_options.allow_growth = True\n",
    "session = InteractiveSession(config=config)\n",
    "\n",
    "    \n",
    "from tensorflow import keras\n",
    "from tensorflow.python.data import AUTOTUNE\n",
    "\n",
    "    \n",
    "tf.test.is_gpu_available(cuda_only=True) "
   ]
  },
  {
   "cell_type": "code",
   "execution_count": 3,
   "metadata": {},
   "outputs": [
    {
     "name": "stderr",
     "output_type": "stream",
     "text": [
      "2021-03-06 12:18:01,616: Logger started.\n"
     ]
    }
   ],
   "source": [
    "# reate logger - nicer formatting\n",
    "import logging\n",
    "\n",
    "logger = logging.getLogger()\n",
    "logging._warn_preinit_stderr = 0\n",
    "logger.setLevel(logging.INFO)\n",
    "formatter = logging.Formatter('%(asctime)s: %(message)s')\n",
    "ch = logging.StreamHandler()\n",
    "ch.setFormatter(formatter)\n",
    "logger.handlers = [ch]\n",
    "logger.info(\"Logger started.\")"
   ]
  },
  {
   "cell_type": "code",
   "execution_count": null,
   "metadata": {
    "pycharm": {
     "name": "#%%\n"
    }
   },
   "outputs": [],
   "source": []
  },
  {
   "cell_type": "code",
   "execution_count": 4,
   "metadata": {
    "pycharm": {
     "name": "#%%\n"
    }
   },
   "outputs": [],
   "source": [
    "# Coppied from pickle2sqlite.ipynb\n",
    "\n",
    "\n",
    "import itertools\n",
    "import math\n",
    "import os\n",
    "import pickle\n",
    "import numpy as np\n",
    "\n",
    "\n",
    "def angle_to_sin_cos(angle):\n",
    "    return [math.sin(angle), math.cos(angle)]\n",
    "\n",
    "\n",
    "def sin_cos_to_angle(sin, cos):\n",
    "    return math.atan2(sin, cos)\n",
    "\n",
    "def angle_to_sin_and_back(angle):\n",
    "    return math.atan2(*angle_to_sin_cos(angle))\n",
    "\n",
    "def to_abs_with_sin_cos(arr):\n",
    "    result = list()\n",
    "    for box in arr:\n",
    "        angles = [angle_to_sin_cos(angle) for angle in box[3:]]\n",
    "        result.append(list(box[:3]) + list(itertools.chain(*angles)))\n",
    "    return np.asarray(result)\n",
    "\n",
    "def process_abs_sample(sample):\n",
    "    \"\"\" Changes sample in form of single 6 elements array to houdini compatible vec3 pos and vec4 orient \"\"\"\n",
    "    orient = [sin_cos_to_angle(sample[3+2*x], sample[4+2*x]) for x in range(3)] + [1]\n",
    "    return sample[:3], orient\n",
    "\n",
    "class DataProcessor(object):\n",
    "    \"\"\" Code responsible for processing of data gathered into a class for readability.\n",
    "\n",
    "    Trying few different approaches to data representation to test what works best:\n",
    "\n",
    "    For every frame n following representations are calculated:\n",
    "    - x_delta: array (4, 6) of delta between frames n and n-1: (Δx, Δy, Δz, Δα , Δβ, Δγ)\n",
    "    - x_abs_n_minus_1: array (2, 4, 9) of absolute values in frame n-1\n",
    "    - x_abs_n: x_abs in in frame n\n",
    "      Structure of x_abs_*: [[x, y, z, sin(α), cos(α), sin(β), cos(β), sin(γ), cos(γ)], [...]]\n",
    "    - x_force: array of forces in frame n: (power, sin(Φ), cos(Φ)\n",
    "\n",
    "    - y_delta: array (4, 6) of delta between frames n and n+1\n",
    "    - y_abs: array (4, 9) of absolute values in frame n+1\n",
    "\n",
    "    Data is passed to neural networks in forms:\n",
    "    - x: (x_delta, x_force) y: y_delta\n",
    "    - x: (x_delta, x_abs_n, x_force) y: y_delta\n",
    "    - x: (x_delta, x_abs_n, x_force) y: y_abs\n",
    "    - x: (x_abs_n_minus_1, x_abs_n, x_force) y: y_abs\n",
    "    - x: (x_abs_n_minus_1, x_abs_n, x_force) y: y_delta\n",
    "    \"\"\"\n",
    "    def __init__(self, paths):\n",
    "        # self.x_delta = np.empty((1, 4, 6))\n",
    "        # self.x_abs_n_minus_1 = np.empty((1, 4, 9))\n",
    "        # self.x_abs_n = np.empty((1, 4, 9))\n",
    "        # self.x_force = np.empty((1, 3))\n",
    "        #\n",
    "        # self.y_delta = np.empty((1, 4, 6))\n",
    "        # self.y_abs = np.empty((1, 4, 9))\n",
    "\n",
    "        self.x_delta = list()\n",
    "        self.x_abs_n_minus_1 = list()\n",
    "        self.x_abs_n = list()\n",
    "        self.x_force = list()\n",
    "\n",
    "        self.y_delta = list()\n",
    "        self.y_abs = list()\n",
    "\n",
    "        for num, file_path in enumerate(paths):\n",
    "            print(\"{} / {}\".format(num, len(file_paths)), end=\"\\r\")\n",
    "            with open(file_path, \"rb\") as f:\n",
    "                frames = pickle.load(f)\n",
    "                filename = os.path.basename(file_path)\n",
    "                force, force_angle = [float(part) for part in filename.split(\"_\")]\n",
    "                last_frame = None\n",
    "                for num, (frame, next_frame) in enumerate(zip(frames[:-1], frames[1:])):\n",
    "                    # print(num, end=\"\\r\")\n",
    "                    if num <=2:\n",
    "                        frame_force = 0\n",
    "                    else:\n",
    "                        frame_force = force\n",
    "                    if last_frame is not None:\n",
    "                        x_force = np.asarray(angle_to_sin_cos(force_angle) + [frame_force])\n",
    "                        n_minus_1_abs = np.asarray([f[0] + f[1][:-1] for f in last_frame])\n",
    "                        n_abs = np.asarray([f[0] + f[1][:-1] for f in frame])\n",
    "                        n_plus_1_abs = np.asarray([f[0] + f[1][:-1] for f in next_frame])\n",
    "\n",
    "                        x_delta = n_abs - n_minus_1_abs\n",
    "                        y_delta = n_plus_1_abs - n_abs\n",
    "\n",
    "                        n_minus_1_abs = to_abs_with_sin_cos(n_minus_1_abs)\n",
    "                        n_abs = to_abs_with_sin_cos(n_abs)\n",
    "                        y_abs = to_abs_with_sin_cos(n_plus_1_abs)\n",
    "\n",
    "                        self.x_delta.append(x_delta)\n",
    "                        self.x_abs_n_minus_1.append(n_minus_1_abs)\n",
    "                        self.x_abs_n.append(n_abs)\n",
    "                        self.x_force.append(x_force)\n",
    "\n",
    "                        self.y_delta.append(y_delta)\n",
    "                        self.y_abs.append(y_abs)\n",
    "                    last_frame = frame\n",
    "\n",
    "        self.x_delta = np.asarray(self.x_delta)\n",
    "        self.x_abs_n_minus_1 = np.asarray(self.x_abs_n_minus_1)\n",
    "        self.x_abs_n = np.asarray(self.x_abs_n)\n",
    "        self.x_force = np.asarray(self.x_force)\n",
    "\n",
    "        self.y_delta = np.asarray(self.y_delta)\n",
    "        self.y_abs = np.asarray(self.y_abs)"
   ]
  },
  {
   "cell_type": "code",
   "execution_count": 5,
   "metadata": {
    "pycharm": {
     "name": "#%%\n"
    }
   },
   "outputs": [
    {
     "name": "stdout",
     "output_type": "stream",
     "text": [
      "1799 / 1800\r"
     ]
    }
   ],
   "source": [
    "from tensorflow.data import Dataset\n",
    "\n",
    "\n",
    "data_dir = os.path.normpath(\"samplesGeneration/data\")\n",
    "file_names = os.listdir(data_dir)\n",
    "file_paths = [os.path.join(data_dir, file_name) for file_name in file_names]\n",
    "dp = DataProcessor(file_paths)"
   ]
  },
  {
   "cell_type": "code",
   "execution_count": 6,
   "metadata": {},
   "outputs": [],
   "source": [
    "from tensorflow.keras.callbacks import EarlyStopping, TensorBoard, ModelCheckpoint\n",
    "early_stopping = EarlyStopping(monitor='val_loss', patience=4)\n",
    "\n",
    "\n",
    "models_dir = os.path.join(os.getcwd(), \"samplesGeneration\", \"logs\")"
   ]
  },
  {
   "cell_type": "code",
   "execution_count": 7,
   "metadata": {
    "pycharm": {
     "name": "#%%\n"
    }
   },
   "outputs": [
    {
     "name": "stderr",
     "output_type": "stream",
     "text": [
      "2021-03-06 12:18:41,890: start\n"
     ]
    }
   ],
   "source": [
    "from tensorflow.keras import Input, Model\n",
    "from tensorflow.keras.layers import Dense, Dropout, Flatten, Reshape, Concatenate\n",
    "from tensorflow.keras.layers import LSTM, GRU\n",
    "import time\n",
    "import tensorflow.keras.backend as K\n",
    "\n",
    "\n",
    "def special_loss(y_true, y_pred):\n",
    "    custom_loss=tf.add(tf.square(y_true-y_pred)/tf.add(tf.square(y_pred), 0.1), tf.k.losses.MSE(y_true, y_pred))\n",
    "    return custom_loss\n",
    "\n",
    "def loss(y_true,y_pred):\n",
    "    return K.sum(K.square(y_pred - y_true) * K.square(100 * y_true) + K.square(y_pred - y_true))\n",
    "\n",
    "# physical_devices = tf.config.experimental.list_physical_devices('GPU')\n",
    "# tf.config.experimental.set_memory_growth(physical_devices[0], True)\n",
    "\n",
    "def create_datasets(dp, y, batch_size=32):\n",
    "    number_of_samples = len(dp.x_abs_n)\n",
    "    indexes = np.arange(number_of_samples)\n",
    "    np.random.shuffle(indexes)\n",
    "    split = int(number_of_samples * 0.9)\n",
    "    val_length = number_of_samples - split\n",
    "    train_indexes = indexes[:split]\n",
    "    val_indexes = indexes[split:]\n",
    "\n",
    "    ds = tf.data.Dataset.from_tensor_slices(({\"x_abs_n_minus_1\": dp.x_abs_n_minus_1[train_indexes].reshape(split, 1, 4, -1),\n",
    "                                              \"x_abs_n\": dp.x_abs_n[train_indexes].reshape(split, 1, 4, -1),\n",
    "                                              \"x_delta\": dp.x_delta[train_indexes].reshape(split, 1, 4, -1),\n",
    "                                              \"x_force\": dp.x_force[train_indexes].reshape(split, 1, -1),\n",
    "                                              }, y[train_indexes].reshape(split, 1, 4, -1)))\n",
    "    ds.cache()\n",
    "    ds.shuffle(buffer_size=1000)\n",
    "    ds.batch(batch_size, drop_remainder=True)\n",
    "    ds.prefetch(buffer_size=AUTOTUNE)\n",
    "\n",
    "    val_ds = tf.data.Dataset.from_tensor_slices(({\"x_abs_n_minus_1\": dp.x_abs_n_minus_1[val_indexes].reshape(val_length, 1, 4, -1),\n",
    "                                              \"x_abs_n\": dp.x_abs_n[val_indexes].reshape(val_length, 1, 4, -1),\n",
    "                                              \"x_delta\": dp.x_delta[val_indexes].reshape(val_length, 1, 4, -1),\n",
    "                                              \"x_force\": dp.x_force[val_indexes].reshape(val_length, 1, -1),\n",
    "                                              }, y[val_indexes].reshape(val_length, 1, 4, -1)))\n",
    "    val_ds.cache()\n",
    "    val_ds.shuffle(buffer_size=1000)\n",
    "    val_ds.batch(batch_size, drop_remainder=True)\n",
    "    val_ds.prefetch(buffer_size=AUTOTUNE)\n",
    "\n",
    "    return ds, val_ds\n",
    "\n",
    "def create_and_train_network(dp, y, model_id=0, epohs=10, batch_size=32, model_generator=None):\n",
    "    y_shape = y[0].shape\n",
    "    log_dir = os.path.join(os.getcwd(), \"samplesGeneration\", \"logs_2\", \"model_{}_{}_{}_{}\".format(y.shape, y_shape, model_id, time.time()))\n",
    "    if not os.path.isdir(log_dir):\n",
    "        os.makedirs(log_dir)\n",
    "    tensorboard_callback = TensorBoard(log_dir=log_dir, histogram_freq=1, profile_batch = '500,520')\n",
    "\n",
    "    best_model_file = \"{}_{}_{}_model.h5\".format(y.shape, y_shape, model_id)\n",
    "    best_model = ModelCheckpoint(best_model_file, monitor='val_loss', mode='min',verbose=1, save_best_only=True)\n",
    "\n",
    "    class CustomSaveCallback(keras.callbacks.Callback):\n",
    "\n",
    "        def on_test_begin(self, logs=None):\n",
    "            self.model.save(\"model\\\\model_{}_{}_{}_{}\".format(y.shape, y_shape, model_id, time.time()), save_format='tf')\n",
    "    my_cb = CustomSaveCallback()\n",
    "    train_dataset, validation_dataset =  create_datasets(dp, y, batch_size)\n",
    "\n",
    "    def create_model0():\n",
    "        input_delta = Input(shape=(4, 6), name='x_delta')\n",
    "        input_abs = Input(shape=(4, 9), name='x_abs_n')\n",
    "        input_force = Input(shape=(3, 1), name='x_force')\n",
    "\n",
    "        input_delta_flat = Flatten()(input_delta)\n",
    "        input_abs_flat = Flatten()(input_abs)\n",
    "        input_force_flat = Flatten()(input_force)\n",
    "\n",
    "        x = Concatenate()([input_delta_flat, input_abs_flat, input_force_flat])\n",
    "        x = Dense(64, activation='relu')(x)\n",
    "        x = Dropout(0.2)(x)\n",
    "        x = Dense(128, activation='relu')(x)\n",
    "        x = Dropout(0.2)(x)\n",
    "        x = Dense(128, activation='relu')(x)\n",
    "        x = Dropout(0.2)(x)\n",
    "        x = Dense(np.prod(y_shape))(x)\n",
    "\n",
    "        output_1 = Reshape(y_shape)(x)\n",
    "        model = Model(inputs=[input_delta, input_abs, input_force], outputs=[output_1])\n",
    "        model.compile(loss=\"mse\", optimizer='rmsprop')\n",
    "        return model\n",
    "\n",
    "    def create_model1():\n",
    "        input_delta = Input(shape=(4, 6), name='x_delta')\n",
    "        input_abs = Input(shape=(4, 9), name='x_abs_n')\n",
    "        input_force = Input(shape=(3, 1), name='x_force')\n",
    "\n",
    "        input_delta_flat = Flatten()(input_delta)\n",
    "        input_abs_flat = Flatten()(input_abs)\n",
    "        input_force_flat = Flatten()(input_force)\n",
    "\n",
    "        x = Dense(64, activation='relu')(input_force_flat)\n",
    "        x = Dropout(0.2)(x)\n",
    "        x = Concatenate()([x, input_delta_flat])\n",
    "        x = Dense(128, activation='relu')(x)\n",
    "        x = Dropout(0.2)(x)\n",
    "        x = Concatenate()([x, input_abs_flat])\n",
    "        x = Dense(128, activation='relu')(x)\n",
    "        x = Dropout(0.2)(x)\n",
    "        x = Dense(np.prod(y_shape))(x)\n",
    "\n",
    "        output_1 = Reshape(y_shape)(x)\n",
    "        model = Model(inputs=[input_delta, input_abs, input_force], outputs=[output_1])\n",
    "        model.compile(loss=\"mse\", optimizer='rmsprop')\n",
    "        return model\n",
    "\n",
    "    def create_model2():\n",
    "        input_delta = Input(shape=(4, 6), name='x_delta')\n",
    "        input_abs = Input(shape=(4, 9), name='x_abs_n')\n",
    "        input_force = Input(shape=(3, 1), name='x_force')\n",
    "\n",
    "        input_delta_flat = Flatten()(input_delta)\n",
    "        input_abs_flat = Flatten()(input_abs)\n",
    "        input_force_flat = Flatten()(input_force)\n",
    "\n",
    "        x = Concatenate()([input_delta_flat, input_abs_flat, input_force_flat])\n",
    "        x = Dense(128, activation='relu')(x)\n",
    "        x = Dropout(0.2)(x)\n",
    "        x = Dense(128, activation='relu')(x)\n",
    "        x = Dropout(0.2)(x)\n",
    "        x = Dense(64, activation='relu')(x)\n",
    "        x = Dropout(0.2)(x)\n",
    "        x = Dense(64, activation='relu')(x)\n",
    "        x = Dropout(0.2)(x)\n",
    "        x = Dense(np.prod(y_shape))(x)\n",
    "\n",
    "        output_1 = Reshape(y_shape)(x)\n",
    "        model = Model(inputs=[input_delta, input_abs, input_force], outputs=[output_1])\n",
    "        model.compile(loss=\"mse\", optimizer='rmsprop')\n",
    "        return model\n",
    "\n",
    "    def create_model3():\n",
    "        input_delta = Input(shape=(4, 6), name='x_delta')\n",
    "        input_abs_0 = Input(shape=(4, 9), name='x_abs_n_minus_1')\n",
    "        input_abs = Input(shape=(4, 9), name='x_abs_n')\n",
    "        input_force = Input(shape=(3, 1), name='x_force')\n",
    "\n",
    "        input_abs_0_flat = Flatten()(input_abs_0)\n",
    "        input_abs_flat = Flatten()(input_abs)\n",
    "        input_force_flat = Flatten()(input_force)\n",
    "        x = Concatenate()([input_abs_0_flat, input_abs_flat])\n",
    "        x = Reshape((2, 4*9))(x)\n",
    "        x = LSTM(np.prod(y_shape), return_sequences=False, dropout=0.2,\n",
    "        activation=\"tanh\", recurrent_activation=\"sigmoid\", recurrent_dropout=0, unroll=False, use_bias=True\n",
    "                )(x)\n",
    "        x = Dense(np.prod(y_shape))(x)\n",
    "\n",
    "        output_1 = Reshape(y_shape)(x)\n",
    "        model = Model(inputs=[input_abs_0, input_abs, input_force], outputs=[output_1])\n",
    "        model.compile(loss=\"mse\", optimizer='rmsprop')\n",
    "        return model\n",
    "\n",
    "    def create_model4():\n",
    "        input_delta = Input(shape=(4, 6), name='x_delta')\n",
    "        input_abs_0 = Input(shape=(4, 9), name='x_abs_n_minus_1')\n",
    "        input_abs = Input(shape=(4, 9), name='x_abs_n')\n",
    "        input_force = Input(shape=(3, 1), name='x_force')\n",
    "\n",
    "        input_abs_0_flat = Flatten()(input_abs_0)\n",
    "        input_abs_flat = Flatten()(input_abs)\n",
    "        input_force_flat = Flatten()(input_force)\n",
    "        x = Concatenate()([input_abs_0_flat, input_abs_flat])\n",
    "        x = Reshape((2, 4*9))(x)\n",
    "        x = GRU(np.prod(y_shape), return_sequences=False,\n",
    "        activation=\"tanh\", recurrent_activation=\"sigmoid\", recurrent_dropout=0, unroll=False, use_bias=True, reset_after=True\n",
    "        )(x)\n",
    "        x = Flatten()(x)\n",
    "        x = Concatenate()([x, input_force_flat])\n",
    "        x = Dropout(0.2)(x)\n",
    "        x = Dense(np.prod(y_shape))(x)\n",
    "\n",
    "        output_1 = Reshape(y_shape)(x)\n",
    "        model = Model(inputs=[input_abs_0, input_abs, input_force], outputs=[output_1])\n",
    "        model.compile(loss=\"mse\", optimizer='rmsprop')\n",
    "        return model\n",
    "\n",
    "    logger.info(\"Create model...\")\n",
    "    if model_generator is not None:\n",
    "        model = model_generator()\n",
    "    elif model_id == 0:\n",
    "        model = create_model0()\n",
    "    elif model_id == 1:\n",
    "        model = create_model1()\n",
    "    elif model_id == 2:\n",
    "        model = create_model2()\n",
    "    elif model_id == 3:\n",
    "        model = create_model3()\n",
    "    elif model_id == 4:\n",
    "        model = create_model4()\n",
    "    model.summary()\n",
    "    logger.info(\"Fit model..\")\n",
    "    network = model.fit(train_dataset, validation_data=validation_dataset, verbose=1,\n",
    "                        epochs=epohs, callbacks=[my_cb, early_stopping, best_model, tensorboard_callback])\n",
    "    logger.info(\"Summary\")\n",
    "    model.summary()\n",
    "\n",
    "    models_dir = os.path.join(os.getcwd(), \"samplesGeneration\", \"logs\", \"model_{}\".format(time.time()))\n",
    "    model.save(os.path.join(models_dir, \"model\"))\n",
    "    return network\n",
    "\n",
    "logger.info(\"start\")\n",
    "\n",
    "#training_generator = tf.data.Dataset.from_generator(lambda: training_generator,\n",
    "#                                                    output_types=(tf.float32, tf.float32))\n",
    "#validation_generator = tf.data.Dataset.from_generator(lambda: training_generator,\n",
    "#                                                    output_types=(tf.float32, tf.float32))"
   ]
  },
  {
   "cell_type": "code",
   "execution_count": 8,
   "metadata": {},
   "outputs": [],
   "source": [
    "# create_and_train_network(dp, dp.y_delta, 0)\n",
    "# create_and_train_network(dp, dp.y_delta, 1)\n",
    "# create_and_train_network(dp, dp.y_delta, 2)"
   ]
  },
  {
   "cell_type": "code",
   "execution_count": 9,
   "metadata": {
    "pycharm": {
     "is_executing": true,
     "name": "#%%\n"
    }
   },
   "outputs": [],
   "source": [
    "\n",
    "# create_and_train_network(dp, dp.y_delta, 1)"
   ]
  },
  {
   "cell_type": "code",
   "execution_count": 10,
   "metadata": {},
   "outputs": [],
   "source": [
    "\n",
    "#create_and_train_network(dp, dp.y_abs, 0)\n",
    "#create_and_train_network(dp, dp.y_abs, 1)"
   ]
  },
  {
   "cell_type": "code",
   "execution_count": 11,
   "metadata": {},
   "outputs": [],
   "source": [
    "#create_and_train_network(dp, dp.y_abs, 4)"
   ]
  },
  {
   "cell_type": "code",
   "execution_count": 12,
   "metadata": {},
   "outputs": [],
   "source": [
    "#create_and_train_network(dp, dp.y_delta, 4)"
   ]
  },
  {
   "cell_type": "code",
   "execution_count": 13,
   "metadata": {},
   "outputs": [],
   "source": [
    "def create_model2_improved():\n",
    "    input_delta = Input(shape=(4, 6), name='x_delta')\n",
    "    input_abs = Input(shape=(4, 9), name='x_abs_n')\n",
    "    input_force = Input(shape=(3, 1), name='x_force')\n",
    "\n",
    "    input_delta_flat = Flatten()(input_delta)\n",
    "    input_abs_flat = Flatten()(input_abs)\n",
    "    input_force_flat = Flatten()(input_force)\n",
    "\n",
    "    x = Concatenate()([input_delta_flat, input_abs_flat, input_force_flat])\n",
    "    x = Dense(128, activation='relu')(x)\n",
    "    x = Dropout(0.2)(x)\n",
    "    x = Dense(256, activation='relu')(x)\n",
    "    x = Dropout(0.2)(x)\n",
    "    x = Dense(512, activation='relu')(x)\n",
    "    x = Dropout(0.2)(x)\n",
    "    x = Dense(2048, activation='relu')(x)\n",
    "    x = Dropout(0.2)(x)\n",
    "    x = Dense(512, activation='relu')(x)\n",
    "    x = Dropout(0.2)(x)\n",
    "    x = Dense(256, activation='relu')(x)\n",
    "    x = Dropout(0.2)(x)\n",
    "    x = Dense(64, activation='relu')(x)\n",
    "    x = Dropout(0.2)(x)\n",
    "    x = Dense(np.prod(dp.y_delta[1].shape))(x)\n",
    "\n",
    "    output_1 = Reshape(dp.y_delta[1].shape)(x)\n",
    "    model = Model(inputs=[input_delta, input_abs, input_force], outputs=[output_1])\n",
    "    model.compile(loss=\"mse\", optimizer='rmsprop')\n",
    "    return model\n",
    "# 0.0091\n",
    "# create_and_train_network(dp, dp.y_delta, 10, model_generator=create_model2_improved)"
   ]
  },
  {
   "cell_type": "code",
   "execution_count": 14,
   "metadata": {},
   "outputs": [],
   "source": [
    "def create_model2_improved():\n",
    "    input_delta = Input(shape=(4, 6), name='x_delta')\n",
    "    input_abs = Input(shape=(4, 9), name='x_abs_n')\n",
    "    input_force = Input(shape=(3, 1), name='x_force')\n",
    "\n",
    "    input_delta_flat = Flatten()(input_delta)\n",
    "    input_abs_flat = Flatten()(input_abs)\n",
    "    input_force_flat = Flatten()(input_force)\n",
    "\n",
    "    x = Concatenate()([input_delta_flat, input_abs_flat, input_force_flat])\n",
    "    x = Dense(128, activation='relu')(x)\n",
    "    x = Dropout(0.2)(x)\n",
    "    x = Dense(256, activation='relu')(x)\n",
    "    x = Dropout(0.2)(x)\n",
    "    x = Dense(512, activation='relu')(x)\n",
    "    x = Dropout(0.2)(x)\n",
    "    x = Dense(512, activation='relu')(x)\n",
    "    x = Dropout(0.2)(x)\n",
    "    x = Dense(512, activation='relu')(x)\n",
    "    x = Dropout(0.2)(x)\n",
    "    x = Dense(256, activation='relu')(x)\n",
    "    x = Dropout(0.2)(x)\n",
    "    x = Dense(64, activation='relu')(x)\n",
    "    x = Dropout(0.2)(x)\n",
    "    x = Dense(np.prod(dp.y_abs[1].shape))(x)\n",
    "\n",
    "    output_1 = Reshape(dp.y_abs[1].shape)(x)\n",
    "    model = Model(inputs=[input_delta, input_abs, input_force], outputs=[output_1])\n",
    "    model.compile(loss=\"mse\", optimizer='rmsprop')\n",
    "    return model\n",
    "#create_and_train_network(dp, dp.y_abs, 5, model_generator=create_model2_improved)"
   ]
  },
  {
   "cell_type": "code",
   "execution_count": 15,
   "metadata": {},
   "outputs": [],
   "source": [
    "def create_model4_improved():\n",
    "    input_delta = Input(shape=(4, 6), name='x_delta')\n",
    "    input_abs_0 = Input(shape=(4, 9), name='x_abs_n_minus_1')\n",
    "    input_abs = Input(shape=(4, 9), name='x_abs_n')\n",
    "    input_force = Input(shape=(3, 1), name='x_force')\n",
    "\n",
    "    input_abs_0_flat = Flatten()(input_abs_0)\n",
    "    input_abs_flat = Flatten()(input_abs)\n",
    "    input_force_flat = Flatten()(input_force)\n",
    "    x = Concatenate()([input_abs_0_flat, input_abs_flat])\n",
    "    x = Reshape((2, 4*9))(x)\n",
    "    x = GRU(np.prod(dp.y_delta[0].shape) * 2, return_sequences=False,\n",
    "    activation=\"tanh\", recurrent_activation=\"sigmoid\", recurrent_dropout=0, unroll=False, use_bias=True, reset_after=True\n",
    "    )(x)\n",
    "    x = Flatten()(x)\n",
    "    x = Concatenate()([x, input_force_flat])\n",
    "    x = Dropout(0.2)(x)\n",
    "    x = Dense(np.prod(dp.y_delta[0].shape * 2), activation='relu')(x)\n",
    "    x = Dropout(0.2)(x)\n",
    "    x = Dense(np.prod(dp.y_delta[0].shape * 3), activation='relu')(x)\n",
    "    x = Dropout(0.2)(x)\n",
    "    x = Dense(np.prod(dp.y_delta[0].shape * 2), activation='relu')(x)\n",
    "    x = Dropout(0.2)(x)\n",
    "    x = Dense(np.prod(dp.y_delta[0].shape))(x)\n",
    "\n",
    "    output_1 = Reshape(dp.y_delta[0].shape)(x)\n",
    "    model = Model(inputs=[input_abs_0, input_abs, input_force], outputs=[output_1])\n",
    "    model.compile(loss=\"mse\", optimizer='rmsprop')\n",
    "    return model\n",
    "\n",
    "# 0.0092\n",
    "# create_and_train_network(dp, dp.y_delta, 11, model_generator=create_model4_improved)"
   ]
  },
  {
   "cell_type": "code",
   "execution_count": 16,
   "metadata": {},
   "outputs": [],
   "source": [
    "def create_model4_improved():\n",
    "    input_delta = Input(shape=(4, 6), name='x_delta')\n",
    "    input_abs_0 = Input(shape=(4, 9), name='x_abs_n_minus_1')\n",
    "    input_abs = Input(shape=(4, 9), name='x_abs_n')\n",
    "    input_force = Input(shape=(3, 1), name='x_force')\n",
    "\n",
    "    input_abs_0_flat = Flatten()(input_abs_0)\n",
    "    input_abs_flat = Flatten()(input_abs)\n",
    "    input_force_flat = Flatten()(input_force)\n",
    "    x = Concatenate()([input_abs_0_flat, input_abs_flat])\n",
    "    x = Reshape((2, 4*9))(x)\n",
    "    x = GRU(np.prod(dp.y_abs[0].shape * 2), return_sequences=False,\n",
    "    activation=\"tanh\", recurrent_activation=\"sigmoid\", recurrent_dropout=0, unroll=False, use_bias=True, reset_after=True\n",
    "    )(x)\n",
    "    x = Flatten()(x)\n",
    "    x = Concatenate()([x, input_force_flat])\n",
    "    x = Dropout(0.2)(x)\n",
    "    x = Dense(np.prod(dp.y_abs[0].shape * 2))(x)\n",
    "    x = Dropout(0.2)(x)\n",
    "    x = Dense(np.prod(dp.y_abs[0].shape * 2))(x)\n",
    "    x = Dropout(0.2)(x)\n",
    "    x = Dense(np.prod(dp.y_abs[0].shape))(x)\n",
    "\n",
    "    output_1 = Reshape(dp.y_abs[0].shape)(x)\n",
    "    model = Model(inputs=[input_abs_0, input_abs, input_force], outputs=[output_1])\n",
    "    model.compile(loss=\"mse\", optimizer='rmsprop')\n",
    "    return model\n",
    "\n",
    "#create_and_train_network(dp, dp.y_abs, 12, model_generator=create_model4_improved)"
   ]
  },
  {
   "cell_type": "code",
   "execution_count": 120,
   "metadata": {},
   "outputs": [
    {
     "name": "stderr",
     "output_type": "stream",
     "text": [
      "2021-03-07 09:59:10,206: Create model...\n",
      "2021-03-07 09:59:10,271: Fit model..\n",
      "/home/pawel/git/ueflow/venv/lib/python3.8/site-packages/tensorflow/python/keras/engine/functional.py:592: UserWarning: Input dict contained keys ['x_abs_n_minus_1', 'x_abs_n'] which did not match any model input. They will be ignored by the model.\n",
      "  warnings.warn(\n"
     ]
    },
    {
     "name": "stdout",
     "output_type": "stream",
     "text": [
      "Model: \"model_45\"\n",
      "__________________________________________________________________________________________________\n",
      "Layer (type)                    Output Shape         Param #     Connected to                     \n",
      "==================================================================================================\n",
      "x_delta (InputLayer)            [(None, 4, 6)]       0                                            \n",
      "__________________________________________________________________________________________________\n",
      "x_force (InputLayer)            [(None, 3, 1)]       0                                            \n",
      "__________________________________________________________________________________________________\n",
      "flatten_331 (Flatten)           (None, 24)           0           x_delta[0][0]                    \n",
      "__________________________________________________________________________________________________\n",
      "flatten_332 (Flatten)           (None, 3)            0           x_force[0][0]                    \n",
      "__________________________________________________________________________________________________\n",
      "concatenate_126 (Concatenate)   (None, 27)           0           flatten_331[0][0]                \n",
      "                                                                 flatten_332[0][0]                \n",
      "__________________________________________________________________________________________________\n",
      "dense_332 (Dense)               (None, 128)          3584        concatenate_126[0][0]            \n",
      "__________________________________________________________________________________________________\n",
      "dropout_199 (Dropout)           (None, 128)          0           dense_332[0][0]                  \n",
      "__________________________________________________________________________________________________\n",
      "batch_normalization_57 (BatchNo (None, 128)          512         dropout_199[0][0]                \n",
      "__________________________________________________________________________________________________\n",
      "dense_333 (Dense)               (None, 256)          33024       batch_normalization_57[0][0]     \n",
      "__________________________________________________________________________________________________\n",
      "dropout_200 (Dropout)           (None, 256)          0           dense_333[0][0]                  \n",
      "__________________________________________________________________________________________________\n",
      "dense_334 (Dense)               (None, 512)          131584      dropout_200[0][0]                \n",
      "__________________________________________________________________________________________________\n",
      "dropout_201 (Dropout)           (None, 512)          0           dense_334[0][0]                  \n",
      "__________________________________________________________________________________________________\n",
      "batch_normalization_58 (BatchNo (None, 512)          2048        dropout_201[0][0]                \n",
      "__________________________________________________________________________________________________\n",
      "dense_335 (Dense)               (None, 2048)         1050624     batch_normalization_58[0][0]     \n",
      "__________________________________________________________________________________________________\n",
      "dropout_202 (Dropout)           (None, 2048)         0           dense_335[0][0]                  \n",
      "__________________________________________________________________________________________________\n",
      "batch_normalization_59 (BatchNo (None, 2048)         8192        dropout_202[0][0]                \n",
      "__________________________________________________________________________________________________\n",
      "dense_336 (Dense)               (None, 512)          1049088     batch_normalization_59[0][0]     \n",
      "__________________________________________________________________________________________________\n",
      "dropout_203 (Dropout)           (None, 512)          0           dense_336[0][0]                  \n",
      "__________________________________________________________________________________________________\n",
      "dense_337 (Dense)               (None, 256)          131328      dropout_203[0][0]                \n",
      "__________________________________________________________________________________________________\n",
      "dropout_204 (Dropout)           (None, 256)          0           dense_337[0][0]                  \n",
      "__________________________________________________________________________________________________\n",
      "dense_338 (Dense)               (None, 64)           16448       dropout_204[0][0]                \n",
      "__________________________________________________________________________________________________\n",
      "dropout_205 (Dropout)           (None, 64)           0           dense_338[0][0]                  \n",
      "__________________________________________________________________________________________________\n",
      "batch_normalization_60 (BatchNo (None, 64)           256         dropout_205[0][0]                \n",
      "__________________________________________________________________________________________________\n",
      "dense_339 (Dense)               (None, 24)           1560        batch_normalization_60[0][0]     \n",
      "__________________________________________________________________________________________________\n",
      "reshape_113 (Reshape)           (None, 4, 6)         0           dense_339[0][0]                  \n",
      "==================================================================================================\n",
      "Total params: 2,428,248\n",
      "Trainable params: 2,422,744\n",
      "Non-trainable params: 5,504\n",
      "__________________________________________________________________________________________________\n",
      "Epoch 1/10\n",
      "     1/385560 [..............................] - ETA: 95:04:02 - loss: 0.0020WARNING:tensorflow:Callback method `on_train_batch_end` is slow compared to the batch time (batch time: 0.0031s vs `on_train_batch_end` time: 0.0053s). Check your callbacks.\n"
     ]
    },
    {
     "name": "stderr",
     "output_type": "stream",
     "text": [
      "2021-03-07 09:59:11,276: Callback method `on_train_batch_end` is slow compared to the batch time (batch time: 0.0031s vs `on_train_batch_end` time: 0.0053s). Check your callbacks.\n"
     ]
    },
    {
     "name": "stdout",
     "output_type": "stream",
     "text": [
      "385549/385560 [============================>.] - ETA: 0s - loss: 0.0090INFO:tensorflow:Assets written to: model\\model_(428400, 4, 6)_(4, 6)_15_1615108702.2145362/assets\n"
     ]
    },
    {
     "name": "stderr",
     "output_type": "stream",
     "text": [
      "2021-03-07 10:18:23,486: Assets written to: model\\model_(428400, 4, 6)_(4, 6)_15_1615108702.2145362/assets\n",
      "/home/pawel/git/ueflow/venv/lib/python3.8/site-packages/tensorflow/python/keras/engine/functional.py:592: UserWarning: Input dict contained keys ['x_abs_n_minus_1', 'x_abs_n'] which did not match any model input. They will be ignored by the model.\n",
      "  warnings.warn(\n"
     ]
    },
    {
     "name": "stdout",
     "output_type": "stream",
     "text": [
      "385560/385560 [==============================] - 1188s 3ms/step - loss: 0.0090 - val_loss: 14065442.0000\n",
      "\n",
      "Epoch 00001: val_loss improved from inf to 14065442.00000, saving model to (428400, 4, 6)_(4, 6)_15_model.h5\n",
      "Epoch 2/10\n",
      "385558/385560 [============================>.] - ETA: 0s - loss: 0.0090INFO:tensorflow:Assets written to: model\\model_(428400, 4, 6)_(4, 6)_15_1615109887.2892604/assets\n"
     ]
    },
    {
     "name": "stderr",
     "output_type": "stream",
     "text": [
      "2021-03-07 10:38:08,695: Assets written to: model\\model_(428400, 4, 6)_(4, 6)_15_1615109887.2892604/assets\n"
     ]
    },
    {
     "name": "stdout",
     "output_type": "stream",
     "text": [
      "385560/385560 [==============================] - 1185s 3ms/step - loss: 0.0090 - val_loss: 10617908.0000\n",
      "\n",
      "Epoch 00002: val_loss improved from 14065442.00000 to 10617908.00000, saving model to (428400, 4, 6)_(4, 6)_15_model.h5\n",
      "Epoch 3/10\n",
      "385544/385560 [============================>.] - ETA: 0s - loss: 0.0090INFO:tensorflow:Assets written to: model\\model_(428400, 4, 6)_(4, 6)_15_1615111075.454998/assets\n"
     ]
    },
    {
     "name": "stderr",
     "output_type": "stream",
     "text": [
      "2021-03-07 10:57:56,881: Assets written to: model\\model_(428400, 4, 6)_(4, 6)_15_1615111075.454998/assets\n"
     ]
    },
    {
     "name": "stdout",
     "output_type": "stream",
     "text": [
      "385560/385560 [==============================] - 1188s 3ms/step - loss: 0.0090 - val_loss: 16613919.0000\n",
      "\n",
      "Epoch 00003: val_loss did not improve from 10617908.00000\n",
      "Epoch 4/10\n",
      "385558/385560 [============================>.] - ETA: 0s - loss: 0.0090INFO:tensorflow:Assets written to: model\\model_(428400, 4, 6)_(4, 6)_15_1615112261.6153526/assets\n"
     ]
    },
    {
     "name": "stderr",
     "output_type": "stream",
     "text": [
      "2021-03-07 11:17:42,872: Assets written to: model\\model_(428400, 4, 6)_(4, 6)_15_1615112261.6153526/assets\n"
     ]
    },
    {
     "name": "stdout",
     "output_type": "stream",
     "text": [
      "385560/385560 [==============================] - 1186s 3ms/step - loss: 0.0090 - val_loss: 12727600.0000\n",
      "\n",
      "Epoch 00004: val_loss did not improve from 10617908.00000\n",
      "Epoch 5/10\n",
      "235685/385560 [=================>............] - ETA: 7:27 - loss: 0.0090"
     ]
    },
    {
     "ename": "KeyboardInterrupt",
     "evalue": "",
     "output_type": "error",
     "traceback": [
      "\u001b[0;31m---------------------------------------------------------------------------\u001b[0m",
      "\u001b[0;31mKeyboardInterrupt\u001b[0m                         Traceback (most recent call last)",
      "\u001b[0;32m<ipython-input-120-b7964e1dffb9>\u001b[0m in \u001b[0;36m<module>\u001b[0;34m\u001b[0m\n\u001b[1;32m     33\u001b[0m     \u001b[0mmodel\u001b[0m\u001b[0;34m.\u001b[0m\u001b[0mcompile\u001b[0m\u001b[0;34m(\u001b[0m\u001b[0mloss\u001b[0m\u001b[0;34m=\u001b[0m\u001b[0;34m\"mse\"\u001b[0m\u001b[0;34m,\u001b[0m \u001b[0moptimizer\u001b[0m\u001b[0;34m=\u001b[0m\u001b[0;34m'rmsprop'\u001b[0m\u001b[0;34m)\u001b[0m\u001b[0;34m\u001b[0m\u001b[0;34m\u001b[0m\u001b[0m\n\u001b[1;32m     34\u001b[0m     \u001b[0;32mreturn\u001b[0m \u001b[0mmodel\u001b[0m\u001b[0;34m\u001b[0m\u001b[0;34m\u001b[0m\u001b[0m\n\u001b[0;32m---> 35\u001b[0;31m \u001b[0mcreate_and_train_network\u001b[0m\u001b[0;34m(\u001b[0m\u001b[0mdp\u001b[0m\u001b[0;34m,\u001b[0m \u001b[0mdp\u001b[0m\u001b[0;34m.\u001b[0m\u001b[0my_delta\u001b[0m\u001b[0;34m,\u001b[0m \u001b[0;36m15\u001b[0m\u001b[0;34m,\u001b[0m \u001b[0mmodel_generator\u001b[0m\u001b[0;34m=\u001b[0m\u001b[0mcreate_model2_simple\u001b[0m\u001b[0;34m)\u001b[0m\u001b[0;34m\u001b[0m\u001b[0;34m\u001b[0m\u001b[0m\n\u001b[0m",
      "\u001b[0;32m<ipython-input-7-9617068755c2>\u001b[0m in \u001b[0;36mcreate_and_train_network\u001b[0;34m(dp, y, model_id, epohs, batch_size, model_generator)\u001b[0m\n\u001b[1;32m    196\u001b[0m     \u001b[0mmodel\u001b[0m\u001b[0;34m.\u001b[0m\u001b[0msummary\u001b[0m\u001b[0;34m(\u001b[0m\u001b[0;34m)\u001b[0m\u001b[0;34m\u001b[0m\u001b[0;34m\u001b[0m\u001b[0m\n\u001b[1;32m    197\u001b[0m     \u001b[0mlogger\u001b[0m\u001b[0;34m.\u001b[0m\u001b[0minfo\u001b[0m\u001b[0;34m(\u001b[0m\u001b[0;34m\"Fit model..\"\u001b[0m\u001b[0;34m)\u001b[0m\u001b[0;34m\u001b[0m\u001b[0;34m\u001b[0m\u001b[0m\n\u001b[0;32m--> 198\u001b[0;31m     network = model.fit(train_dataset, validation_data=validation_dataset, verbose=1,\n\u001b[0m\u001b[1;32m    199\u001b[0m                         epochs=epohs, callbacks=[my_cb, early_stopping, best_model, tensorboard_callback])\n\u001b[1;32m    200\u001b[0m     \u001b[0mlogger\u001b[0m\u001b[0;34m.\u001b[0m\u001b[0minfo\u001b[0m\u001b[0;34m(\u001b[0m\u001b[0;34m\"Summary\"\u001b[0m\u001b[0;34m)\u001b[0m\u001b[0;34m\u001b[0m\u001b[0;34m\u001b[0m\u001b[0m\n",
      "\u001b[0;32m~/git/ueflow/venv/lib/python3.8/site-packages/tensorflow/python/keras/engine/training.py\u001b[0m in \u001b[0;36mfit\u001b[0;34m(self, x, y, batch_size, epochs, verbose, callbacks, validation_split, validation_data, shuffle, class_weight, sample_weight, initial_epoch, steps_per_epoch, validation_steps, validation_batch_size, validation_freq, max_queue_size, workers, use_multiprocessing)\u001b[0m\n\u001b[1;32m   1098\u001b[0m                 _r=1):\n\u001b[1;32m   1099\u001b[0m               \u001b[0mcallbacks\u001b[0m\u001b[0;34m.\u001b[0m\u001b[0mon_train_batch_begin\u001b[0m\u001b[0;34m(\u001b[0m\u001b[0mstep\u001b[0m\u001b[0;34m)\u001b[0m\u001b[0;34m\u001b[0m\u001b[0;34m\u001b[0m\u001b[0m\n\u001b[0;32m-> 1100\u001b[0;31m               \u001b[0mtmp_logs\u001b[0m \u001b[0;34m=\u001b[0m \u001b[0mself\u001b[0m\u001b[0;34m.\u001b[0m\u001b[0mtrain_function\u001b[0m\u001b[0;34m(\u001b[0m\u001b[0miterator\u001b[0m\u001b[0;34m)\u001b[0m\u001b[0;34m\u001b[0m\u001b[0;34m\u001b[0m\u001b[0m\n\u001b[0m\u001b[1;32m   1101\u001b[0m               \u001b[0;32mif\u001b[0m \u001b[0mdata_handler\u001b[0m\u001b[0;34m.\u001b[0m\u001b[0mshould_sync\u001b[0m\u001b[0;34m:\u001b[0m\u001b[0;34m\u001b[0m\u001b[0;34m\u001b[0m\u001b[0m\n\u001b[1;32m   1102\u001b[0m                 \u001b[0mcontext\u001b[0m\u001b[0;34m.\u001b[0m\u001b[0masync_wait\u001b[0m\u001b[0;34m(\u001b[0m\u001b[0;34m)\u001b[0m\u001b[0;34m\u001b[0m\u001b[0;34m\u001b[0m\u001b[0m\n",
      "\u001b[0;32m~/git/ueflow/venv/lib/python3.8/site-packages/tensorflow/python/eager/def_function.py\u001b[0m in \u001b[0;36m__call__\u001b[0;34m(self, *args, **kwds)\u001b[0m\n\u001b[1;32m    826\u001b[0m     \u001b[0mtracing_count\u001b[0m \u001b[0;34m=\u001b[0m \u001b[0mself\u001b[0m\u001b[0;34m.\u001b[0m\u001b[0mexperimental_get_tracing_count\u001b[0m\u001b[0;34m(\u001b[0m\u001b[0;34m)\u001b[0m\u001b[0;34m\u001b[0m\u001b[0;34m\u001b[0m\u001b[0m\n\u001b[1;32m    827\u001b[0m     \u001b[0;32mwith\u001b[0m \u001b[0mtrace\u001b[0m\u001b[0;34m.\u001b[0m\u001b[0mTrace\u001b[0m\u001b[0;34m(\u001b[0m\u001b[0mself\u001b[0m\u001b[0;34m.\u001b[0m\u001b[0m_name\u001b[0m\u001b[0;34m)\u001b[0m \u001b[0;32mas\u001b[0m \u001b[0mtm\u001b[0m\u001b[0;34m:\u001b[0m\u001b[0;34m\u001b[0m\u001b[0;34m\u001b[0m\u001b[0m\n\u001b[0;32m--> 828\u001b[0;31m       \u001b[0mresult\u001b[0m \u001b[0;34m=\u001b[0m \u001b[0mself\u001b[0m\u001b[0;34m.\u001b[0m\u001b[0m_call\u001b[0m\u001b[0;34m(\u001b[0m\u001b[0;34m*\u001b[0m\u001b[0margs\u001b[0m\u001b[0;34m,\u001b[0m \u001b[0;34m**\u001b[0m\u001b[0mkwds\u001b[0m\u001b[0;34m)\u001b[0m\u001b[0;34m\u001b[0m\u001b[0;34m\u001b[0m\u001b[0m\n\u001b[0m\u001b[1;32m    829\u001b[0m       \u001b[0mcompiler\u001b[0m \u001b[0;34m=\u001b[0m \u001b[0;34m\"xla\"\u001b[0m \u001b[0;32mif\u001b[0m \u001b[0mself\u001b[0m\u001b[0;34m.\u001b[0m\u001b[0m_experimental_compile\u001b[0m \u001b[0;32melse\u001b[0m \u001b[0;34m\"nonXla\"\u001b[0m\u001b[0;34m\u001b[0m\u001b[0;34m\u001b[0m\u001b[0m\n\u001b[1;32m    830\u001b[0m       \u001b[0mnew_tracing_count\u001b[0m \u001b[0;34m=\u001b[0m \u001b[0mself\u001b[0m\u001b[0;34m.\u001b[0m\u001b[0mexperimental_get_tracing_count\u001b[0m\u001b[0;34m(\u001b[0m\u001b[0;34m)\u001b[0m\u001b[0;34m\u001b[0m\u001b[0;34m\u001b[0m\u001b[0m\n",
      "\u001b[0;32m~/git/ueflow/venv/lib/python3.8/site-packages/tensorflow/python/eager/def_function.py\u001b[0m in \u001b[0;36m_call\u001b[0;34m(self, *args, **kwds)\u001b[0m\n\u001b[1;32m    853\u001b[0m       \u001b[0;31m# In this case we have created variables on the first call, so we run the\u001b[0m\u001b[0;34m\u001b[0m\u001b[0;34m\u001b[0m\u001b[0;34m\u001b[0m\u001b[0m\n\u001b[1;32m    854\u001b[0m       \u001b[0;31m# defunned version which is guaranteed to never create variables.\u001b[0m\u001b[0;34m\u001b[0m\u001b[0;34m\u001b[0m\u001b[0;34m\u001b[0m\u001b[0m\n\u001b[0;32m--> 855\u001b[0;31m       \u001b[0;32mreturn\u001b[0m \u001b[0mself\u001b[0m\u001b[0;34m.\u001b[0m\u001b[0m_stateless_fn\u001b[0m\u001b[0;34m(\u001b[0m\u001b[0;34m*\u001b[0m\u001b[0margs\u001b[0m\u001b[0;34m,\u001b[0m \u001b[0;34m**\u001b[0m\u001b[0mkwds\u001b[0m\u001b[0;34m)\u001b[0m  \u001b[0;31m# pylint: disable=not-callable\u001b[0m\u001b[0;34m\u001b[0m\u001b[0;34m\u001b[0m\u001b[0m\n\u001b[0m\u001b[1;32m    856\u001b[0m     \u001b[0;32melif\u001b[0m \u001b[0mself\u001b[0m\u001b[0;34m.\u001b[0m\u001b[0m_stateful_fn\u001b[0m \u001b[0;32mis\u001b[0m \u001b[0;32mnot\u001b[0m \u001b[0;32mNone\u001b[0m\u001b[0;34m:\u001b[0m\u001b[0;34m\u001b[0m\u001b[0;34m\u001b[0m\u001b[0m\n\u001b[1;32m    857\u001b[0m       \u001b[0;31m# Release the lock early so that multiple threads can perform the call\u001b[0m\u001b[0;34m\u001b[0m\u001b[0;34m\u001b[0m\u001b[0;34m\u001b[0m\u001b[0m\n",
      "\u001b[0;32m~/git/ueflow/venv/lib/python3.8/site-packages/tensorflow/python/eager/function.py\u001b[0m in \u001b[0;36m__call__\u001b[0;34m(self, *args, **kwargs)\u001b[0m\n\u001b[1;32m   2940\u001b[0m       (graph_function,\n\u001b[1;32m   2941\u001b[0m        filtered_flat_args) = self._maybe_define_function(args, kwargs)\n\u001b[0;32m-> 2942\u001b[0;31m     return graph_function._call_flat(\n\u001b[0m\u001b[1;32m   2943\u001b[0m         filtered_flat_args, captured_inputs=graph_function.captured_inputs)  # pylint: disable=protected-access\n\u001b[1;32m   2944\u001b[0m \u001b[0;34m\u001b[0m\u001b[0m\n",
      "\u001b[0;32m~/git/ueflow/venv/lib/python3.8/site-packages/tensorflow/python/eager/function.py\u001b[0m in \u001b[0;36m_call_flat\u001b[0;34m(self, args, captured_inputs, cancellation_manager)\u001b[0m\n\u001b[1;32m   1916\u001b[0m         and executing_eagerly):\n\u001b[1;32m   1917\u001b[0m       \u001b[0;31m# No tape is watching; skip to running the function.\u001b[0m\u001b[0;34m\u001b[0m\u001b[0;34m\u001b[0m\u001b[0;34m\u001b[0m\u001b[0m\n\u001b[0;32m-> 1918\u001b[0;31m       return self._build_call_outputs(self._inference_function.call(\n\u001b[0m\u001b[1;32m   1919\u001b[0m           ctx, args, cancellation_manager=cancellation_manager))\n\u001b[1;32m   1920\u001b[0m     forward_backward = self._select_forward_and_backward_functions(\n",
      "\u001b[0;32m~/git/ueflow/venv/lib/python3.8/site-packages/tensorflow/python/eager/function.py\u001b[0m in \u001b[0;36mcall\u001b[0;34m(self, ctx, args, cancellation_manager)\u001b[0m\n\u001b[1;32m    553\u001b[0m       \u001b[0;32mwith\u001b[0m \u001b[0m_InterpolateFunctionError\u001b[0m\u001b[0;34m(\u001b[0m\u001b[0mself\u001b[0m\u001b[0;34m)\u001b[0m\u001b[0;34m:\u001b[0m\u001b[0;34m\u001b[0m\u001b[0;34m\u001b[0m\u001b[0m\n\u001b[1;32m    554\u001b[0m         \u001b[0;32mif\u001b[0m \u001b[0mcancellation_manager\u001b[0m \u001b[0;32mis\u001b[0m \u001b[0;32mNone\u001b[0m\u001b[0;34m:\u001b[0m\u001b[0;34m\u001b[0m\u001b[0;34m\u001b[0m\u001b[0m\n\u001b[0;32m--> 555\u001b[0;31m           outputs = execute.execute(\n\u001b[0m\u001b[1;32m    556\u001b[0m               \u001b[0mstr\u001b[0m\u001b[0;34m(\u001b[0m\u001b[0mself\u001b[0m\u001b[0;34m.\u001b[0m\u001b[0msignature\u001b[0m\u001b[0;34m.\u001b[0m\u001b[0mname\u001b[0m\u001b[0;34m)\u001b[0m\u001b[0;34m,\u001b[0m\u001b[0;34m\u001b[0m\u001b[0;34m\u001b[0m\u001b[0m\n\u001b[1;32m    557\u001b[0m               \u001b[0mnum_outputs\u001b[0m\u001b[0;34m=\u001b[0m\u001b[0mself\u001b[0m\u001b[0;34m.\u001b[0m\u001b[0m_num_outputs\u001b[0m\u001b[0;34m,\u001b[0m\u001b[0;34m\u001b[0m\u001b[0;34m\u001b[0m\u001b[0m\n",
      "\u001b[0;32m~/git/ueflow/venv/lib/python3.8/site-packages/tensorflow/python/eager/execute.py\u001b[0m in \u001b[0;36mquick_execute\u001b[0;34m(op_name, num_outputs, inputs, attrs, ctx, name)\u001b[0m\n\u001b[1;32m     57\u001b[0m   \u001b[0;32mtry\u001b[0m\u001b[0;34m:\u001b[0m\u001b[0;34m\u001b[0m\u001b[0;34m\u001b[0m\u001b[0m\n\u001b[1;32m     58\u001b[0m     \u001b[0mctx\u001b[0m\u001b[0;34m.\u001b[0m\u001b[0mensure_initialized\u001b[0m\u001b[0;34m(\u001b[0m\u001b[0;34m)\u001b[0m\u001b[0;34m\u001b[0m\u001b[0;34m\u001b[0m\u001b[0m\n\u001b[0;32m---> 59\u001b[0;31m     tensors = pywrap_tfe.TFE_Py_Execute(ctx._handle, device_name, op_name,\n\u001b[0m\u001b[1;32m     60\u001b[0m                                         inputs, attrs, num_outputs)\n\u001b[1;32m     61\u001b[0m   \u001b[0;32mexcept\u001b[0m \u001b[0mcore\u001b[0m\u001b[0;34m.\u001b[0m\u001b[0m_NotOkStatusException\u001b[0m \u001b[0;32mas\u001b[0m \u001b[0me\u001b[0m\u001b[0;34m:\u001b[0m\u001b[0;34m\u001b[0m\u001b[0;34m\u001b[0m\u001b[0m\n",
      "\u001b[0;31mKeyboardInterrupt\u001b[0m: "
     ]
    }
   ],
   "source": [
    "from tensorflow.keras.layers import BatchNormalization\n",
    "\n",
    "def create_model2_simple():\n",
    "    input_delta = Input(shape=(4, 6), name='x_delta')\n",
    "    input_force = Input(shape=(3, 1), name='x_force')\n",
    "\n",
    "    input_delta_flat = Flatten()(input_delta)\n",
    "    input_force_flat = Flatten()(input_force)\n",
    "\n",
    "    x = Concatenate()([input_delta_flat, input_force_flat])\n",
    "    x = Dense(128, activation='relu')(x)\n",
    "    x = Dropout(0.2)(x)\n",
    "    x = BatchNormalization()(x)\n",
    "    x = Dense(256, activation='relu')(x)\n",
    "    x = Dropout(0.2)(x)\n",
    "    x = Dense(512, activation='relu')(x)\n",
    "    x = Dropout(0.2)(x)\n",
    "    x = BatchNormalization()(x)\n",
    "    x = Dense(2048, activation='relu')(x)\n",
    "    x = Dropout(0.2)(x)\n",
    "    x = BatchNormalization()(x)\n",
    "    x = Dense(512, activation='relu')(x)\n",
    "    x = Dropout(0.2)(x)\n",
    "    x = Dense(256, activation='relu')(x)\n",
    "    x = Dropout(0.2)(x)\n",
    "    x = Dense(64, activation='relu')(x)\n",
    "    x = Dropout(0.2)(x)\n",
    "    x = BatchNormalization()(x)\n",
    "    x = Dense(np.prod(dp.y_delta[1].shape))(x)\n",
    "\n",
    "    output_1 = Reshape(dp.y_delta[1].shape)(x)\n",
    "    model = Model(inputs=[input_delta, input_force], outputs=[output_1])\n",
    "    model.compile(loss=\"mse\", optimizer='rmsprop')\n",
    "    return model\n",
    "create_and_train_network(dp, dp.y_delta, 15, model_generator=create_model2_simple)"
   ]
  },
  {
   "cell_type": "code",
   "execution_count": 94,
   "metadata": {},
   "outputs": [
    {
     "name": "stderr",
     "output_type": "stream",
     "text": [
      "2021-03-06 15:29:29,632: Create model...\n",
      "2021-03-06 15:29:30,366: Fit model..\n"
     ]
    },
    {
     "name": "stdout",
     "output_type": "stream",
     "text": [
      "Model: \"model_33\"\n",
      "__________________________________________________________________________________________________\n",
      "Layer (type)                    Output Shape         Param #     Connected to                     \n",
      "==================================================================================================\n",
      "x_abs_n_minus_1 (InputLayer)    [(None, 4, 9)]       0                                            \n",
      "__________________________________________________________________________________________________\n",
      "x_abs_n (InputLayer)            [(None, 4, 9)]       0                                            \n",
      "__________________________________________________________________________________________________\n",
      "concatenate_102 (Concatenate)   (None, 4, 18)        0           x_abs_n_minus_1[0][0]            \n",
      "                                                                 x_abs_n[0][0]                    \n",
      "__________________________________________________________________________________________________\n",
      "gru_29 (GRU)                    (None, 4, 36)        6048        concatenate_102[0][0]            \n",
      "__________________________________________________________________________________________________\n",
      "gru_30 (GRU)                    (None, 1296)         5186592     gru_29[0][0]                     \n",
      "__________________________________________________________________________________________________\n",
      "batch_normalization_56 (BatchNo (None, 1296)         5184        gru_30[0][0]                     \n",
      "__________________________________________________________________________________________________\n",
      "x_force (InputLayer)            [(None, 3, 1)]       0                                            \n",
      "__________________________________________________________________________________________________\n",
      "x_delta (InputLayer)            [(None, 4, 6)]       0                                            \n",
      "__________________________________________________________________________________________________\n",
      "flatten_256 (Flatten)           (None, 1296)         0           batch_normalization_56[0][0]     \n",
      "__________________________________________________________________________________________________\n",
      "flatten_254 (Flatten)           (None, 3)            0           x_force[0][0]                    \n",
      "__________________________________________________________________________________________________\n",
      "flatten_255 (Flatten)           (None, 24)           0           x_delta[0][0]                    \n",
      "__________________________________________________________________________________________________\n",
      "concatenate_103 (Concatenate)   (None, 1323)         0           flatten_256[0][0]                \n",
      "                                                                 flatten_254[0][0]                \n",
      "                                                                 flatten_255[0][0]                \n",
      "__________________________________________________________________________________________________\n",
      "dropout_189 (Dropout)           (None, 1323)         0           concatenate_103[0][0]            \n",
      "__________________________________________________________________________________________________\n",
      "dense_229 (Dense)               (None, 576)          762624      dropout_189[0][0]                \n",
      "__________________________________________________________________________________________________\n",
      "dropout_190 (Dropout)           (None, 576)          0           dense_229[0][0]                  \n",
      "__________________________________________________________________________________________________\n",
      "dense_230 (Dense)               (None, 576)          332352      dropout_190[0][0]                \n",
      "__________________________________________________________________________________________________\n",
      "dropout_191 (Dropout)           (None, 576)          0           dense_230[0][0]                  \n",
      "__________________________________________________________________________________________________\n",
      "dense_231 (Dense)               (None, 24)           13848       dropout_191[0][0]                \n",
      "__________________________________________________________________________________________________\n",
      "reshape_85 (Reshape)            (None, 4, 6)         0           dense_231[0][0]                  \n",
      "==================================================================================================\n",
      "Total params: 6,306,648\n",
      "Trainable params: 6,304,056\n",
      "Non-trainable params: 2,592\n",
      "__________________________________________________________________________________________________\n",
      "Epoch 1/10\n",
      "     2/385560 [..............................] - ETA: 7:56:50 - loss: 0.1549  WARNING:tensorflow:Callback method `on_train_batch_end` is slow compared to the batch time (batch time: 0.0032s vs `on_train_batch_end` time: 0.0122s). Check your callbacks.\n"
     ]
    },
    {
     "name": "stderr",
     "output_type": "stream",
     "text": [
      "2021-03-06 15:29:31,621: Callback method `on_train_batch_end` is slow compared to the batch time (batch time: 0.0032s vs `on_train_batch_end` time: 0.0122s). Check your callbacks.\n"
     ]
    },
    {
     "name": "stdout",
     "output_type": "stream",
     "text": [
      "385560/385560 [==============================] - ETA: 0s - loss: 0.0085"
     ]
    },
    {
     "name": "stderr",
     "output_type": "stream",
     "text": [
      "2021-03-06 15:51:42,767: Found untraced functions such as gru_cell_29_layer_call_and_return_conditional_losses, gru_cell_29_layer_call_fn, gru_cell_30_layer_call_and_return_conditional_losses, gru_cell_30_layer_call_fn, gru_cell_29_layer_call_fn while saving (showing 5 of 10). These functions will not be directly callable after loading.\n",
      "2021-03-06 15:51:42,819: Found untraced functions such as gru_cell_29_layer_call_and_return_conditional_losses, gru_cell_29_layer_call_fn, gru_cell_30_layer_call_and_return_conditional_losses, gru_cell_30_layer_call_fn, gru_cell_29_layer_call_fn while saving (showing 5 of 10). These functions will not be directly callable after loading.\n"
     ]
    },
    {
     "name": "stdout",
     "output_type": "stream",
     "text": [
      "INFO:tensorflow:Assets written to: model\\model_(428400, 4, 6)_(4, 6)_12_1615042299.7523456/assets\n"
     ]
    },
    {
     "name": "stderr",
     "output_type": "stream",
     "text": [
      "2021-03-06 15:51:43,352: Assets written to: model\\model_(428400, 4, 6)_(4, 6)_12_1615042299.7523456/assets\n"
     ]
    },
    {
     "name": "stdout",
     "output_type": "stream",
     "text": [
      "385560/385560 [==============================] - 1388s 4ms/step - loss: 0.0085 - val_loss: 0.5764\n",
      "\n",
      "Epoch 00001: val_loss improved from inf to 0.57644, saving model to (428400, 4, 6)_(4, 6)_12_model.h5\n",
      "Epoch 2/10\n",
      "385549/385560 [============================>.] - ETA: 0s - loss: 0.0076"
     ]
    },
    {
     "name": "stderr",
     "output_type": "stream",
     "text": [
      "2021-03-06 16:14:50,426: Found untraced functions such as gru_cell_29_layer_call_and_return_conditional_losses, gru_cell_29_layer_call_fn, gru_cell_30_layer_call_and_return_conditional_losses, gru_cell_30_layer_call_fn, gru_cell_29_layer_call_fn while saving (showing 5 of 10). These functions will not be directly callable after loading.\n",
      "2021-03-06 16:14:50,479: Found untraced functions such as gru_cell_29_layer_call_and_return_conditional_losses, gru_cell_29_layer_call_fn, gru_cell_30_layer_call_and_return_conditional_losses, gru_cell_30_layer_call_fn, gru_cell_29_layer_call_fn while saving (showing 5 of 10). These functions will not be directly callable after loading.\n"
     ]
    },
    {
     "name": "stdout",
     "output_type": "stream",
     "text": [
      "INFO:tensorflow:Assets written to: model\\model_(428400, 4, 6)_(4, 6)_12_1615043687.3861988/assets\n"
     ]
    },
    {
     "name": "stderr",
     "output_type": "stream",
     "text": [
      "2021-03-06 16:14:51,140: Assets written to: model\\model_(428400, 4, 6)_(4, 6)_12_1615043687.3861988/assets\n"
     ]
    },
    {
     "name": "stdout",
     "output_type": "stream",
     "text": [
      "385560/385560 [==============================] - 1387s 4ms/step - loss: 0.0076 - val_loss: 0.6606\n",
      "\n",
      "Epoch 00002: val_loss did not improve from 0.57644\n",
      "Epoch 3/10\n",
      "385552/385560 [============================>.] - ETA: 0s - loss: 0.0076"
     ]
    },
    {
     "name": "stderr",
     "output_type": "stream",
     "text": [
      "2021-03-06 16:38:03,452: Found untraced functions such as gru_cell_29_layer_call_and_return_conditional_losses, gru_cell_29_layer_call_fn, gru_cell_30_layer_call_and_return_conditional_losses, gru_cell_30_layer_call_fn, gru_cell_29_layer_call_fn while saving (showing 5 of 10). These functions will not be directly callable after loading.\n",
      "2021-03-06 16:38:03,504: Found untraced functions such as gru_cell_29_layer_call_and_return_conditional_losses, gru_cell_29_layer_call_fn, gru_cell_30_layer_call_and_return_conditional_losses, gru_cell_30_layer_call_fn, gru_cell_29_layer_call_fn while saving (showing 5 of 10). These functions will not be directly callable after loading.\n"
     ]
    },
    {
     "name": "stdout",
     "output_type": "stream",
     "text": [
      "INFO:tensorflow:Assets written to: model\\model_(428400, 4, 6)_(4, 6)_12_1615045080.5443592/assets\n"
     ]
    },
    {
     "name": "stderr",
     "output_type": "stream",
     "text": [
      "2021-03-06 16:38:04,024: Assets written to: model\\model_(428400, 4, 6)_(4, 6)_12_1615045080.5443592/assets\n"
     ]
    },
    {
     "name": "stdout",
     "output_type": "stream",
     "text": [
      "385560/385560 [==============================] - 1393s 4ms/step - loss: 0.0076 - val_loss: 0.5771\n",
      "\n",
      "Epoch 00003: val_loss did not improve from 0.57644\n",
      "Epoch 4/10\n",
      "385557/385560 [============================>.] - ETA: 0s - loss: 0.0076"
     ]
    },
    {
     "name": "stderr",
     "output_type": "stream",
     "text": [
      "2021-03-06 17:01:18,541: Found untraced functions such as gru_cell_29_layer_call_and_return_conditional_losses, gru_cell_29_layer_call_fn, gru_cell_30_layer_call_and_return_conditional_losses, gru_cell_30_layer_call_fn, gru_cell_29_layer_call_fn while saving (showing 5 of 10). These functions will not be directly callable after loading.\n",
      "2021-03-06 17:01:18,594: Found untraced functions such as gru_cell_29_layer_call_and_return_conditional_losses, gru_cell_29_layer_call_fn, gru_cell_30_layer_call_and_return_conditional_losses, gru_cell_30_layer_call_fn, gru_cell_29_layer_call_fn while saving (showing 5 of 10). These functions will not be directly callable after loading.\n"
     ]
    },
    {
     "name": "stdout",
     "output_type": "stream",
     "text": [
      "INFO:tensorflow:Assets written to: model\\model_(428400, 4, 6)_(4, 6)_12_1615046475.5424142/assets\n"
     ]
    },
    {
     "name": "stderr",
     "output_type": "stream",
     "text": [
      "2021-03-06 17:01:19,129: Assets written to: model\\model_(428400, 4, 6)_(4, 6)_12_1615046475.5424142/assets\n"
     ]
    },
    {
     "name": "stdout",
     "output_type": "stream",
     "text": [
      "385560/385560 [==============================] - 1395s 4ms/step - loss: 0.0076 - val_loss: 0.5989\n",
      "\n",
      "Epoch 00004: val_loss did not improve from 0.57644\n",
      "Epoch 5/10\n",
      "385552/385560 [============================>.] - ETA: 0s - loss: 0.0076"
     ]
    },
    {
     "name": "stderr",
     "output_type": "stream",
     "text": [
      "2021-03-06 17:24:34,190: Found untraced functions such as gru_cell_29_layer_call_and_return_conditional_losses, gru_cell_29_layer_call_fn, gru_cell_30_layer_call_and_return_conditional_losses, gru_cell_30_layer_call_fn, gru_cell_29_layer_call_fn while saving (showing 5 of 10). These functions will not be directly callable after loading.\n",
      "2021-03-06 17:24:34,245: Found untraced functions such as gru_cell_29_layer_call_and_return_conditional_losses, gru_cell_29_layer_call_fn, gru_cell_30_layer_call_and_return_conditional_losses, gru_cell_30_layer_call_fn, gru_cell_29_layer_call_fn while saving (showing 5 of 10). These functions will not be directly callable after loading.\n"
     ]
    },
    {
     "name": "stdout",
     "output_type": "stream",
     "text": [
      "INFO:tensorflow:Assets written to: model\\model_(428400, 4, 6)_(4, 6)_12_1615047871.0704958/assets\n"
     ]
    },
    {
     "name": "stderr",
     "output_type": "stream",
     "text": [
      "2021-03-06 17:24:34,780: Assets written to: model\\model_(428400, 4, 6)_(4, 6)_12_1615047871.0704958/assets\n"
     ]
    },
    {
     "name": "stdout",
     "output_type": "stream",
     "text": [
      "385560/385560 [==============================] - 1396s 4ms/step - loss: 0.0076 - val_loss: 0.5410\n",
      "\n",
      "Epoch 00005: val_loss improved from 0.57644 to 0.54099, saving model to (428400, 4, 6)_(4, 6)_12_model.h5\n",
      "Epoch 6/10\n",
      "385555/385560 [============================>.] - ETA: 0s - loss: 0.0076"
     ]
    },
    {
     "name": "stderr",
     "output_type": "stream",
     "text": [
      "2021-03-06 17:47:42,744: Found untraced functions such as gru_cell_29_layer_call_and_return_conditional_losses, gru_cell_29_layer_call_fn, gru_cell_30_layer_call_and_return_conditional_losses, gru_cell_30_layer_call_fn, gru_cell_29_layer_call_fn while saving (showing 5 of 10). These functions will not be directly callable after loading.\n",
      "2021-03-06 17:47:42,796: Found untraced functions such as gru_cell_29_layer_call_and_return_conditional_losses, gru_cell_29_layer_call_fn, gru_cell_30_layer_call_and_return_conditional_losses, gru_cell_30_layer_call_fn, gru_cell_29_layer_call_fn while saving (showing 5 of 10). These functions will not be directly callable after loading.\n"
     ]
    },
    {
     "name": "stdout",
     "output_type": "stream",
     "text": [
      "INFO:tensorflow:Assets written to: model\\model_(428400, 4, 6)_(4, 6)_12_1615049259.6998868/assets\n"
     ]
    },
    {
     "name": "stderr",
     "output_type": "stream",
     "text": [
      "2021-03-06 17:47:43,318: Assets written to: model\\model_(428400, 4, 6)_(4, 6)_12_1615049259.6998868/assets\n"
     ]
    },
    {
     "name": "stdout",
     "output_type": "stream",
     "text": [
      "385560/385560 [==============================] - 1387s 4ms/step - loss: 0.0076 - val_loss: 0.4297\n",
      "\n",
      "Epoch 00006: val_loss improved from 0.54099 to 0.42971, saving model to (428400, 4, 6)_(4, 6)_12_model.h5\n",
      "Epoch 7/10\n",
      "385553/385560 [============================>.] - ETA: 0s - loss: 0.0076"
     ]
    },
    {
     "name": "stderr",
     "output_type": "stream",
     "text": [
      "2021-03-06 18:10:53,509: Found untraced functions such as gru_cell_29_layer_call_and_return_conditional_losses, gru_cell_29_layer_call_fn, gru_cell_30_layer_call_and_return_conditional_losses, gru_cell_30_layer_call_fn, gru_cell_29_layer_call_fn while saving (showing 5 of 10). These functions will not be directly callable after loading.\n",
      "2021-03-06 18:10:53,561: Found untraced functions such as gru_cell_29_layer_call_and_return_conditional_losses, gru_cell_29_layer_call_fn, gru_cell_30_layer_call_and_return_conditional_losses, gru_cell_30_layer_call_fn, gru_cell_29_layer_call_fn while saving (showing 5 of 10). These functions will not be directly callable after loading.\n"
     ]
    },
    {
     "name": "stdout",
     "output_type": "stream",
     "text": [
      "INFO:tensorflow:Assets written to: model\\model_(428400, 4, 6)_(4, 6)_12_1615050650.557672/assets\n"
     ]
    },
    {
     "name": "stderr",
     "output_type": "stream",
     "text": [
      "2021-03-06 18:10:54,087: Assets written to: model\\model_(428400, 4, 6)_(4, 6)_12_1615050650.557672/assets\n"
     ]
    },
    {
     "name": "stdout",
     "output_type": "stream",
     "text": [
      "385560/385560 [==============================] - 1391s 4ms/step - loss: 0.0076 - val_loss: 0.5843\n",
      "\n",
      "Epoch 00007: val_loss did not improve from 0.42971\n",
      "Epoch 8/10\n",
      " 97519/385560 [======>.......................] - ETA: 16:42 - loss: 0.0075"
     ]
    },
    {
     "ename": "KeyboardInterrupt",
     "evalue": "",
     "output_type": "error",
     "traceback": [
      "\u001b[0;31m---------------------------------------------------------------------------\u001b[0m",
      "\u001b[0;31mKeyboardInterrupt\u001b[0m                         Traceback (most recent call last)",
      "\u001b[0;32m<ipython-input-94-70a615071221>\u001b[0m in \u001b[0;36m<module>\u001b[0;34m\u001b[0m\n\u001b[1;32m     33\u001b[0m     \u001b[0;32mreturn\u001b[0m \u001b[0mmodel\u001b[0m\u001b[0;34m\u001b[0m\u001b[0;34m\u001b[0m\u001b[0m\n\u001b[1;32m     34\u001b[0m \u001b[0;34m\u001b[0m\u001b[0m\n\u001b[0;32m---> 35\u001b[0;31m \u001b[0mcreate_and_train_network\u001b[0m\u001b[0;34m(\u001b[0m\u001b[0mdp\u001b[0m\u001b[0;34m,\u001b[0m \u001b[0mdp\u001b[0m\u001b[0;34m.\u001b[0m\u001b[0my_delta\u001b[0m\u001b[0;34m,\u001b[0m \u001b[0;36m12\u001b[0m\u001b[0;34m,\u001b[0m \u001b[0mmodel_generator\u001b[0m\u001b[0;34m=\u001b[0m\u001b[0mcreate_model4_improved\u001b[0m\u001b[0;34m)\u001b[0m\u001b[0;34m\u001b[0m\u001b[0;34m\u001b[0m\u001b[0m\n\u001b[0m",
      "\u001b[0;32m<ipython-input-7-9617068755c2>\u001b[0m in \u001b[0;36mcreate_and_train_network\u001b[0;34m(dp, y, model_id, epohs, batch_size, model_generator)\u001b[0m\n\u001b[1;32m    196\u001b[0m     \u001b[0mmodel\u001b[0m\u001b[0;34m.\u001b[0m\u001b[0msummary\u001b[0m\u001b[0;34m(\u001b[0m\u001b[0;34m)\u001b[0m\u001b[0;34m\u001b[0m\u001b[0;34m\u001b[0m\u001b[0m\n\u001b[1;32m    197\u001b[0m     \u001b[0mlogger\u001b[0m\u001b[0;34m.\u001b[0m\u001b[0minfo\u001b[0m\u001b[0;34m(\u001b[0m\u001b[0;34m\"Fit model..\"\u001b[0m\u001b[0;34m)\u001b[0m\u001b[0;34m\u001b[0m\u001b[0;34m\u001b[0m\u001b[0m\n\u001b[0;32m--> 198\u001b[0;31m     network = model.fit(train_dataset, validation_data=validation_dataset, verbose=1,\n\u001b[0m\u001b[1;32m    199\u001b[0m                         epochs=epohs, callbacks=[my_cb, early_stopping, best_model, tensorboard_callback])\n\u001b[1;32m    200\u001b[0m     \u001b[0mlogger\u001b[0m\u001b[0;34m.\u001b[0m\u001b[0minfo\u001b[0m\u001b[0;34m(\u001b[0m\u001b[0;34m\"Summary\"\u001b[0m\u001b[0;34m)\u001b[0m\u001b[0;34m\u001b[0m\u001b[0;34m\u001b[0m\u001b[0m\n",
      "\u001b[0;32m~/git/ueflow/venv/lib/python3.8/site-packages/tensorflow/python/keras/engine/training.py\u001b[0m in \u001b[0;36mfit\u001b[0;34m(self, x, y, batch_size, epochs, verbose, callbacks, validation_split, validation_data, shuffle, class_weight, sample_weight, initial_epoch, steps_per_epoch, validation_steps, validation_batch_size, validation_freq, max_queue_size, workers, use_multiprocessing)\u001b[0m\n\u001b[1;32m   1098\u001b[0m                 _r=1):\n\u001b[1;32m   1099\u001b[0m               \u001b[0mcallbacks\u001b[0m\u001b[0;34m.\u001b[0m\u001b[0mon_train_batch_begin\u001b[0m\u001b[0;34m(\u001b[0m\u001b[0mstep\u001b[0m\u001b[0;34m)\u001b[0m\u001b[0;34m\u001b[0m\u001b[0;34m\u001b[0m\u001b[0m\n\u001b[0;32m-> 1100\u001b[0;31m               \u001b[0mtmp_logs\u001b[0m \u001b[0;34m=\u001b[0m \u001b[0mself\u001b[0m\u001b[0;34m.\u001b[0m\u001b[0mtrain_function\u001b[0m\u001b[0;34m(\u001b[0m\u001b[0miterator\u001b[0m\u001b[0;34m)\u001b[0m\u001b[0;34m\u001b[0m\u001b[0;34m\u001b[0m\u001b[0m\n\u001b[0m\u001b[1;32m   1101\u001b[0m               \u001b[0;32mif\u001b[0m \u001b[0mdata_handler\u001b[0m\u001b[0;34m.\u001b[0m\u001b[0mshould_sync\u001b[0m\u001b[0;34m:\u001b[0m\u001b[0;34m\u001b[0m\u001b[0;34m\u001b[0m\u001b[0m\n\u001b[1;32m   1102\u001b[0m                 \u001b[0mcontext\u001b[0m\u001b[0;34m.\u001b[0m\u001b[0masync_wait\u001b[0m\u001b[0;34m(\u001b[0m\u001b[0;34m)\u001b[0m\u001b[0;34m\u001b[0m\u001b[0;34m\u001b[0m\u001b[0m\n",
      "\u001b[0;32m~/git/ueflow/venv/lib/python3.8/site-packages/tensorflow/python/eager/def_function.py\u001b[0m in \u001b[0;36m__call__\u001b[0;34m(self, *args, **kwds)\u001b[0m\n\u001b[1;32m    826\u001b[0m     \u001b[0mtracing_count\u001b[0m \u001b[0;34m=\u001b[0m \u001b[0mself\u001b[0m\u001b[0;34m.\u001b[0m\u001b[0mexperimental_get_tracing_count\u001b[0m\u001b[0;34m(\u001b[0m\u001b[0;34m)\u001b[0m\u001b[0;34m\u001b[0m\u001b[0;34m\u001b[0m\u001b[0m\n\u001b[1;32m    827\u001b[0m     \u001b[0;32mwith\u001b[0m \u001b[0mtrace\u001b[0m\u001b[0;34m.\u001b[0m\u001b[0mTrace\u001b[0m\u001b[0;34m(\u001b[0m\u001b[0mself\u001b[0m\u001b[0;34m.\u001b[0m\u001b[0m_name\u001b[0m\u001b[0;34m)\u001b[0m \u001b[0;32mas\u001b[0m \u001b[0mtm\u001b[0m\u001b[0;34m:\u001b[0m\u001b[0;34m\u001b[0m\u001b[0;34m\u001b[0m\u001b[0m\n\u001b[0;32m--> 828\u001b[0;31m       \u001b[0mresult\u001b[0m \u001b[0;34m=\u001b[0m \u001b[0mself\u001b[0m\u001b[0;34m.\u001b[0m\u001b[0m_call\u001b[0m\u001b[0;34m(\u001b[0m\u001b[0;34m*\u001b[0m\u001b[0margs\u001b[0m\u001b[0;34m,\u001b[0m \u001b[0;34m**\u001b[0m\u001b[0mkwds\u001b[0m\u001b[0;34m)\u001b[0m\u001b[0;34m\u001b[0m\u001b[0;34m\u001b[0m\u001b[0m\n\u001b[0m\u001b[1;32m    829\u001b[0m       \u001b[0mcompiler\u001b[0m \u001b[0;34m=\u001b[0m \u001b[0;34m\"xla\"\u001b[0m \u001b[0;32mif\u001b[0m \u001b[0mself\u001b[0m\u001b[0;34m.\u001b[0m\u001b[0m_experimental_compile\u001b[0m \u001b[0;32melse\u001b[0m \u001b[0;34m\"nonXla\"\u001b[0m\u001b[0;34m\u001b[0m\u001b[0;34m\u001b[0m\u001b[0m\n\u001b[1;32m    830\u001b[0m       \u001b[0mnew_tracing_count\u001b[0m \u001b[0;34m=\u001b[0m \u001b[0mself\u001b[0m\u001b[0;34m.\u001b[0m\u001b[0mexperimental_get_tracing_count\u001b[0m\u001b[0;34m(\u001b[0m\u001b[0;34m)\u001b[0m\u001b[0;34m\u001b[0m\u001b[0;34m\u001b[0m\u001b[0m\n",
      "\u001b[0;32m~/git/ueflow/venv/lib/python3.8/site-packages/tensorflow/python/eager/def_function.py\u001b[0m in \u001b[0;36m_call\u001b[0;34m(self, *args, **kwds)\u001b[0m\n\u001b[1;32m    853\u001b[0m       \u001b[0;31m# In this case we have created variables on the first call, so we run the\u001b[0m\u001b[0;34m\u001b[0m\u001b[0;34m\u001b[0m\u001b[0;34m\u001b[0m\u001b[0m\n\u001b[1;32m    854\u001b[0m       \u001b[0;31m# defunned version which is guaranteed to never create variables.\u001b[0m\u001b[0;34m\u001b[0m\u001b[0;34m\u001b[0m\u001b[0;34m\u001b[0m\u001b[0m\n\u001b[0;32m--> 855\u001b[0;31m       \u001b[0;32mreturn\u001b[0m \u001b[0mself\u001b[0m\u001b[0;34m.\u001b[0m\u001b[0m_stateless_fn\u001b[0m\u001b[0;34m(\u001b[0m\u001b[0;34m*\u001b[0m\u001b[0margs\u001b[0m\u001b[0;34m,\u001b[0m \u001b[0;34m**\u001b[0m\u001b[0mkwds\u001b[0m\u001b[0;34m)\u001b[0m  \u001b[0;31m# pylint: disable=not-callable\u001b[0m\u001b[0;34m\u001b[0m\u001b[0;34m\u001b[0m\u001b[0m\n\u001b[0m\u001b[1;32m    856\u001b[0m     \u001b[0;32melif\u001b[0m \u001b[0mself\u001b[0m\u001b[0;34m.\u001b[0m\u001b[0m_stateful_fn\u001b[0m \u001b[0;32mis\u001b[0m \u001b[0;32mnot\u001b[0m \u001b[0;32mNone\u001b[0m\u001b[0;34m:\u001b[0m\u001b[0;34m\u001b[0m\u001b[0;34m\u001b[0m\u001b[0m\n\u001b[1;32m    857\u001b[0m       \u001b[0;31m# Release the lock early so that multiple threads can perform the call\u001b[0m\u001b[0;34m\u001b[0m\u001b[0;34m\u001b[0m\u001b[0;34m\u001b[0m\u001b[0m\n",
      "\u001b[0;32m~/git/ueflow/venv/lib/python3.8/site-packages/tensorflow/python/eager/function.py\u001b[0m in \u001b[0;36m__call__\u001b[0;34m(self, *args, **kwargs)\u001b[0m\n\u001b[1;32m   2940\u001b[0m       (graph_function,\n\u001b[1;32m   2941\u001b[0m        filtered_flat_args) = self._maybe_define_function(args, kwargs)\n\u001b[0;32m-> 2942\u001b[0;31m     return graph_function._call_flat(\n\u001b[0m\u001b[1;32m   2943\u001b[0m         filtered_flat_args, captured_inputs=graph_function.captured_inputs)  # pylint: disable=protected-access\n\u001b[1;32m   2944\u001b[0m \u001b[0;34m\u001b[0m\u001b[0m\n",
      "\u001b[0;32m~/git/ueflow/venv/lib/python3.8/site-packages/tensorflow/python/eager/function.py\u001b[0m in \u001b[0;36m_call_flat\u001b[0;34m(self, args, captured_inputs, cancellation_manager)\u001b[0m\n\u001b[1;32m   1916\u001b[0m         and executing_eagerly):\n\u001b[1;32m   1917\u001b[0m       \u001b[0;31m# No tape is watching; skip to running the function.\u001b[0m\u001b[0;34m\u001b[0m\u001b[0;34m\u001b[0m\u001b[0;34m\u001b[0m\u001b[0m\n\u001b[0;32m-> 1918\u001b[0;31m       return self._build_call_outputs(self._inference_function.call(\n\u001b[0m\u001b[1;32m   1919\u001b[0m           ctx, args, cancellation_manager=cancellation_manager))\n\u001b[1;32m   1920\u001b[0m     forward_backward = self._select_forward_and_backward_functions(\n",
      "\u001b[0;32m~/git/ueflow/venv/lib/python3.8/site-packages/tensorflow/python/eager/function.py\u001b[0m in \u001b[0;36mcall\u001b[0;34m(self, ctx, args, cancellation_manager)\u001b[0m\n\u001b[1;32m    553\u001b[0m       \u001b[0;32mwith\u001b[0m \u001b[0m_InterpolateFunctionError\u001b[0m\u001b[0;34m(\u001b[0m\u001b[0mself\u001b[0m\u001b[0;34m)\u001b[0m\u001b[0;34m:\u001b[0m\u001b[0;34m\u001b[0m\u001b[0;34m\u001b[0m\u001b[0m\n\u001b[1;32m    554\u001b[0m         \u001b[0;32mif\u001b[0m \u001b[0mcancellation_manager\u001b[0m \u001b[0;32mis\u001b[0m \u001b[0;32mNone\u001b[0m\u001b[0;34m:\u001b[0m\u001b[0;34m\u001b[0m\u001b[0;34m\u001b[0m\u001b[0m\n\u001b[0;32m--> 555\u001b[0;31m           outputs = execute.execute(\n\u001b[0m\u001b[1;32m    556\u001b[0m               \u001b[0mstr\u001b[0m\u001b[0;34m(\u001b[0m\u001b[0mself\u001b[0m\u001b[0;34m.\u001b[0m\u001b[0msignature\u001b[0m\u001b[0;34m.\u001b[0m\u001b[0mname\u001b[0m\u001b[0;34m)\u001b[0m\u001b[0;34m,\u001b[0m\u001b[0;34m\u001b[0m\u001b[0;34m\u001b[0m\u001b[0m\n\u001b[1;32m    557\u001b[0m               \u001b[0mnum_outputs\u001b[0m\u001b[0;34m=\u001b[0m\u001b[0mself\u001b[0m\u001b[0;34m.\u001b[0m\u001b[0m_num_outputs\u001b[0m\u001b[0;34m,\u001b[0m\u001b[0;34m\u001b[0m\u001b[0;34m\u001b[0m\u001b[0m\n",
      "\u001b[0;32m~/git/ueflow/venv/lib/python3.8/site-packages/tensorflow/python/eager/execute.py\u001b[0m in \u001b[0;36mquick_execute\u001b[0;34m(op_name, num_outputs, inputs, attrs, ctx, name)\u001b[0m\n\u001b[1;32m     57\u001b[0m   \u001b[0;32mtry\u001b[0m\u001b[0;34m:\u001b[0m\u001b[0;34m\u001b[0m\u001b[0;34m\u001b[0m\u001b[0m\n\u001b[1;32m     58\u001b[0m     \u001b[0mctx\u001b[0m\u001b[0;34m.\u001b[0m\u001b[0mensure_initialized\u001b[0m\u001b[0;34m(\u001b[0m\u001b[0;34m)\u001b[0m\u001b[0;34m\u001b[0m\u001b[0;34m\u001b[0m\u001b[0m\n\u001b[0;32m---> 59\u001b[0;31m     tensors = pywrap_tfe.TFE_Py_Execute(ctx._handle, device_name, op_name,\n\u001b[0m\u001b[1;32m     60\u001b[0m                                         inputs, attrs, num_outputs)\n\u001b[1;32m     61\u001b[0m   \u001b[0;32mexcept\u001b[0m \u001b[0mcore\u001b[0m\u001b[0;34m.\u001b[0m\u001b[0m_NotOkStatusException\u001b[0m \u001b[0;32mas\u001b[0m \u001b[0me\u001b[0m\u001b[0;34m:\u001b[0m\u001b[0;34m\u001b[0m\u001b[0;34m\u001b[0m\u001b[0m\n",
      "\u001b[0;31mKeyboardInterrupt\u001b[0m: "
     ]
    }
   ],
   "source": [
    "def create_model4_improved():\n",
    "    input_delta = Input(shape=(4, 6), name='x_delta')\n",
    "    input_abs_0 = Input(shape=(4, 9), name='x_abs_n_minus_1')\n",
    "    input_abs = Input(shape=(4, 9), name='x_abs_n')\n",
    "    input_force = Input(shape=(3, 1), name='x_force')\n",
    "\n",
    "    input_abs_0_flat = Flatten()(input_abs_0)\n",
    "    input_abs_flat = Flatten()(input_abs)\n",
    "    input_force_flat = Flatten()(input_force)\n",
    "    input_delta_flat = Flatten()(input_delta)\n",
    "    \n",
    "    x = Concatenate()([input_abs_0, input_abs])\n",
    "    #x = Reshape((2, 36))(x)\n",
    "    x = GRU(np.prod(dp.y_abs[0].shape), return_sequences=True,\n",
    "    activation=\"tanh\", recurrent_activation=\"sigmoid\", recurrent_dropout=0, unroll=False, use_bias=True, reset_after=True\n",
    "    )(x)\n",
    "    x = GRU(np.prod(dp.y_abs[0].shape * 2), return_sequences=False,\n",
    "    activation=\"tanh\", recurrent_activation=\"sigmoid\", recurrent_dropout=0, unroll=False, use_bias=True, reset_after=True\n",
    "    )(x)\n",
    "    x = BatchNormalization()(x)\n",
    "    x = Flatten()(x)\n",
    "    x = Concatenate()([x, input_force_flat, input_delta_flat])\n",
    "    x = Dropout(0.2)(x)\n",
    "    x = Dense(np.prod(dp.y_delta[0].shape * 2))(x)\n",
    "    x = Dropout(0.2)(x)\n",
    "    x = Dense(np.prod(dp.y_delta[0].shape * 2))(x)\n",
    "    x = Dropout(0.2)(x)\n",
    "    x = Dense(np.prod(dp.y_delta[0].shape))(x)\n",
    "\n",
    "    output_1 = Reshape(dp.y_delta[0].shape)(x)\n",
    "    model = Model(inputs=[input_abs_0, input_abs, input_force, input_delta], outputs=[output_1])\n",
    "    model.compile(loss=\"mse\", optimizer='rmsprop')\n",
    "    return model\n",
    "\n",
    "create_and_train_network(dp, dp.y_delta, 12, model_generator=create_model4_improved)"
   ]
  },
  {
   "cell_type": "code",
   "execution_count": 93,
   "metadata": {},
   "outputs": [
    {
     "name": "stderr",
     "output_type": "stream",
     "text": [
      "2021-03-06 13:18:05,964: Create model...\n",
      "2021-03-06 13:18:06,084: Fit model..\n"
     ]
    },
    {
     "name": "stdout",
     "output_type": "stream",
     "text": [
      "Model: \"model_32\"\n",
      "__________________________________________________________________________________________________\n",
      "Layer (type)                    Output Shape         Param #     Connected to                     \n",
      "==================================================================================================\n",
      "x_force (InputLayer)            [(None, 3, 1)]       0                                            \n",
      "__________________________________________________________________________________________________\n",
      "x_delta (InputLayer)            [(None, 4, 6)]       0                                            \n",
      "__________________________________________________________________________________________________\n",
      "x_abs_n_minus_1 (InputLayer)    [(None, 4, 9)]       0                                            \n",
      "__________________________________________________________________________________________________\n",
      "x_abs_n (InputLayer)            [(None, 4, 9)]       0                                            \n",
      "__________________________________________________________________________________________________\n",
      "flatten_250 (Flatten)           (None, 3)            0           x_force[0][0]                    \n",
      "__________________________________________________________________________________________________\n",
      "flatten_251 (Flatten)           (None, 24)           0           x_delta[0][0]                    \n",
      "__________________________________________________________________________________________________\n",
      "concatenate_101 (Concatenate)   (None, 4, 18)        0           x_abs_n_minus_1[0][0]            \n",
      "                                                                 x_abs_n[0][0]                    \n",
      "__________________________________________________________________________________________________\n",
      "concatenate_100 (Concatenate)   (None, 27)           0           flatten_250[0][0]                \n",
      "                                                                 flatten_251[0][0]                \n",
      "__________________________________________________________________________________________________\n",
      "gru_28 (GRU)                    (None, 24)           3168        concatenate_101[0][0]            \n",
      "__________________________________________________________________________________________________\n",
      "dense_226 (Dense)               (None, 24)           672         concatenate_100[0][0]            \n",
      "__________________________________________________________________________________________________\n",
      "reshape_83 (Reshape)            (None, 4, 6)         0           gru_28[0][0]                     \n",
      "__________________________________________________________________________________________________\n",
      "reshape_82 (Reshape)            (None, 4, 6)         0           dense_226[0][0]                  \n",
      "__________________________________________________________________________________________________\n",
      "add_9 (Add)                     (None, 4, 6)         0           reshape_83[0][0]                 \n",
      "                                                                 reshape_82[0][0]                 \n",
      "__________________________________________________________________________________________________\n",
      "dense_227 (Dense)               (None, 4, 576)       4032        add_9[0][0]                      \n",
      "__________________________________________________________________________________________________\n",
      "dropout_188 (Dropout)           (None, 4, 576)       0           dense_227[0][0]                  \n",
      "__________________________________________________________________________________________________\n",
      "dense_228 (Dense)               (None, 4, 6)         3462        dropout_188[0][0]                \n",
      "__________________________________________________________________________________________________\n",
      "reshape_84 (Reshape)            (None, 4, 6)         0           dense_228[0][0]                  \n",
      "==================================================================================================\n",
      "Total params: 11,334\n",
      "Trainable params: 11,334\n",
      "Non-trainable params: 0\n",
      "__________________________________________________________________________________________________\n",
      "Epoch 1/10\n",
      "     1/385560 [..............................] - ETA: 86:16:09 - loss: 0.0800WARNING:tensorflow:Callback method `on_train_batch_end` is slow compared to the batch time (batch time: 0.0013s vs `on_train_batch_end` time: 0.0057s). Check your callbacks.\n"
     ]
    },
    {
     "name": "stderr",
     "output_type": "stream",
     "text": [
      "2021-03-06 13:18:07,014: Callback method `on_train_batch_end` is slow compared to the batch time (batch time: 0.0013s vs `on_train_batch_end` time: 0.0057s). Check your callbacks.\n"
     ]
    },
    {
     "name": "stdout",
     "output_type": "stream",
     "text": [
      "385553/385560 [============================>.] - ETA: 0s - loss: 0.0046"
     ]
    },
    {
     "name": "stderr",
     "output_type": "stream",
     "text": [
      "2021-03-06 13:30:39,739: Found untraced functions such as gru_cell_28_layer_call_and_return_conditional_losses, gru_cell_28_layer_call_fn, gru_cell_28_layer_call_fn, gru_cell_28_layer_call_and_return_conditional_losses, gru_cell_28_layer_call_and_return_conditional_losses while saving (showing 5 of 5). These functions will not be directly callable after loading.\n",
      "2021-03-06 13:30:39,773: Found untraced functions such as gru_cell_28_layer_call_and_return_conditional_losses, gru_cell_28_layer_call_fn, gru_cell_28_layer_call_fn, gru_cell_28_layer_call_and_return_conditional_losses, gru_cell_28_layer_call_and_return_conditional_losses while saving (showing 5 of 5). These functions will not be directly callable after loading.\n"
     ]
    },
    {
     "name": "stdout",
     "output_type": "stream",
     "text": [
      "INFO:tensorflow:Assets written to: model\\model_(428400, 4, 6)_(4, 6)_12_1615033838.1805184/assets\n"
     ]
    },
    {
     "name": "stderr",
     "output_type": "stream",
     "text": [
      "2021-03-06 13:30:40,058: Assets written to: model\\model_(428400, 4, 6)_(4, 6)_12_1615033838.1805184/assets\n"
     ]
    },
    {
     "name": "stdout",
     "output_type": "stream",
     "text": [
      "385560/385560 [==============================] - 790s 2ms/step - loss: 0.0046 - val_loss: 0.0037\n",
      "\n",
      "Epoch 00001: val_loss improved from inf to 0.00368, saving model to (428400, 4, 6)_(4, 6)_12_model.h5\n",
      "Epoch 2/10\n",
      "385551/385560 [============================>.] - ETA: 0s - loss: 0.0032"
     ]
    },
    {
     "name": "stderr",
     "output_type": "stream",
     "text": [
      "2021-03-06 13:43:41,096: Found untraced functions such as gru_cell_28_layer_call_and_return_conditional_losses, gru_cell_28_layer_call_fn, gru_cell_28_layer_call_fn, gru_cell_28_layer_call_and_return_conditional_losses, gru_cell_28_layer_call_and_return_conditional_losses while saving (showing 5 of 5). These functions will not be directly callable after loading.\n",
      "2021-03-06 13:43:41,129: Found untraced functions such as gru_cell_28_layer_call_and_return_conditional_losses, gru_cell_28_layer_call_fn, gru_cell_28_layer_call_fn, gru_cell_28_layer_call_and_return_conditional_losses, gru_cell_28_layer_call_and_return_conditional_losses while saving (showing 5 of 5). These functions will not be directly callable after loading.\n"
     ]
    },
    {
     "name": "stdout",
     "output_type": "stream",
     "text": [
      "INFO:tensorflow:Assets written to: model\\model_(428400, 4, 6)_(4, 6)_12_1615034619.4604352/assets\n"
     ]
    },
    {
     "name": "stderr",
     "output_type": "stream",
     "text": [
      "2021-03-06 13:43:41,413: Assets written to: model\\model_(428400, 4, 6)_(4, 6)_12_1615034619.4604352/assets\n"
     ]
    },
    {
     "name": "stdout",
     "output_type": "stream",
     "text": [
      "385560/385560 [==============================] - 781s 2ms/step - loss: 0.0032 - val_loss: 0.0030\n",
      "\n",
      "Epoch 00002: val_loss improved from 0.00368 to 0.00296, saving model to (428400, 4, 6)_(4, 6)_12_model.h5\n",
      "Epoch 3/10\n",
      "385545/385560 [============================>.] - ETA: 0s - loss: 0.0029"
     ]
    },
    {
     "name": "stderr",
     "output_type": "stream",
     "text": [
      "2021-03-06 13:56:48,450: Found untraced functions such as gru_cell_28_layer_call_and_return_conditional_losses, gru_cell_28_layer_call_fn, gru_cell_28_layer_call_fn, gru_cell_28_layer_call_and_return_conditional_losses, gru_cell_28_layer_call_and_return_conditional_losses while saving (showing 5 of 5). These functions will not be directly callable after loading.\n",
      "2021-03-06 13:56:48,485: Found untraced functions such as gru_cell_28_layer_call_and_return_conditional_losses, gru_cell_28_layer_call_fn, gru_cell_28_layer_call_fn, gru_cell_28_layer_call_and_return_conditional_losses, gru_cell_28_layer_call_and_return_conditional_losses while saving (showing 5 of 5). These functions will not be directly callable after loading.\n"
     ]
    },
    {
     "name": "stdout",
     "output_type": "stream",
     "text": [
      "INFO:tensorflow:Assets written to: model\\model_(428400, 4, 6)_(4, 6)_12_1615035406.7520509/assets\n"
     ]
    },
    {
     "name": "stderr",
     "output_type": "stream",
     "text": [
      "2021-03-06 13:56:48,780: Assets written to: model\\model_(428400, 4, 6)_(4, 6)_12_1615035406.7520509/assets\n"
     ]
    },
    {
     "name": "stdout",
     "output_type": "stream",
     "text": [
      "385560/385560 [==============================] - 787s 2ms/step - loss: 0.0029 - val_loss: 0.0031\n",
      "\n",
      "Epoch 00003: val_loss did not improve from 0.00296\n",
      "Epoch 4/10\n",
      "385540/385560 [============================>.] - ETA: 0s - loss: 0.0029"
     ]
    },
    {
     "name": "stderr",
     "output_type": "stream",
     "text": [
      "2021-03-06 14:09:58,774: Found untraced functions such as gru_cell_28_layer_call_and_return_conditional_losses, gru_cell_28_layer_call_fn, gru_cell_28_layer_call_fn, gru_cell_28_layer_call_and_return_conditional_losses, gru_cell_28_layer_call_and_return_conditional_losses while saving (showing 5 of 5). These functions will not be directly callable after loading.\n",
      "2021-03-06 14:09:58,809: Found untraced functions such as gru_cell_28_layer_call_and_return_conditional_losses, gru_cell_28_layer_call_fn, gru_cell_28_layer_call_fn, gru_cell_28_layer_call_and_return_conditional_losses, gru_cell_28_layer_call_and_return_conditional_losses while saving (showing 5 of 5). These functions will not be directly callable after loading.\n"
     ]
    },
    {
     "name": "stdout",
     "output_type": "stream",
     "text": [
      "INFO:tensorflow:Assets written to: model\\model_(428400, 4, 6)_(4, 6)_12_1615036197.0493958/assets\n"
     ]
    },
    {
     "name": "stderr",
     "output_type": "stream",
     "text": [
      "2021-03-06 14:09:59,105: Assets written to: model\\model_(428400, 4, 6)_(4, 6)_12_1615036197.0493958/assets\n"
     ]
    },
    {
     "name": "stdout",
     "output_type": "stream",
     "text": [
      "385560/385560 [==============================] - 790s 2ms/step - loss: 0.0029 - val_loss: 0.0028\n",
      "\n",
      "Epoch 00004: val_loss improved from 0.00296 to 0.00284, saving model to (428400, 4, 6)_(4, 6)_12_model.h5\n",
      "Epoch 5/10\n",
      "385545/385560 [============================>.] - ETA: 0s - loss: 0.0029"
     ]
    },
    {
     "name": "stderr",
     "output_type": "stream",
     "text": [
      "2021-03-06 14:23:06,872: Found untraced functions such as gru_cell_28_layer_call_and_return_conditional_losses, gru_cell_28_layer_call_fn, gru_cell_28_layer_call_fn, gru_cell_28_layer_call_and_return_conditional_losses, gru_cell_28_layer_call_and_return_conditional_losses while saving (showing 5 of 5). These functions will not be directly callable after loading.\n",
      "2021-03-06 14:23:06,906: Found untraced functions such as gru_cell_28_layer_call_and_return_conditional_losses, gru_cell_28_layer_call_fn, gru_cell_28_layer_call_fn, gru_cell_28_layer_call_and_return_conditional_losses, gru_cell_28_layer_call_and_return_conditional_losses while saving (showing 5 of 5). These functions will not be directly callable after loading.\n"
     ]
    },
    {
     "name": "stdout",
     "output_type": "stream",
     "text": [
      "INFO:tensorflow:Assets written to: model\\model_(428400, 4, 6)_(4, 6)_12_1615036985.1891117/assets\n"
     ]
    },
    {
     "name": "stderr",
     "output_type": "stream",
     "text": [
      "2021-03-06 14:23:07,196: Assets written to: model\\model_(428400, 4, 6)_(4, 6)_12_1615036985.1891117/assets\n"
     ]
    },
    {
     "name": "stdout",
     "output_type": "stream",
     "text": [
      "385560/385560 [==============================] - 789s 2ms/step - loss: 0.0029 - val_loss: 0.0028\n",
      "\n",
      "Epoch 00005: val_loss improved from 0.00284 to 0.00281, saving model to (428400, 4, 6)_(4, 6)_12_model.h5\n",
      "Epoch 6/10\n",
      "385548/385560 [============================>.] - ETA: 0s - loss: 0.0029"
     ]
    },
    {
     "name": "stderr",
     "output_type": "stream",
     "text": [
      "2021-03-06 14:36:18,750: Found untraced functions such as gru_cell_28_layer_call_and_return_conditional_losses, gru_cell_28_layer_call_fn, gru_cell_28_layer_call_fn, gru_cell_28_layer_call_and_return_conditional_losses, gru_cell_28_layer_call_and_return_conditional_losses while saving (showing 5 of 5). These functions will not be directly callable after loading.\n",
      "2021-03-06 14:36:18,783: Found untraced functions such as gru_cell_28_layer_call_and_return_conditional_losses, gru_cell_28_layer_call_fn, gru_cell_28_layer_call_fn, gru_cell_28_layer_call_and_return_conditional_losses, gru_cell_28_layer_call_and_return_conditional_losses while saving (showing 5 of 5). These functions will not be directly callable after loading.\n"
     ]
    },
    {
     "name": "stdout",
     "output_type": "stream",
     "text": [
      "INFO:tensorflow:Assets written to: model\\model_(428400, 4, 6)_(4, 6)_12_1615037777.121419/assets\n"
     ]
    },
    {
     "name": "stderr",
     "output_type": "stream",
     "text": [
      "2021-03-06 14:36:19,065: Assets written to: model\\model_(428400, 4, 6)_(4, 6)_12_1615037777.121419/assets\n"
     ]
    },
    {
     "name": "stdout",
     "output_type": "stream",
     "text": [
      "385560/385560 [==============================] - 792s 2ms/step - loss: 0.0029 - val_loss: 0.0029\n",
      "\n",
      "Epoch 00006: val_loss did not improve from 0.00281\n",
      "Epoch 7/10\n",
      "385547/385560 [============================>.] - ETA: 0s - loss: 0.0029"
     ]
    },
    {
     "name": "stderr",
     "output_type": "stream",
     "text": [
      "2021-03-06 14:49:25,725: Found untraced functions such as gru_cell_28_layer_call_and_return_conditional_losses, gru_cell_28_layer_call_fn, gru_cell_28_layer_call_fn, gru_cell_28_layer_call_and_return_conditional_losses, gru_cell_28_layer_call_and_return_conditional_losses while saving (showing 5 of 5). These functions will not be directly callable after loading.\n",
      "2021-03-06 14:49:25,759: Found untraced functions such as gru_cell_28_layer_call_and_return_conditional_losses, gru_cell_28_layer_call_fn, gru_cell_28_layer_call_fn, gru_cell_28_layer_call_and_return_conditional_losses, gru_cell_28_layer_call_and_return_conditional_losses while saving (showing 5 of 5). These functions will not be directly callable after loading.\n"
     ]
    },
    {
     "name": "stdout",
     "output_type": "stream",
     "text": [
      "INFO:tensorflow:Assets written to: model\\model_(428400, 4, 6)_(4, 6)_12_1615038564.0435238/assets\n"
     ]
    },
    {
     "name": "stderr",
     "output_type": "stream",
     "text": [
      "2021-03-06 14:49:26,144: Assets written to: model\\model_(428400, 4, 6)_(4, 6)_12_1615038564.0435238/assets\n"
     ]
    },
    {
     "name": "stdout",
     "output_type": "stream",
     "text": [
      "385560/385560 [==============================] - 786s 2ms/step - loss: 0.0029 - val_loss: 0.0028\n",
      "\n",
      "Epoch 00007: val_loss improved from 0.00281 to 0.00276, saving model to (428400, 4, 6)_(4, 6)_12_model.h5\n",
      "Epoch 8/10\n",
      "385549/385560 [============================>.] - ETA: 0s - loss: 0.0029"
     ]
    },
    {
     "name": "stderr",
     "output_type": "stream",
     "text": [
      "2021-03-06 15:02:33,661: Found untraced functions such as gru_cell_28_layer_call_and_return_conditional_losses, gru_cell_28_layer_call_fn, gru_cell_28_layer_call_fn, gru_cell_28_layer_call_and_return_conditional_losses, gru_cell_28_layer_call_and_return_conditional_losses while saving (showing 5 of 5). These functions will not be directly callable after loading.\n",
      "2021-03-06 15:02:33,696: Found untraced functions such as gru_cell_28_layer_call_and_return_conditional_losses, gru_cell_28_layer_call_fn, gru_cell_28_layer_call_fn, gru_cell_28_layer_call_and_return_conditional_losses, gru_cell_28_layer_call_and_return_conditional_losses while saving (showing 5 of 5). These functions will not be directly callable after loading.\n"
     ]
    },
    {
     "name": "stdout",
     "output_type": "stream",
     "text": [
      "INFO:tensorflow:Assets written to: model\\model_(428400, 4, 6)_(4, 6)_12_1615039352.1309705/assets\n"
     ]
    },
    {
     "name": "stderr",
     "output_type": "stream",
     "text": [
      "2021-03-06 15:02:34,185: Assets written to: model\\model_(428400, 4, 6)_(4, 6)_12_1615039352.1309705/assets\n"
     ]
    },
    {
     "name": "stdout",
     "output_type": "stream",
     "text": [
      "385560/385560 [==============================] - 789s 2ms/step - loss: 0.0029 - val_loss: 0.0029\n",
      "\n",
      "Epoch 00008: val_loss did not improve from 0.00276\n",
      "Epoch 9/10\n",
      "385554/385560 [============================>.] - ETA: 0s - loss: 0.0029"
     ]
    },
    {
     "name": "stderr",
     "output_type": "stream",
     "text": [
      "2021-03-06 15:15:42,742: Found untraced functions such as gru_cell_28_layer_call_and_return_conditional_losses, gru_cell_28_layer_call_fn, gru_cell_28_layer_call_fn, gru_cell_28_layer_call_and_return_conditional_losses, gru_cell_28_layer_call_and_return_conditional_losses while saving (showing 5 of 5). These functions will not be directly callable after loading.\n",
      "2021-03-06 15:15:42,778: Found untraced functions such as gru_cell_28_layer_call_and_return_conditional_losses, gru_cell_28_layer_call_fn, gru_cell_28_layer_call_fn, gru_cell_28_layer_call_and_return_conditional_losses, gru_cell_28_layer_call_and_return_conditional_losses while saving (showing 5 of 5). These functions will not be directly callable after loading.\n"
     ]
    },
    {
     "name": "stdout",
     "output_type": "stream",
     "text": [
      "INFO:tensorflow:Assets written to: model\\model_(428400, 4, 6)_(4, 6)_12_1615040141.201378/assets\n"
     ]
    },
    {
     "name": "stderr",
     "output_type": "stream",
     "text": [
      "2021-03-06 15:15:43,269: Assets written to: model\\model_(428400, 4, 6)_(4, 6)_12_1615040141.201378/assets\n"
     ]
    },
    {
     "name": "stdout",
     "output_type": "stream",
     "text": [
      "385560/385560 [==============================] - 789s 2ms/step - loss: 0.0029 - val_loss: 0.0029\n",
      "\n",
      "Epoch 00009: val_loss did not improve from 0.00276\n",
      "Epoch 10/10\n",
      "385553/385560 [============================>.] - ETA: 0s - loss: 0.0029"
     ]
    },
    {
     "name": "stderr",
     "output_type": "stream",
     "text": [
      "2021-03-06 15:28:50,299: Found untraced functions such as gru_cell_28_layer_call_and_return_conditional_losses, gru_cell_28_layer_call_fn, gru_cell_28_layer_call_fn, gru_cell_28_layer_call_and_return_conditional_losses, gru_cell_28_layer_call_and_return_conditional_losses while saving (showing 5 of 5). These functions will not be directly callable after loading.\n",
      "2021-03-06 15:28:50,334: Found untraced functions such as gru_cell_28_layer_call_and_return_conditional_losses, gru_cell_28_layer_call_fn, gru_cell_28_layer_call_fn, gru_cell_28_layer_call_and_return_conditional_losses, gru_cell_28_layer_call_and_return_conditional_losses while saving (showing 5 of 5). These functions will not be directly callable after loading.\n"
     ]
    },
    {
     "name": "stdout",
     "output_type": "stream",
     "text": [
      "INFO:tensorflow:Assets written to: model\\model_(428400, 4, 6)_(4, 6)_12_1615040928.7645028/assets\n"
     ]
    },
    {
     "name": "stderr",
     "output_type": "stream",
     "text": [
      "2021-03-06 15:28:50,848: Assets written to: model\\model_(428400, 4, 6)_(4, 6)_12_1615040928.7645028/assets\n"
     ]
    },
    {
     "name": "stdout",
     "output_type": "stream",
     "text": [
      "\b\b\b\b\b\b\b\b\b\b\b\b\b\b\b\b\b\b\b\b\b\b\b\b\b\b\b\b\b\b\b\b\b\b\b\b\b\b\b\b\b\b\b\b\b\b\b\b\b\b\b\b\b\b\b\b\b\b\b\b\b\b\b\b\b\b\b\b\b\b\b\r",
      "385560/385560 [==============================] - 787s 2ms/step - loss: 0.0029 - val_loss: 0.0030\n"
     ]
    },
    {
     "name": "stderr",
     "output_type": "stream",
     "text": [
      "2021-03-06 15:29:26,930: Summary\n"
     ]
    },
    {
     "name": "stdout",
     "output_type": "stream",
     "text": [
      "\n",
      "Epoch 00010: val_loss did not improve from 0.00276\n",
      "Model: \"model_32\"\n",
      "__________________________________________________________________________________________________\n",
      "Layer (type)                    Output Shape         Param #     Connected to                     \n",
      "==================================================================================================\n",
      "x_force (InputLayer)            [(None, 3, 1)]       0                                            \n",
      "__________________________________________________________________________________________________\n",
      "x_delta (InputLayer)            [(None, 4, 6)]       0                                            \n",
      "__________________________________________________________________________________________________\n",
      "x_abs_n_minus_1 (InputLayer)    [(None, 4, 9)]       0                                            \n",
      "__________________________________________________________________________________________________\n",
      "x_abs_n (InputLayer)            [(None, 4, 9)]       0                                            \n",
      "__________________________________________________________________________________________________\n",
      "flatten_250 (Flatten)           (None, 3)            0           x_force[0][0]                    \n",
      "__________________________________________________________________________________________________\n",
      "flatten_251 (Flatten)           (None, 24)           0           x_delta[0][0]                    \n",
      "__________________________________________________________________________________________________\n",
      "concatenate_101 (Concatenate)   (None, 4, 18)        0           x_abs_n_minus_1[0][0]            \n",
      "                                                                 x_abs_n[0][0]                    \n",
      "__________________________________________________________________________________________________\n",
      "concatenate_100 (Concatenate)   (None, 27)           0           flatten_250[0][0]                \n",
      "                                                                 flatten_251[0][0]                \n",
      "__________________________________________________________________________________________________\n",
      "gru_28 (GRU)                    (None, 24)           3168        concatenate_101[0][0]            \n",
      "__________________________________________________________________________________________________\n",
      "dense_226 (Dense)               (None, 24)           672         concatenate_100[0][0]            \n",
      "__________________________________________________________________________________________________\n",
      "reshape_83 (Reshape)            (None, 4, 6)         0           gru_28[0][0]                     \n",
      "__________________________________________________________________________________________________\n",
      "reshape_82 (Reshape)            (None, 4, 6)         0           dense_226[0][0]                  \n",
      "__________________________________________________________________________________________________\n",
      "add_9 (Add)                     (None, 4, 6)         0           reshape_83[0][0]                 \n",
      "                                                                 reshape_82[0][0]                 \n",
      "__________________________________________________________________________________________________\n",
      "dense_227 (Dense)               (None, 4, 576)       4032        add_9[0][0]                      \n",
      "__________________________________________________________________________________________________\n",
      "dropout_188 (Dropout)           (None, 4, 576)       0           dense_227[0][0]                  \n",
      "__________________________________________________________________________________________________\n",
      "dense_228 (Dense)               (None, 4, 6)         3462        dropout_188[0][0]                \n",
      "__________________________________________________________________________________________________\n",
      "reshape_84 (Reshape)            (None, 4, 6)         0           dense_228[0][0]                  \n",
      "==================================================================================================\n",
      "Total params: 11,334\n",
      "Trainable params: 11,334\n",
      "Non-trainable params: 0\n",
      "__________________________________________________________________________________________________\n"
     ]
    },
    {
     "name": "stderr",
     "output_type": "stream",
     "text": [
      "2021-03-06 15:29:28,470: Found untraced functions such as gru_cell_28_layer_call_and_return_conditional_losses, gru_cell_28_layer_call_fn, gru_cell_28_layer_call_fn, gru_cell_28_layer_call_and_return_conditional_losses, gru_cell_28_layer_call_and_return_conditional_losses while saving (showing 5 of 5). These functions will not be directly callable after loading.\n",
      "2021-03-06 15:29:28,505: Found untraced functions such as gru_cell_28_layer_call_and_return_conditional_losses, gru_cell_28_layer_call_fn, gru_cell_28_layer_call_fn, gru_cell_28_layer_call_and_return_conditional_losses, gru_cell_28_layer_call_and_return_conditional_losses while saving (showing 5 of 5). These functions will not be directly callable after loading.\n"
     ]
    },
    {
     "name": "stdout",
     "output_type": "stream",
     "text": [
      "INFO:tensorflow:Assets written to: /home/pawel/git/ueflow/samplesGeneration/logs/model_1615040966.933506/model/assets\n"
     ]
    },
    {
     "name": "stderr",
     "output_type": "stream",
     "text": [
      "2021-03-06 15:29:29,002: Assets written to: /home/pawel/git/ueflow/samplesGeneration/logs/model_1615040966.933506/model/assets\n"
     ]
    },
    {
     "data": {
      "text/plain": [
       "<tensorflow.python.keras.callbacks.History at 0x7fc68435fe50>"
      ]
     },
     "execution_count": 93,
     "metadata": {},
     "output_type": "execute_result"
    }
   ],
   "source": [
    "from tensorflow.keras.layers import Add\n",
    "\n",
    "def create_model4_improved():\n",
    "    input_delta = Input(shape=(4, 6), name='x_delta')\n",
    "    input_abs_0 = Input(shape=(4, 9), name='x_abs_n_minus_1')\n",
    "    input_abs = Input(shape=(4, 9), name='x_abs_n')\n",
    "    input_force = Input(shape=(3, 1), name='x_force')\n",
    "\n",
    "    input_abs_0_flat = Flatten()(input_abs_0)\n",
    "    input_abs_flat = Flatten()(input_abs)\n",
    "    \n",
    "    input_force_flat = Flatten()(input_force)\n",
    "    input_delta_flat = Flatten()(input_delta)\n",
    "    delta_force = Concatenate()([input_force_flat, input_delta_flat])\n",
    "    delta_force = Dense(np.prod(dp.y_delta[0].shape))(delta_force)\n",
    "    delta_force = Reshape(dp.y_delta[0].shape)(delta_force)\n",
    "    \n",
    "    x = Concatenate()([input_abs_0, input_abs])\n",
    "    #x = Reshape((2, 36))(x)\n",
    "    x = GRU(np.prod(dp.y_delta[0].shape), return_sequences=False,\n",
    "    activation=\"tanh\", recurrent_activation=\"sigmoid\", recurrent_dropout=0, unroll=False, use_bias=True, reset_after=True\n",
    "    )(x)\n",
    "    x = Reshape(dp.y_delta[0].shape)(x)\n",
    "    x = Add()([x, delta_force])\n",
    "    x = Dense(np.prod(dp.y_delta[0].shape * 2))(x)\n",
    "    x = Dropout(0.2)(x)\n",
    "    x = Dense(dp.y_delta[0].shape[-1])(x)\n",
    "    # print(x.shape, np.prod(dp.y_delta[0].shape), dp.y_delta[0].shape, \"!!!!!!\")\n",
    "    output_1 = Reshape(dp.y_delta[0].shape)(x)\n",
    "    model = Model(inputs=[input_abs_0, input_abs, input_force, input_delta], outputs=[output_1])\n",
    "    model.compile(loss=\"mse\", optimizer='rmsprop')\n",
    "    return model\n",
    "\n",
    "create_and_train_network(dp, dp.y_delta, 12, model_generator=create_model4_improved)"
   ]
  },
  {
   "cell_type": "code",
   "execution_count": 95,
   "metadata": {},
   "outputs": [
    {
     "name": "stderr",
     "output_type": "stream",
     "text": [
      "2021-03-06 18:17:40,483: Create model...\n",
      "2021-03-06 18:17:40,609: Fit model..\n"
     ]
    },
    {
     "name": "stdout",
     "output_type": "stream",
     "text": [
      "Model: \"model_34\"\n",
      "__________________________________________________________________________________________________\n",
      "Layer (type)                    Output Shape         Param #     Connected to                     \n",
      "==================================================================================================\n",
      "x_force (InputLayer)            [(None, 3, 1)]       0                                            \n",
      "__________________________________________________________________________________________________\n",
      "x_delta (InputLayer)            [(None, 4, 6)]       0                                            \n",
      "__________________________________________________________________________________________________\n",
      "x_abs_n_minus_1 (InputLayer)    [(None, 4, 9)]       0                                            \n",
      "__________________________________________________________________________________________________\n",
      "x_abs_n (InputLayer)            [(None, 4, 9)]       0                                            \n",
      "__________________________________________________________________________________________________\n",
      "flatten_259 (Flatten)           (None, 3)            0           x_force[0][0]                    \n",
      "__________________________________________________________________________________________________\n",
      "flatten_260 (Flatten)           (None, 24)           0           x_delta[0][0]                    \n",
      "__________________________________________________________________________________________________\n",
      "concatenate_105 (Concatenate)   (None, 4, 18)        0           x_abs_n_minus_1[0][0]            \n",
      "                                                                 x_abs_n[0][0]                    \n",
      "__________________________________________________________________________________________________\n",
      "concatenate_104 (Concatenate)   (None, 27)           0           flatten_259[0][0]                \n",
      "                                                                 flatten_260[0][0]                \n",
      "__________________________________________________________________________________________________\n",
      "gru_31 (GRU)                    (None, 24)           3168        concatenate_105[0][0]            \n",
      "__________________________________________________________________________________________________\n",
      "dense_232 (Dense)               (None, 24)           672         concatenate_104[0][0]            \n",
      "__________________________________________________________________________________________________\n",
      "reshape_87 (Reshape)            (None, 4, 6)         0           gru_31[0][0]                     \n",
      "__________________________________________________________________________________________________\n",
      "reshape_86 (Reshape)            (None, 4, 6)         0           dense_232[0][0]                  \n",
      "__________________________________________________________________________________________________\n",
      "add_10 (Add)                    (None, 4, 6)         0           reshape_87[0][0]                 \n",
      "                                                                 reshape_86[0][0]                 \n",
      "__________________________________________________________________________________________________\n",
      "dense_233 (Dense)               (None, 4, 576)       4032        add_10[0][0]                     \n",
      "__________________________________________________________________________________________________\n",
      "dropout_192 (Dropout)           (None, 4, 576)       0           dense_233[0][0]                  \n",
      "__________________________________________________________________________________________________\n",
      "dense_234 (Dense)               (None, 4, 9)         5193        dropout_192[0][0]                \n",
      "__________________________________________________________________________________________________\n",
      "reshape_88 (Reshape)            (None, 4, 9)         0           dense_234[0][0]                  \n",
      "==================================================================================================\n",
      "Total params: 13,065\n",
      "Trainable params: 13,065\n",
      "Non-trainable params: 0\n",
      "__________________________________________________________________________________________________\n",
      "Epoch 1/10\n",
      "     1/385560 [..............................] - ETA: 66:53:44 - loss: 27.9756WARNING:tensorflow:Callback method `on_train_batch_end` is slow compared to the batch time (batch time: 0.0020s vs `on_train_batch_end` time: 0.0058s). Check your callbacks.\n"
     ]
    },
    {
     "name": "stderr",
     "output_type": "stream",
     "text": [
      "2021-03-06 18:17:41,357: Callback method `on_train_batch_end` is slow compared to the batch time (batch time: 0.0020s vs `on_train_batch_end` time: 0.0058s). Check your callbacks.\n"
     ]
    },
    {
     "name": "stdout",
     "output_type": "stream",
     "text": [
      "385542/385560 [============================>.] - ETA: 0s - loss: 0.3286"
     ]
    },
    {
     "name": "stderr",
     "output_type": "stream",
     "text": [
      "2021-03-06 18:30:19,139: Found untraced functions such as gru_cell_31_layer_call_and_return_conditional_losses, gru_cell_31_layer_call_fn, gru_cell_31_layer_call_fn, gru_cell_31_layer_call_and_return_conditional_losses, gru_cell_31_layer_call_and_return_conditional_losses while saving (showing 5 of 5). These functions will not be directly callable after loading.\n",
      "2021-03-06 18:30:19,174: Found untraced functions such as gru_cell_31_layer_call_and_return_conditional_losses, gru_cell_31_layer_call_fn, gru_cell_31_layer_call_fn, gru_cell_31_layer_call_and_return_conditional_losses, gru_cell_31_layer_call_and_return_conditional_losses while saving (showing 5 of 5). These functions will not be directly callable after loading.\n"
     ]
    },
    {
     "name": "stdout",
     "output_type": "stream",
     "text": [
      "INFO:tensorflow:Assets written to: model\\model_(428400, 4, 9)_(4, 9)_12_1615051817.288867/assets\n"
     ]
    },
    {
     "name": "stderr",
     "output_type": "stream",
     "text": [
      "2021-03-06 18:30:19,582: Assets written to: model\\model_(428400, 4, 9)_(4, 9)_12_1615051817.288867/assets\n"
     ]
    },
    {
     "name": "stdout",
     "output_type": "stream",
     "text": [
      "385560/385560 [==============================] - 796s 2ms/step - loss: 0.3286 - val_loss: 0.0615\n",
      "\n",
      "Epoch 00001: val_loss improved from inf to 0.06149, saving model to (428400, 4, 9)_(4, 9)_12_model.h5\n",
      "Epoch 2/10\n",
      "385554/385560 [============================>.] - ETA: 0s - loss: 0.0907"
     ]
    },
    {
     "name": "stderr",
     "output_type": "stream",
     "text": [
      "2021-03-06 18:43:34,304: Found untraced functions such as gru_cell_31_layer_call_and_return_conditional_losses, gru_cell_31_layer_call_fn, gru_cell_31_layer_call_fn, gru_cell_31_layer_call_and_return_conditional_losses, gru_cell_31_layer_call_and_return_conditional_losses while saving (showing 5 of 5). These functions will not be directly callable after loading.\n",
      "2021-03-06 18:43:34,339: Found untraced functions such as gru_cell_31_layer_call_and_return_conditional_losses, gru_cell_31_layer_call_fn, gru_cell_31_layer_call_fn, gru_cell_31_layer_call_and_return_conditional_losses, gru_cell_31_layer_call_and_return_conditional_losses while saving (showing 5 of 5). These functions will not be directly callable after loading.\n"
     ]
    },
    {
     "name": "stdout",
     "output_type": "stream",
     "text": [
      "INFO:tensorflow:Assets written to: model\\model_(428400, 4, 9)_(4, 9)_12_1615052612.8273723/assets\n"
     ]
    },
    {
     "name": "stderr",
     "output_type": "stream",
     "text": [
      "2021-03-06 18:43:34,630: Assets written to: model\\model_(428400, 4, 9)_(4, 9)_12_1615052612.8273723/assets\n"
     ]
    },
    {
     "name": "stdout",
     "output_type": "stream",
     "text": [
      "385560/385560 [==============================] - 795s 2ms/step - loss: 0.0907 - val_loss: 0.0558\n",
      "\n",
      "Epoch 00002: val_loss improved from 0.06149 to 0.05576, saving model to (428400, 4, 9)_(4, 9)_12_model.h5\n",
      "Epoch 3/10\n",
      "385554/385560 [============================>.] - ETA: 0s - loss: 0.0898"
     ]
    },
    {
     "name": "stderr",
     "output_type": "stream",
     "text": [
      "2021-03-06 18:56:55,234: Found untraced functions such as gru_cell_31_layer_call_and_return_conditional_losses, gru_cell_31_layer_call_fn, gru_cell_31_layer_call_fn, gru_cell_31_layer_call_and_return_conditional_losses, gru_cell_31_layer_call_and_return_conditional_losses while saving (showing 5 of 5). These functions will not be directly callable after loading.\n",
      "2021-03-06 18:56:55,270: Found untraced functions such as gru_cell_31_layer_call_and_return_conditional_losses, gru_cell_31_layer_call_fn, gru_cell_31_layer_call_fn, gru_cell_31_layer_call_and_return_conditional_losses, gru_cell_31_layer_call_and_return_conditional_losses while saving (showing 5 of 5). These functions will not be directly callable after loading.\n"
     ]
    },
    {
     "name": "stdout",
     "output_type": "stream",
     "text": [
      "INFO:tensorflow:Assets written to: model\\model_(428400, 4, 9)_(4, 9)_12_1615053413.3634837/assets\n"
     ]
    },
    {
     "name": "stderr",
     "output_type": "stream",
     "text": [
      "2021-03-06 18:56:55,685: Assets written to: model\\model_(428400, 4, 9)_(4, 9)_12_1615053413.3634837/assets\n"
     ]
    },
    {
     "name": "stdout",
     "output_type": "stream",
     "text": [
      "385560/385560 [==============================] - 800s 2ms/step - loss: 0.0898 - val_loss: 0.0602\n",
      "\n",
      "Epoch 00003: val_loss did not improve from 0.05576\n",
      "Epoch 4/10\n",
      "385537/385560 [============================>.] - ETA: 0s - loss: 0.0908"
     ]
    },
    {
     "name": "stderr",
     "output_type": "stream",
     "text": [
      "2021-03-06 19:10:07,774: Found untraced functions such as gru_cell_31_layer_call_and_return_conditional_losses, gru_cell_31_layer_call_fn, gru_cell_31_layer_call_fn, gru_cell_31_layer_call_and_return_conditional_losses, gru_cell_31_layer_call_and_return_conditional_losses while saving (showing 5 of 5). These functions will not be directly callable after loading.\n",
      "2021-03-06 19:10:07,815: Found untraced functions such as gru_cell_31_layer_call_and_return_conditional_losses, gru_cell_31_layer_call_fn, gru_cell_31_layer_call_fn, gru_cell_31_layer_call_and_return_conditional_losses, gru_cell_31_layer_call_and_return_conditional_losses while saving (showing 5 of 5). These functions will not be directly callable after loading.\n"
     ]
    },
    {
     "name": "stdout",
     "output_type": "stream",
     "text": [
      "INFO:tensorflow:Assets written to: model\\model_(428400, 4, 9)_(4, 9)_12_1615054206.2363143/assets\n"
     ]
    },
    {
     "name": "stderr",
     "output_type": "stream",
     "text": [
      "2021-03-06 19:10:08,106: Assets written to: model\\model_(428400, 4, 9)_(4, 9)_12_1615054206.2363143/assets\n"
     ]
    },
    {
     "name": "stdout",
     "output_type": "stream",
     "text": [
      "385560/385560 [==============================] - 792s 2ms/step - loss: 0.0908 - val_loss: 0.0770\n",
      "\n",
      "Epoch 00004: val_loss did not improve from 0.05576\n",
      "Epoch 5/10\n",
      "385558/385560 [============================>.] - ETA: 0s - loss: 0.0955"
     ]
    },
    {
     "name": "stderr",
     "output_type": "stream",
     "text": [
      "2021-03-06 19:23:17,619: Found untraced functions such as gru_cell_31_layer_call_and_return_conditional_losses, gru_cell_31_layer_call_fn, gru_cell_31_layer_call_fn, gru_cell_31_layer_call_and_return_conditional_losses, gru_cell_31_layer_call_and_return_conditional_losses while saving (showing 5 of 5). These functions will not be directly callable after loading.\n",
      "2021-03-06 19:23:17,654: Found untraced functions such as gru_cell_31_layer_call_and_return_conditional_losses, gru_cell_31_layer_call_fn, gru_cell_31_layer_call_fn, gru_cell_31_layer_call_and_return_conditional_losses, gru_cell_31_layer_call_and_return_conditional_losses while saving (showing 5 of 5). These functions will not be directly callable after loading.\n"
     ]
    },
    {
     "name": "stdout",
     "output_type": "stream",
     "text": [
      "INFO:tensorflow:Assets written to: model\\model_(428400, 4, 9)_(4, 9)_12_1615054995.7810953/assets\n"
     ]
    },
    {
     "name": "stderr",
     "output_type": "stream",
     "text": [
      "2021-03-06 19:23:17,955: Assets written to: model\\model_(428400, 4, 9)_(4, 9)_12_1615054995.7810953/assets\n"
     ]
    },
    {
     "name": "stdout",
     "output_type": "stream",
     "text": [
      "385560/385560 [==============================] - 790s 2ms/step - loss: 0.0955 - val_loss: 0.0732\n",
      "\n",
      "Epoch 00005: val_loss did not improve from 0.05576\n",
      "Epoch 6/10\n",
      "385559/385560 [============================>.] - ETA: 0s - loss: 0.0991"
     ]
    },
    {
     "name": "stderr",
     "output_type": "stream",
     "text": [
      "2021-03-06 19:36:26,873: Found untraced functions such as gru_cell_31_layer_call_and_return_conditional_losses, gru_cell_31_layer_call_fn, gru_cell_31_layer_call_fn, gru_cell_31_layer_call_and_return_conditional_losses, gru_cell_31_layer_call_and_return_conditional_losses while saving (showing 5 of 5). These functions will not be directly callable after loading.\n",
      "2021-03-06 19:36:26,909: Found untraced functions such as gru_cell_31_layer_call_and_return_conditional_losses, gru_cell_31_layer_call_fn, gru_cell_31_layer_call_fn, gru_cell_31_layer_call_and_return_conditional_losses, gru_cell_31_layer_call_and_return_conditional_losses while saving (showing 5 of 5). These functions will not be directly callable after loading.\n"
     ]
    },
    {
     "name": "stdout",
     "output_type": "stream",
     "text": [
      "INFO:tensorflow:Assets written to: model\\model_(428400, 4, 9)_(4, 9)_12_1615055785.1402104/assets\n"
     ]
    },
    {
     "name": "stderr",
     "output_type": "stream",
     "text": [
      "2021-03-06 19:36:27,208: Assets written to: model\\model_(428400, 4, 9)_(4, 9)_12_1615055785.1402104/assets\n"
     ]
    },
    {
     "name": "stdout",
     "output_type": "stream",
     "text": [
      "\b\b\b\b\b\b\b\b\b\b\b\b\b\b\b\b\b\b\b\b\b\b\b\b\b\b\b\b\b\b\b\b\b\b\b\b\b\b\b\b\b\b\b\b\b\b\b\b\b\b\b\b\b\b\b\b\b\b\b\b\b\b\b\b\b\b\b\b\b\b\b\r",
      "385560/385560 [==============================] - 789s 2ms/step - loss: 0.0991 - val_loss: 0.0743\n"
     ]
    },
    {
     "name": "stderr",
     "output_type": "stream",
     "text": [
      "2021-03-06 19:37:03,087: Summary\n"
     ]
    },
    {
     "name": "stdout",
     "output_type": "stream",
     "text": [
      "\n",
      "Epoch 00006: val_loss did not improve from 0.05576\n",
      "Model: \"model_34\"\n",
      "__________________________________________________________________________________________________\n",
      "Layer (type)                    Output Shape         Param #     Connected to                     \n",
      "==================================================================================================\n",
      "x_force (InputLayer)            [(None, 3, 1)]       0                                            \n",
      "__________________________________________________________________________________________________\n",
      "x_delta (InputLayer)            [(None, 4, 6)]       0                                            \n",
      "__________________________________________________________________________________________________\n",
      "x_abs_n_minus_1 (InputLayer)    [(None, 4, 9)]       0                                            \n",
      "__________________________________________________________________________________________________\n",
      "x_abs_n (InputLayer)            [(None, 4, 9)]       0                                            \n",
      "__________________________________________________________________________________________________\n",
      "flatten_259 (Flatten)           (None, 3)            0           x_force[0][0]                    \n",
      "__________________________________________________________________________________________________\n",
      "flatten_260 (Flatten)           (None, 24)           0           x_delta[0][0]                    \n",
      "__________________________________________________________________________________________________\n",
      "concatenate_105 (Concatenate)   (None, 4, 18)        0           x_abs_n_minus_1[0][0]            \n",
      "                                                                 x_abs_n[0][0]                    \n",
      "__________________________________________________________________________________________________\n",
      "concatenate_104 (Concatenate)   (None, 27)           0           flatten_259[0][0]                \n",
      "                                                                 flatten_260[0][0]                \n",
      "__________________________________________________________________________________________________\n",
      "gru_31 (GRU)                    (None, 24)           3168        concatenate_105[0][0]            \n",
      "__________________________________________________________________________________________________\n",
      "dense_232 (Dense)               (None, 24)           672         concatenate_104[0][0]            \n",
      "__________________________________________________________________________________________________\n",
      "reshape_87 (Reshape)            (None, 4, 6)         0           gru_31[0][0]                     \n",
      "__________________________________________________________________________________________________\n",
      "reshape_86 (Reshape)            (None, 4, 6)         0           dense_232[0][0]                  \n",
      "__________________________________________________________________________________________________\n",
      "add_10 (Add)                    (None, 4, 6)         0           reshape_87[0][0]                 \n",
      "                                                                 reshape_86[0][0]                 \n",
      "__________________________________________________________________________________________________\n",
      "dense_233 (Dense)               (None, 4, 576)       4032        add_10[0][0]                     \n",
      "__________________________________________________________________________________________________\n",
      "dropout_192 (Dropout)           (None, 4, 576)       0           dense_233[0][0]                  \n",
      "__________________________________________________________________________________________________\n",
      "dense_234 (Dense)               (None, 4, 9)         5193        dropout_192[0][0]                \n",
      "__________________________________________________________________________________________________\n",
      "reshape_88 (Reshape)            (None, 4, 9)         0           dense_234[0][0]                  \n",
      "==================================================================================================\n",
      "Total params: 13,065\n",
      "Trainable params: 13,065\n",
      "Non-trainable params: 0\n",
      "__________________________________________________________________________________________________\n"
     ]
    },
    {
     "name": "stderr",
     "output_type": "stream",
     "text": [
      "2021-03-06 19:37:04,830: Found untraced functions such as gru_cell_31_layer_call_and_return_conditional_losses, gru_cell_31_layer_call_fn, gru_cell_31_layer_call_fn, gru_cell_31_layer_call_and_return_conditional_losses, gru_cell_31_layer_call_and_return_conditional_losses while saving (showing 5 of 5). These functions will not be directly callable after loading.\n",
      "2021-03-06 19:37:04,865: Found untraced functions such as gru_cell_31_layer_call_and_return_conditional_losses, gru_cell_31_layer_call_fn, gru_cell_31_layer_call_fn, gru_cell_31_layer_call_and_return_conditional_losses, gru_cell_31_layer_call_and_return_conditional_losses while saving (showing 5 of 5). These functions will not be directly callable after loading.\n"
     ]
    },
    {
     "name": "stdout",
     "output_type": "stream",
     "text": [
      "INFO:tensorflow:Assets written to: /home/pawel/git/ueflow/samplesGeneration/logs/model_1615055823.0924425/model/assets\n"
     ]
    },
    {
     "name": "stderr",
     "output_type": "stream",
     "text": [
      "2021-03-06 19:37:05,164: Assets written to: /home/pawel/git/ueflow/samplesGeneration/logs/model_1615055823.0924425/model/assets\n"
     ]
    },
    {
     "data": {
      "text/plain": [
       "<tensorflow.python.keras.callbacks.History at 0x7fc7a01c6640>"
      ]
     },
     "execution_count": 95,
     "metadata": {},
     "output_type": "execute_result"
    }
   ],
   "source": [
    "from tensorflow.keras.layers import Add\n",
    "\n",
    "def create_model4_improved():\n",
    "    input_delta = Input(shape=(4, 6), name='x_delta')\n",
    "    input_abs_0 = Input(shape=(4, 9), name='x_abs_n_minus_1')\n",
    "    input_abs = Input(shape=(4, 9), name='x_abs_n')\n",
    "    input_force = Input(shape=(3, 1), name='x_force')\n",
    "\n",
    "    input_abs_0_flat = Flatten()(input_abs_0)\n",
    "    input_abs_flat = Flatten()(input_abs)\n",
    "    \n",
    "    input_force_flat = Flatten()(input_force)\n",
    "    input_delta_flat = Flatten()(input_delta)\n",
    "    delta_force = Concatenate()([input_force_flat, input_delta_flat])\n",
    "    delta_force = Dense(np.prod(dp.y_delta[0].shape))(delta_force)\n",
    "    delta_force = Reshape(dp.y_delta[0].shape)(delta_force)\n",
    "    \n",
    "    x = Concatenate()([input_abs_0, input_abs])\n",
    "    #x = Reshape((2, 36))(x)\n",
    "    x = GRU(np.prod(dp.y_delta[0].shape), return_sequences=False,\n",
    "    activation=\"tanh\", recurrent_activation=\"sigmoid\", recurrent_dropout=0, unroll=False, use_bias=True, reset_after=True\n",
    "    )(x)\n",
    "    x = Reshape(dp.y_delta[0].shape)(x)\n",
    "    x = Add()([x, delta_force])\n",
    "    x = Dense(np.prod(dp.y_delta[0].shape * 2))(x)\n",
    "    x = Dropout(0.2)(x)\n",
    "    x = Dense(dp.y_abs[0].shape[-1])(x)\n",
    "    # print(x.shape, np.prod(dp.y_delta[0].shape), dp.y_delta[0].shape, \"!!!!!!\")\n",
    "    output_1 = Reshape(dp.y_abs[0].shape)(x)\n",
    "    model = Model(inputs=[input_abs_0, input_abs, input_force, input_delta], outputs=[output_1])\n",
    "    model.compile(loss=\"mse\", optimizer='rmsprop')\n",
    "    return model\n",
    "\n",
    "create_and_train_network(dp, dp.y_abs, 12, model_generator=create_model4_improved)"
   ]
  },
  {
   "cell_type": "code",
   "execution_count": 97,
   "metadata": {},
   "outputs": [
    {
     "name": "stderr",
     "output_type": "stream",
     "text": [
      "2021-03-06 19:44:09,024: Create model...\n",
      "2021-03-06 19:44:09,072: Fit model..\n"
     ]
    },
    {
     "name": "stdout",
     "output_type": "stream",
     "text": [
      "Model: \"model_35\"\n",
      "__________________________________________________________________________________________________\n",
      "Layer (type)                    Output Shape         Param #     Connected to                     \n",
      "==================================================================================================\n",
      "x_force (InputLayer)            [(None, 3, 1)]       0                                            \n",
      "__________________________________________________________________________________________________\n",
      "x_delta (InputLayer)            [(None, 4, 6)]       0                                            \n",
      "__________________________________________________________________________________________________\n",
      "flatten_263 (Flatten)           (None, 3)            0           x_force[0][0]                    \n",
      "__________________________________________________________________________________________________\n",
      "flatten_264 (Flatten)           (None, 24)           0           x_delta[0][0]                    \n",
      "__________________________________________________________________________________________________\n",
      "concatenate_106 (Concatenate)   (None, 27)           0           flatten_263[0][0]                \n",
      "                                                                 flatten_264[0][0]                \n",
      "__________________________________________________________________________________________________\n",
      "x_abs_n (InputLayer)            [(None, 4, 9)]       0                                            \n",
      "__________________________________________________________________________________________________\n",
      "dense_235 (Dense)               (None, 24)           672         concatenate_106[0][0]            \n",
      "__________________________________________________________________________________________________\n",
      "dense_236 (Dense)               (None, 4, 6)         60          x_abs_n[0][0]                    \n",
      "__________________________________________________________________________________________________\n",
      "reshape_89 (Reshape)            (None, 4, 6)         0           dense_235[0][0]                  \n",
      "__________________________________________________________________________________________________\n",
      "add_11 (Add)                    (None, 4, 6)         0           dense_236[0][0]                  \n",
      "                                                                 reshape_89[0][0]                 \n",
      "__________________________________________________________________________________________________\n",
      "dense_237 (Dense)               (None, 4, 128)       896         add_11[0][0]                     \n",
      "__________________________________________________________________________________________________\n",
      "dropout_193 (Dropout)           (None, 4, 128)       0           dense_237[0][0]                  \n",
      "__________________________________________________________________________________________________\n",
      "dense_238 (Dense)               (None, 4, 6)         774         dropout_193[0][0]                \n",
      "__________________________________________________________________________________________________\n",
      "x_abs_n_minus_1 (InputLayer)    [(None, 4, 9)]       0                                            \n",
      "__________________________________________________________________________________________________\n",
      "reshape_90 (Reshape)            (None, 4, 6)         0           dense_238[0][0]                  \n",
      "==================================================================================================\n",
      "Total params: 2,402\n",
      "Trainable params: 2,402\n",
      "Non-trainable params: 0\n",
      "__________________________________________________________________________________________________\n",
      "Epoch 1/10\n",
      "     1/385560 [..............................] - ETA: 26:02:13 - loss: 7.5286WARNING:tensorflow:Callback method `on_train_batch_end` is slow compared to the batch time (batch time: 0.0012s vs `on_train_batch_end` time: 0.0019s). Check your callbacks.\n"
     ]
    },
    {
     "name": "stderr",
     "output_type": "stream",
     "text": [
      "2021-03-06 19:44:09,403: Callback method `on_train_batch_end` is slow compared to the batch time (batch time: 0.0012s vs `on_train_batch_end` time: 0.0019s). Check your callbacks.\n"
     ]
    },
    {
     "name": "stdout",
     "output_type": "stream",
     "text": [
      "385552/385560 [============================>.] - ETA: 0s - loss: 0.0103INFO:tensorflow:Assets written to: model\\model_(428400, 4, 6)_(4, 6)_12_1615056710.3851628/assets\n"
     ]
    },
    {
     "name": "stderr",
     "output_type": "stream",
     "text": [
      "2021-03-06 19:51:51,144: Assets written to: model\\model_(428400, 4, 6)_(4, 6)_12_1615056710.3851628/assets\n"
     ]
    },
    {
     "name": "stdout",
     "output_type": "stream",
     "text": [
      "385560/385560 [==============================] - 487s 1ms/step - loss: 0.0103 - val_loss: 0.0027\n",
      "\n",
      "Epoch 00001: val_loss improved from inf to 0.00274, saving model to (428400, 4, 6)_(4, 6)_12_model.h5\n",
      "Epoch 2/10\n",
      "385546/385560 [============================>.] - ETA: 0s - loss: 0.0028INFO:tensorflow:Assets written to: model\\model_(428400, 4, 6)_(4, 6)_12_1615057200.1351964/assets\n"
     ]
    },
    {
     "name": "stderr",
     "output_type": "stream",
     "text": [
      "2021-03-06 20:00:00,693: Assets written to: model\\model_(428400, 4, 6)_(4, 6)_12_1615057200.1351964/assets\n"
     ]
    },
    {
     "name": "stdout",
     "output_type": "stream",
     "text": [
      "385560/385560 [==============================] - 489s 1ms/step - loss: 0.0028 - val_loss: 0.0029\n",
      "\n",
      "Epoch 00002: val_loss did not improve from 0.00274\n",
      "Epoch 3/10\n",
      "385548/385560 [============================>.] - ETA: 0s - loss: 0.0028INFO:tensorflow:Assets written to: model\\model_(428400, 4, 6)_(4, 6)_12_1615057684.820463/assets\n"
     ]
    },
    {
     "name": "stderr",
     "output_type": "stream",
     "text": [
      "2021-03-06 20:08:05,382: Assets written to: model\\model_(428400, 4, 6)_(4, 6)_12_1615057684.820463/assets\n"
     ]
    },
    {
     "name": "stdout",
     "output_type": "stream",
     "text": [
      "385560/385560 [==============================] - 484s 1ms/step - loss: 0.0028 - val_loss: 0.0027\n",
      "\n",
      "Epoch 00003: val_loss improved from 0.00274 to 0.00273, saving model to (428400, 4, 6)_(4, 6)_12_model.h5\n",
      "Epoch 4/10\n",
      "385557/385560 [============================>.] - ETA: 0s - loss: 0.0028INFO:tensorflow:Assets written to: model\\model_(428400, 4, 6)_(4, 6)_12_1615058169.0465415/assets\n"
     ]
    },
    {
     "name": "stderr",
     "output_type": "stream",
     "text": [
      "2021-03-06 20:16:09,746: Assets written to: model\\model_(428400, 4, 6)_(4, 6)_12_1615058169.0465415/assets\n"
     ]
    },
    {
     "name": "stdout",
     "output_type": "stream",
     "text": [
      "385560/385560 [==============================] - 485s 1ms/step - loss: 0.0028 - val_loss: 0.0029\n",
      "\n",
      "Epoch 00004: val_loss did not improve from 0.00273\n",
      "Epoch 5/10\n",
      "385545/385560 [============================>.] - ETA: 0s - loss: 0.0028INFO:tensorflow:Assets written to: model\\model_(428400, 4, 6)_(4, 6)_12_1615058654.942621/assets\n"
     ]
    },
    {
     "name": "stderr",
     "output_type": "stream",
     "text": [
      "2021-03-06 20:24:15,484: Assets written to: model\\model_(428400, 4, 6)_(4, 6)_12_1615058654.942621/assets\n"
     ]
    },
    {
     "name": "stdout",
     "output_type": "stream",
     "text": [
      "385560/385560 [==============================] - 486s 1ms/step - loss: 0.0028 - val_loss: 0.0026\n",
      "\n",
      "Epoch 00005: val_loss improved from 0.00273 to 0.00264, saving model to (428400, 4, 6)_(4, 6)_12_model.h5\n",
      "Epoch 6/10\n",
      "385543/385560 [============================>.] - ETA: 0s - loss: 0.0028INFO:tensorflow:Assets written to: model\\model_(428400, 4, 6)_(4, 6)_12_1615059139.4931407/assets\n"
     ]
    },
    {
     "name": "stderr",
     "output_type": "stream",
     "text": [
      "2021-03-06 20:32:20,063: Assets written to: model\\model_(428400, 4, 6)_(4, 6)_12_1615059139.4931407/assets\n"
     ]
    },
    {
     "name": "stdout",
     "output_type": "stream",
     "text": [
      "385560/385560 [==============================] - 484s 1ms/step - loss: 0.0028 - val_loss: 0.0027\n",
      "\n",
      "Epoch 00006: val_loss did not improve from 0.00264\n",
      "Epoch 7/10\n",
      "385528/385560 [============================>.] - ETA: 0s - loss: 0.0028INFO:tensorflow:Assets written to: model\\model_(428400, 4, 6)_(4, 6)_12_1615059627.3286495/assets\n"
     ]
    },
    {
     "name": "stderr",
     "output_type": "stream",
     "text": [
      "2021-03-06 20:40:28,036: Assets written to: model\\model_(428400, 4, 6)_(4, 6)_12_1615059627.3286495/assets\n"
     ]
    },
    {
     "name": "stdout",
     "output_type": "stream",
     "text": [
      "385560/385560 [==============================] - 488s 1ms/step - loss: 0.0028 - val_loss: 0.0028\n",
      "\n",
      "Epoch 00007: val_loss did not improve from 0.00264\n",
      "Epoch 8/10\n",
      "385537/385560 [============================>.] - ETA: 0s - loss: 0.0028INFO:tensorflow:Assets written to: model\\model_(428400, 4, 6)_(4, 6)_12_1615060112.5609777/assets\n"
     ]
    },
    {
     "name": "stderr",
     "output_type": "stream",
     "text": [
      "2021-03-06 20:48:33,129: Assets written to: model\\model_(428400, 4, 6)_(4, 6)_12_1615060112.5609777/assets\n"
     ]
    },
    {
     "name": "stdout",
     "output_type": "stream",
     "text": [
      "385560/385560 [==============================] - 486s 1ms/step - loss: 0.0028 - val_loss: 0.0029\n",
      "\n",
      "Epoch 00008: val_loss did not improve from 0.00264\n",
      "Epoch 9/10\n",
      "385531/385560 [============================>.] - ETA: 0s - loss: 0.0028INFO:tensorflow:Assets written to: model\\model_(428400, 4, 6)_(4, 6)_12_1615060600.9959114/assets\n"
     ]
    },
    {
     "name": "stderr",
     "output_type": "stream",
     "text": [
      "2021-03-06 20:56:41,545: Assets written to: model\\model_(428400, 4, 6)_(4, 6)_12_1615060600.9959114/assets\n"
     ]
    },
    {
     "name": "stdout",
     "output_type": "stream",
     "text": [
      "\b\b\b\b\b\b\b\b\b\b\b\b\b\b\b\b\b\b\b\b\b\b\b\b\b\b\b\b\b\b\b\b\b\b\b\b\b\b\b\b\b\b\b\b\b\b\b\b\b\b\b\b\b\b\b\b\b\b\b\b\b\b\b\b\b\b\b\b\b\b\b\r",
      "385560/385560 [==============================] - 488s 1ms/step - loss: 0.0028 - val_loss: 0.0028\n"
     ]
    },
    {
     "name": "stderr",
     "output_type": "stream",
     "text": [
      "2021-03-06 20:57:05,936: Summary\n"
     ]
    },
    {
     "name": "stdout",
     "output_type": "stream",
     "text": [
      "\n",
      "Epoch 00009: val_loss did not improve from 0.00264\n",
      "Model: \"model_35\"\n",
      "__________________________________________________________________________________________________\n",
      "Layer (type)                    Output Shape         Param #     Connected to                     \n",
      "==================================================================================================\n",
      "x_force (InputLayer)            [(None, 3, 1)]       0                                            \n",
      "__________________________________________________________________________________________________\n",
      "x_delta (InputLayer)            [(None, 4, 6)]       0                                            \n",
      "__________________________________________________________________________________________________\n",
      "flatten_263 (Flatten)           (None, 3)            0           x_force[0][0]                    \n",
      "__________________________________________________________________________________________________\n",
      "flatten_264 (Flatten)           (None, 24)           0           x_delta[0][0]                    \n",
      "__________________________________________________________________________________________________\n",
      "concatenate_106 (Concatenate)   (None, 27)           0           flatten_263[0][0]                \n",
      "                                                                 flatten_264[0][0]                \n",
      "__________________________________________________________________________________________________\n",
      "x_abs_n (InputLayer)            [(None, 4, 9)]       0                                            \n",
      "__________________________________________________________________________________________________\n",
      "dense_235 (Dense)               (None, 24)           672         concatenate_106[0][0]            \n",
      "__________________________________________________________________________________________________\n",
      "dense_236 (Dense)               (None, 4, 6)         60          x_abs_n[0][0]                    \n",
      "__________________________________________________________________________________________________\n",
      "reshape_89 (Reshape)            (None, 4, 6)         0           dense_235[0][0]                  \n",
      "__________________________________________________________________________________________________\n",
      "add_11 (Add)                    (None, 4, 6)         0           dense_236[0][0]                  \n",
      "                                                                 reshape_89[0][0]                 \n",
      "__________________________________________________________________________________________________\n",
      "dense_237 (Dense)               (None, 4, 128)       896         add_11[0][0]                     \n",
      "__________________________________________________________________________________________________\n",
      "dropout_193 (Dropout)           (None, 4, 128)       0           dense_237[0][0]                  \n",
      "__________________________________________________________________________________________________\n",
      "dense_238 (Dense)               (None, 4, 6)         774         dropout_193[0][0]                \n",
      "__________________________________________________________________________________________________\n",
      "x_abs_n_minus_1 (InputLayer)    [(None, 4, 9)]       0                                            \n",
      "__________________________________________________________________________________________________\n",
      "reshape_90 (Reshape)            (None, 4, 6)         0           dense_238[0][0]                  \n",
      "==================================================================================================\n",
      "Total params: 2,402\n",
      "Trainable params: 2,402\n",
      "Non-trainable params: 0\n",
      "__________________________________________________________________________________________________\n",
      "INFO:tensorflow:Assets written to: /home/pawel/git/ueflow/samplesGeneration/logs/model_1615060625.9411633/model/assets\n"
     ]
    },
    {
     "name": "stderr",
     "output_type": "stream",
     "text": [
      "2021-03-06 20:57:06,479: Assets written to: /home/pawel/git/ueflow/samplesGeneration/logs/model_1615060625.9411633/model/assets\n"
     ]
    },
    {
     "data": {
      "text/plain": [
       "<tensorflow.python.keras.callbacks.History at 0x7fc7ca356610>"
      ]
     },
     "execution_count": 97,
     "metadata": {},
     "output_type": "execute_result"
    }
   ],
   "source": [
    "from tensorflow.keras.layers import Add\n",
    "\n",
    "def create_model4_improved():\n",
    "    input_delta = Input(shape=(4, 6), name='x_delta')\n",
    "    input_abs_0 = Input(shape=(4, 9), name='x_abs_n_minus_1')\n",
    "    input_abs = Input(shape=(4, 9), name='x_abs_n')\n",
    "    input_force = Input(shape=(3, 1), name='x_force')\n",
    "\n",
    "    input_abs_0_flat = Flatten()(input_abs_0)\n",
    "    input_abs_flat = Flatten()(input_abs)\n",
    "    \n",
    "    input_force_flat = Flatten()(input_force)\n",
    "    input_delta_flat = Flatten()(input_delta)\n",
    "    delta_force = Concatenate()([input_force_flat, input_delta_flat])\n",
    "    delta_force = Dense(np.prod(dp.y_delta[0].shape))(delta_force)\n",
    "    delta_force = Reshape(dp.y_delta[0].shape)(delta_force)\n",
    "    \n",
    "    x = Dense(np.prod(dp.y_delta[0].shape[-1]))(input_abs)\n",
    "    x = Add()([x, delta_force])\n",
    "    x = Dense(np.prod(128))(x)\n",
    "    x = Dropout(0.2)(x)\n",
    "    x = Dense(dp.y_delta[0].shape[-1])(x)\n",
    "    # print(x.shape, np.prod(dp.y_delta[0].shape), dp.y_delta[0].shape, \"!!!!!!\")\n",
    "    output_1 = Reshape(dp.y_delta[0].shape)(x)\n",
    "    model = Model(inputs=[input_abs_0, input_abs, input_force, input_delta], outputs=[output_1])\n",
    "    model.compile(loss=\"mse\", optimizer='rmsprop')\n",
    "    return model\n",
    "\n",
    "create_and_train_network(dp, dp.y_delta, 12, model_generator=create_model4_improved)"
   ]
  },
  {
   "cell_type": "code",
   "execution_count": 119,
   "metadata": {},
   "outputs": [
    {
     "name": "stderr",
     "output_type": "stream",
     "text": [
      "2021-03-07 09:18:43,119: Create model...\n",
      "2021-03-07 09:18:43,169: Fit model..\n"
     ]
    },
    {
     "name": "stdout",
     "output_type": "stream",
     "text": [
      "Model: \"model_44\"\n",
      "__________________________________________________________________________________________________\n",
      "Layer (type)                    Output Shape         Param #     Connected to                     \n",
      "==================================================================================================\n",
      "x_force (InputLayer)            [(None, 3, 1)]       0                                            \n",
      "__________________________________________________________________________________________________\n",
      "x_delta (InputLayer)            [(None, 4, 6)]       0                                            \n",
      "__________________________________________________________________________________________________\n",
      "flatten_329 (Flatten)           (None, 3)            0           x_force[0][0]                    \n",
      "__________________________________________________________________________________________________\n",
      "flatten_330 (Flatten)           (None, 24)           0           x_delta[0][0]                    \n",
      "__________________________________________________________________________________________________\n",
      "x_abs_n (InputLayer)            [(None, 4, 9)]       0                                            \n",
      "__________________________________________________________________________________________________\n",
      "concatenate_125 (Concatenate)   (None, 27)           0           flatten_329[0][0]                \n",
      "                                                                 flatten_330[0][0]                \n",
      "__________________________________________________________________________________________________\n",
      "dense_329 (Dense)               (None, 4, 6)         60          x_abs_n[0][0]                    \n",
      "__________________________________________________________________________________________________\n",
      "dense_328 (Dense)               (None, 24)           672         concatenate_125[0][0]            \n",
      "__________________________________________________________________________________________________\n",
      "reshape_111 (Reshape)           (None, 4, 6)         0           dense_329[0][0]                  \n",
      "__________________________________________________________________________________________________\n",
      "reshape_110 (Reshape)           (None, 4, 6)         0           dense_328[0][0]                  \n",
      "__________________________________________________________________________________________________\n",
      "add_26 (Add)                    (None, 4, 6)         0           reshape_111[0][0]                \n",
      "                                                                 reshape_110[0][0]                \n",
      "__________________________________________________________________________________________________\n",
      "dense_330 (Dense)               (None, 4, 576)       4032        add_26[0][0]                     \n",
      "__________________________________________________________________________________________________\n",
      "dropout_198 (Dropout)           (None, 4, 576)       0           dense_330[0][0]                  \n",
      "__________________________________________________________________________________________________\n",
      "dense_331 (Dense)               (None, 4, 9)         5193        dropout_198[0][0]                \n",
      "__________________________________________________________________________________________________\n",
      "x_abs_n_minus_1 (InputLayer)    [(None, 4, 9)]       0                                            \n",
      "__________________________________________________________________________________________________\n",
      "reshape_112 (Reshape)           (None, 4, 9)         0           dense_331[0][0]                  \n",
      "==================================================================================================\n",
      "Total params: 9,957\n",
      "Trainable params: 9,957\n",
      "Non-trainable params: 0\n",
      "__________________________________________________________________________________________________\n",
      "Epoch 1/10\n",
      "     1/385560 [..............................] - ETA: 27:41:06 - loss: 3.6180WARNING:tensorflow:Callback method `on_train_batch_end` is slow compared to the batch time (batch time: 0.0014s vs `on_train_batch_end` time: 0.0019s). Check your callbacks.\n"
     ]
    },
    {
     "name": "stderr",
     "output_type": "stream",
     "text": [
      "2021-03-07 09:18:43,521: Callback method `on_train_batch_end` is slow compared to the batch time (batch time: 0.0014s vs `on_train_batch_end` time: 0.0019s). Check your callbacks.\n"
     ]
    },
    {
     "name": "stdout",
     "output_type": "stream",
     "text": [
      "385520/385560 [============================>.] - ETA: 0s - loss: 0.0559INFO:tensorflow:Assets written to: model\\model_(428400, 4, 9)_(4, 9)_12_1615105584.311614/assets\n"
     ]
    },
    {
     "name": "stderr",
     "output_type": "stream",
     "text": [
      "2021-03-07 09:26:25,089: Assets written to: model\\model_(428400, 4, 9)_(4, 9)_12_1615105584.311614/assets\n"
     ]
    },
    {
     "name": "stdout",
     "output_type": "stream",
     "text": [
      "385560/385560 [==============================] - 486s 1ms/step - loss: 0.0559 - val_loss: 0.0093\n",
      "\n",
      "Epoch 00001: val_loss improved from inf to 0.00928, saving model to (428400, 4, 9)_(4, 9)_12_model.h5\n",
      "Epoch 2/10\n",
      "385538/385560 [============================>.] - ETA: 0s - loss: 0.0384INFO:tensorflow:Assets written to: model\\model_(428400, 4, 9)_(4, 9)_12_1615106067.462489/assets\n"
     ]
    },
    {
     "name": "stderr",
     "output_type": "stream",
     "text": [
      "2021-03-07 09:34:28,050: Assets written to: model\\model_(428400, 4, 9)_(4, 9)_12_1615106067.462489/assets\n"
     ]
    },
    {
     "name": "stdout",
     "output_type": "stream",
     "text": [
      "385560/385560 [==============================] - 482s 1ms/step - loss: 0.0384 - val_loss: 0.0194\n",
      "\n",
      "Epoch 00002: val_loss did not improve from 0.00928\n",
      "Epoch 3/10\n",
      "385541/385560 [============================>.] - ETA: 0s - loss: 0.0383INFO:tensorflow:Assets written to: model\\model_(428400, 4, 9)_(4, 9)_12_1615106551.231241/assets\n"
     ]
    },
    {
     "name": "stderr",
     "output_type": "stream",
     "text": [
      "2021-03-07 09:42:31,821: Assets written to: model\\model_(428400, 4, 9)_(4, 9)_12_1615106551.231241/assets\n"
     ]
    },
    {
     "name": "stdout",
     "output_type": "stream",
     "text": [
      "385560/385560 [==============================] - 484s 1ms/step - loss: 0.0383 - val_loss: 0.0127\n",
      "\n",
      "Epoch 00003: val_loss did not improve from 0.00928\n",
      "Epoch 4/10\n",
      "385528/385560 [============================>.] - ETA: 0s - loss: 0.0384INFO:tensorflow:Assets written to: model\\model_(428400, 4, 9)_(4, 9)_12_1615107034.7510326/assets\n"
     ]
    },
    {
     "name": "stderr",
     "output_type": "stream",
     "text": [
      "2021-03-07 09:50:35,512: Assets written to: model\\model_(428400, 4, 9)_(4, 9)_12_1615107034.7510326/assets\n"
     ]
    },
    {
     "name": "stdout",
     "output_type": "stream",
     "text": [
      "385560/385560 [==============================] - 484s 1ms/step - loss: 0.0384 - val_loss: 0.0109\n",
      "\n",
      "Epoch 00004: val_loss did not improve from 0.00928\n",
      "Epoch 5/10\n",
      "385550/385560 [============================>.] - ETA: 0s - loss: 0.0386INFO:tensorflow:Assets written to: model\\model_(428400, 4, 9)_(4, 9)_12_1615107524.0938792/assets\n"
     ]
    },
    {
     "name": "stderr",
     "output_type": "stream",
     "text": [
      "2021-03-07 09:58:44,678: Assets written to: model\\model_(428400, 4, 9)_(4, 9)_12_1615107524.0938792/assets\n"
     ]
    },
    {
     "name": "stdout",
     "output_type": "stream",
     "text": [
      "\b\b\b\b\b\b\b\b\b\b\b\b\b\b\b\b\b\b\b\b\b\b\b\b\b\b\b\b\b\b\b\b\b\b\b\b\b\b\b\b\b\b\b\b\b\b\b\b\b\b\b\b\b\b\b\b\b\b\b\b\b\b\b\b\b\b\b\b\b\b\b\r",
      "385560/385560 [==============================] - 489s 1ms/step - loss: 0.0386 - val_loss: 0.0108\n"
     ]
    },
    {
     "name": "stderr",
     "output_type": "stream",
     "text": [
      "2021-03-07 09:59:09,057: Summary\n"
     ]
    },
    {
     "name": "stdout",
     "output_type": "stream",
     "text": [
      "\n",
      "Epoch 00005: val_loss did not improve from 0.00928\n",
      "Model: \"model_44\"\n",
      "__________________________________________________________________________________________________\n",
      "Layer (type)                    Output Shape         Param #     Connected to                     \n",
      "==================================================================================================\n",
      "x_force (InputLayer)            [(None, 3, 1)]       0                                            \n",
      "__________________________________________________________________________________________________\n",
      "x_delta (InputLayer)            [(None, 4, 6)]       0                                            \n",
      "__________________________________________________________________________________________________\n",
      "flatten_329 (Flatten)           (None, 3)            0           x_force[0][0]                    \n",
      "__________________________________________________________________________________________________\n",
      "flatten_330 (Flatten)           (None, 24)           0           x_delta[0][0]                    \n",
      "__________________________________________________________________________________________________\n",
      "x_abs_n (InputLayer)            [(None, 4, 9)]       0                                            \n",
      "__________________________________________________________________________________________________\n",
      "concatenate_125 (Concatenate)   (None, 27)           0           flatten_329[0][0]                \n",
      "                                                                 flatten_330[0][0]                \n",
      "__________________________________________________________________________________________________\n",
      "dense_329 (Dense)               (None, 4, 6)         60          x_abs_n[0][0]                    \n",
      "__________________________________________________________________________________________________\n",
      "dense_328 (Dense)               (None, 24)           672         concatenate_125[0][0]            \n",
      "__________________________________________________________________________________________________\n",
      "reshape_111 (Reshape)           (None, 4, 6)         0           dense_329[0][0]                  \n",
      "__________________________________________________________________________________________________\n",
      "reshape_110 (Reshape)           (None, 4, 6)         0           dense_328[0][0]                  \n",
      "__________________________________________________________________________________________________\n",
      "add_26 (Add)                    (None, 4, 6)         0           reshape_111[0][0]                \n",
      "                                                                 reshape_110[0][0]                \n",
      "__________________________________________________________________________________________________\n",
      "dense_330 (Dense)               (None, 4, 576)       4032        add_26[0][0]                     \n",
      "__________________________________________________________________________________________________\n",
      "dropout_198 (Dropout)           (None, 4, 576)       0           dense_330[0][0]                  \n",
      "__________________________________________________________________________________________________\n",
      "dense_331 (Dense)               (None, 4, 9)         5193        dropout_198[0][0]                \n",
      "__________________________________________________________________________________________________\n",
      "x_abs_n_minus_1 (InputLayer)    [(None, 4, 9)]       0                                            \n",
      "__________________________________________________________________________________________________\n",
      "reshape_112 (Reshape)           (None, 4, 9)         0           dense_331[0][0]                  \n",
      "==================================================================================================\n",
      "Total params: 9,957\n",
      "Trainable params: 9,957\n",
      "Non-trainable params: 0\n",
      "__________________________________________________________________________________________________\n",
      "INFO:tensorflow:Assets written to: /home/pawel/git/ueflow/samplesGeneration/logs/model_1615107549.0611713/model/assets\n"
     ]
    },
    {
     "name": "stderr",
     "output_type": "stream",
     "text": [
      "2021-03-07 09:59:09,664: Assets written to: /home/pawel/git/ueflow/samplesGeneration/logs/model_1615107549.0611713/model/assets\n"
     ]
    },
    {
     "data": {
      "text/plain": [
       "<tensorflow.python.keras.callbacks.History at 0x7fc710737fa0>"
      ]
     },
     "execution_count": 119,
     "metadata": {},
     "output_type": "execute_result"
    }
   ],
   "source": [
    "from tensorflow.keras.layers import Add\n",
    "\n",
    "def create_model4_improved():\n",
    "    input_delta = Input(shape=(4, 6), name='x_delta')\n",
    "    input_abs_0 = Input(shape=(4, 9), name='x_abs_n_minus_1')\n",
    "    input_abs = Input(shape=(4, 9), name='x_abs_n')\n",
    "    input_force = Input(shape=(3, 1), name='x_force')\n",
    "\n",
    "    input_abs_0_flat = Flatten()(input_abs_0)\n",
    "    input_abs_flat = Flatten()(input_abs)\n",
    "    \n",
    "    input_force_flat = Flatten()(input_force)\n",
    "    input_delta_flat = Flatten()(input_delta)\n",
    "    delta_force = Concatenate()([input_force_flat, input_delta_flat])\n",
    "    delta_force = Dense(np.prod(dp.y_delta[0].shape))(delta_force)\n",
    "    delta_force = Reshape(dp.y_delta[0].shape)(delta_force)\n",
    "    \n",
    "    x = Dense(np.prod(dp.y_delta[0].shape[-1]))(input_abs)\n",
    "    x = Reshape(dp.y_delta[0].shape)(x)\n",
    "    x = Add()([x, delta_force])\n",
    "    x = Dense(np.prod(dp.y_delta[0].shape * 2))(x)\n",
    "    x = Dropout(0.2)(x)\n",
    "    x = Dense(dp.y_abs[0].shape[-1])(x)\n",
    "    # print(x.shape, np.prod(dp.y_delta[0].shape), dp.y_delta[0].shape, \"!!!!!!\")\n",
    "    output_1 = Reshape(dp.y_abs[0].shape)(x)\n",
    "    model = Model(inputs=[input_abs_0, input_abs, input_force, input_delta], outputs=[output_1])\n",
    "    model.compile(loss=\"mse\", optimizer='rmsprop')\n",
    "    return model\n",
    "\n",
    "create_and_train_network(dp, dp.y_abs, 12, model_generator=create_model4_improved)"
   ]
  },
  {
   "cell_type": "code",
   "execution_count": 111,
   "metadata": {},
   "outputs": [
    {
     "name": "stderr",
     "output_type": "stream",
     "text": [
      "2021-03-06 21:09:16,464: Create model...\n",
      "2021-03-06 21:09:16,606: Fit model..\n"
     ]
    },
    {
     "name": "stdout",
     "output_type": "stream",
     "text": [
      "Model: \"model_40\"\n",
      "__________________________________________________________________________________________________\n",
      "Layer (type)                    Output Shape         Param #     Connected to                     \n",
      "==================================================================================================\n",
      "x_force (InputLayer)            [(None, 3, 1)]       0                                            \n",
      "__________________________________________________________________________________________________\n",
      "x_delta (InputLayer)            [(None, 4, 6)]       0                                            \n",
      "__________________________________________________________________________________________________\n",
      "x_abs_n_minus_1 (InputLayer)    [(None, 4, 9)]       0                                            \n",
      "__________________________________________________________________________________________________\n",
      "x_abs_n (InputLayer)            [(None, 4, 9)]       0                                            \n",
      "__________________________________________________________________________________________________\n",
      "flatten_301 (Flatten)           (None, 3)            0           x_force[0][0]                    \n",
      "__________________________________________________________________________________________________\n",
      "flatten_302 (Flatten)           (None, 24)           0           x_delta[0][0]                    \n",
      "__________________________________________________________________________________________________\n",
      "concatenate_117 (Concatenate)   (None, 4, 18)        0           x_abs_n_minus_1[0][0]            \n",
      "                                                                 x_abs_n[0][0]                    \n",
      "__________________________________________________________________________________________________\n",
      "concatenate_116 (Concatenate)   (None, 27)           0           flatten_301[0][0]                \n",
      "                                                                 flatten_302[0][0]                \n",
      "__________________________________________________________________________________________________\n",
      "gru_32 (GRU)                    (None, 24)           3168        concatenate_117[0][0]            \n",
      "__________________________________________________________________________________________________\n",
      "dense_295 (Dense)               (None, 24)           672         concatenate_116[0][0]            \n",
      "__________________________________________________________________________________________________\n",
      "reshape_102 (Reshape)           (None, 4, 6)         0           gru_32[0][0]                     \n",
      "__________________________________________________________________________________________________\n",
      "reshape_101 (Reshape)           (None, 4, 6)         0           dense_295[0][0]                  \n",
      "__________________________________________________________________________________________________\n",
      "add_20 (Add)                    (None, 4, 6)         0           reshape_102[0][0]                \n",
      "                                                                 reshape_101[0][0]                \n",
      "__________________________________________________________________________________________________\n",
      "dense_296 (Dense)               (None, 4, 18)        126         add_20[0][0]                     \n",
      "__________________________________________________________________________________________________\n",
      "dropout_195 (Dropout)           (None, 4, 18)        0           dense_296[0][0]                  \n",
      "__________________________________________________________________________________________________\n",
      "dense_297 (Dense)               (None, 4, 36)        684         dropout_195[0][0]                \n",
      "__________________________________________________________________________________________________\n",
      "dropout_196 (Dropout)           (None, 4, 36)        0           dense_297[0][0]                  \n",
      "__________________________________________________________________________________________________\n",
      "dense_298 (Dense)               (None, 4, 18)        666         dropout_196[0][0]                \n",
      "__________________________________________________________________________________________________\n",
      "dropout_197 (Dropout)           (None, 4, 18)        0           dense_298[0][0]                  \n",
      "__________________________________________________________________________________________________\n",
      "dense_299 (Dense)               (None, 4, 9)         171         dropout_197[0][0]                \n",
      "__________________________________________________________________________________________________\n",
      "reshape_103 (Reshape)           (None, 4, 9)         0           dense_299[0][0]                  \n",
      "==================================================================================================\n",
      "Total params: 5,487\n",
      "Trainable params: 5,487\n",
      "Non-trainable params: 0\n",
      "__________________________________________________________________________________________________\n",
      "Epoch 1/10\n",
      "     6/385560 [..............................] - ETA: 1:05:23 - loss: 14.4968WARNING:tensorflow:Callback method `on_train_batch_end` is slow compared to the batch time (batch time: 0.0023s vs `on_train_batch_end` time: 0.0068s). Check your callbacks.\n"
     ]
    },
    {
     "name": "stderr",
     "output_type": "stream",
     "text": [
      "2021-03-06 21:09:17,658: Callback method `on_train_batch_end` is slow compared to the batch time (batch time: 0.0023s vs `on_train_batch_end` time: 0.0068s). Check your callbacks.\n"
     ]
    },
    {
     "name": "stdout",
     "output_type": "stream",
     "text": [
      "385541/385560 [============================>.] - ETA: 0s - loss: 1.4347"
     ]
    },
    {
     "name": "stderr",
     "output_type": "stream",
     "text": [
      "2021-03-06 21:24:29,418: Found untraced functions such as gru_cell_32_layer_call_and_return_conditional_losses, gru_cell_32_layer_call_fn, gru_cell_32_layer_call_fn, gru_cell_32_layer_call_and_return_conditional_losses, gru_cell_32_layer_call_and_return_conditional_losses while saving (showing 5 of 5). These functions will not be directly callable after loading.\n",
      "2021-03-06 21:24:29,466: Found untraced functions such as gru_cell_32_layer_call_and_return_conditional_losses, gru_cell_32_layer_call_fn, gru_cell_32_layer_call_fn, gru_cell_32_layer_call_and_return_conditional_losses, gru_cell_32_layer_call_and_return_conditional_losses while saving (showing 5 of 5). These functions will not be directly callable after loading.\n"
     ]
    },
    {
     "name": "stdout",
     "output_type": "stream",
     "text": [
      "INFO:tensorflow:Assets written to: model\\model_(428400, 4, 9)_(4, 9)_12_1615062267.6711757/assets\n"
     ]
    },
    {
     "name": "stderr",
     "output_type": "stream",
     "text": [
      "2021-03-06 21:24:29,798: Assets written to: model\\model_(428400, 4, 9)_(4, 9)_12_1615062267.6711757/assets\n"
     ]
    },
    {
     "name": "stdout",
     "output_type": "stream",
     "text": [
      "385560/385560 [==============================] - 951s 2ms/step - loss: 1.4347 - val_loss: 0.5037\n",
      "\n",
      "Epoch 00001: val_loss improved from inf to 0.50366, saving model to (428400, 4, 9)_(4, 9)_12_model.h5\n",
      "Epoch 2/10\n",
      "385556/385560 [============================>.] - ETA: 0s - loss: 1.2692"
     ]
    },
    {
     "name": "stderr",
     "output_type": "stream",
     "text": [
      "2021-03-06 21:40:10,785: Found untraced functions such as gru_cell_32_layer_call_and_return_conditional_losses, gru_cell_32_layer_call_fn, gru_cell_32_layer_call_fn, gru_cell_32_layer_call_and_return_conditional_losses, gru_cell_32_layer_call_and_return_conditional_losses while saving (showing 5 of 5). These functions will not be directly callable after loading.\n",
      "2021-03-06 21:40:10,827: Found untraced functions such as gru_cell_32_layer_call_and_return_conditional_losses, gru_cell_32_layer_call_fn, gru_cell_32_layer_call_fn, gru_cell_32_layer_call_and_return_conditional_losses, gru_cell_32_layer_call_and_return_conditional_losses while saving (showing 5 of 5). These functions will not be directly callable after loading.\n"
     ]
    },
    {
     "name": "stdout",
     "output_type": "stream",
     "text": [
      "INFO:tensorflow:Assets written to: model\\model_(428400, 4, 9)_(4, 9)_12_1615063208.925214/assets\n"
     ]
    },
    {
     "name": "stderr",
     "output_type": "stream",
     "text": [
      "2021-03-06 21:40:11,163: Assets written to: model\\model_(428400, 4, 9)_(4, 9)_12_1615063208.925214/assets\n"
     ]
    },
    {
     "name": "stdout",
     "output_type": "stream",
     "text": [
      "385560/385560 [==============================] - 942s 2ms/step - loss: 1.2692 - val_loss: 0.4095\n",
      "\n",
      "Epoch 00002: val_loss improved from 0.50366 to 0.40950, saving model to (428400, 4, 9)_(4, 9)_12_model.h5\n",
      "Epoch 3/10\n",
      "385551/385560 [============================>.] - ETA: 0s - loss: 1.3175"
     ]
    },
    {
     "name": "stderr",
     "output_type": "stream",
     "text": [
      "2021-03-06 21:55:56,356: Found untraced functions such as gru_cell_32_layer_call_and_return_conditional_losses, gru_cell_32_layer_call_fn, gru_cell_32_layer_call_fn, gru_cell_32_layer_call_and_return_conditional_losses, gru_cell_32_layer_call_and_return_conditional_losses while saving (showing 5 of 5). These functions will not be directly callable after loading.\n",
      "2021-03-06 21:55:56,399: Found untraced functions such as gru_cell_32_layer_call_and_return_conditional_losses, gru_cell_32_layer_call_fn, gru_cell_32_layer_call_fn, gru_cell_32_layer_call_and_return_conditional_losses, gru_cell_32_layer_call_and_return_conditional_losses while saving (showing 5 of 5). These functions will not be directly callable after loading.\n"
     ]
    },
    {
     "name": "stdout",
     "output_type": "stream",
     "text": [
      "INFO:tensorflow:Assets written to: model\\model_(428400, 4, 9)_(4, 9)_12_1615064154.4388268/assets\n"
     ]
    },
    {
     "name": "stderr",
     "output_type": "stream",
     "text": [
      "2021-03-06 21:55:56,746: Assets written to: model\\model_(428400, 4, 9)_(4, 9)_12_1615064154.4388268/assets\n"
     ]
    },
    {
     "name": "stdout",
     "output_type": "stream",
     "text": [
      "385560/385560 [==============================] - 945s 2ms/step - loss: 1.3175 - val_loss: 0.3615\n",
      "\n",
      "Epoch 00003: val_loss improved from 0.40950 to 0.36147, saving model to (428400, 4, 9)_(4, 9)_12_model.h5\n",
      "Epoch 4/10\n",
      "385548/385560 [============================>.] - ETA: 0s - loss: 1.3151"
     ]
    },
    {
     "name": "stderr",
     "output_type": "stream",
     "text": [
      "2021-03-06 22:11:41,079: Found untraced functions such as gru_cell_32_layer_call_and_return_conditional_losses, gru_cell_32_layer_call_fn, gru_cell_32_layer_call_fn, gru_cell_32_layer_call_and_return_conditional_losses, gru_cell_32_layer_call_and_return_conditional_losses while saving (showing 5 of 5). These functions will not be directly callable after loading.\n",
      "2021-03-06 22:11:41,121: Found untraced functions such as gru_cell_32_layer_call_and_return_conditional_losses, gru_cell_32_layer_call_fn, gru_cell_32_layer_call_fn, gru_cell_32_layer_call_and_return_conditional_losses, gru_cell_32_layer_call_and_return_conditional_losses while saving (showing 5 of 5). These functions will not be directly callable after loading.\n"
     ]
    },
    {
     "name": "stdout",
     "output_type": "stream",
     "text": [
      "INFO:tensorflow:Assets written to: model\\model_(428400, 4, 9)_(4, 9)_12_1615065099.2858639/assets\n"
     ]
    },
    {
     "name": "stderr",
     "output_type": "stream",
     "text": [
      "2021-03-06 22:11:41,443: Assets written to: model\\model_(428400, 4, 9)_(4, 9)_12_1615065099.2858639/assets\n"
     ]
    },
    {
     "name": "stdout",
     "output_type": "stream",
     "text": [
      "385560/385560 [==============================] - 944s 2ms/step - loss: 1.3151 - val_loss: 0.3035\n",
      "\n",
      "Epoch 00004: val_loss improved from 0.36147 to 0.30346, saving model to (428400, 4, 9)_(4, 9)_12_model.h5\n",
      "Epoch 5/10\n",
      "385550/385560 [============================>.] - ETA: 0s - loss: 1.3185"
     ]
    },
    {
     "name": "stderr",
     "output_type": "stream",
     "text": [
      "2021-03-06 22:27:29,770: Found untraced functions such as gru_cell_32_layer_call_and_return_conditional_losses, gru_cell_32_layer_call_fn, gru_cell_32_layer_call_fn, gru_cell_32_layer_call_and_return_conditional_losses, gru_cell_32_layer_call_and_return_conditional_losses while saving (showing 5 of 5). These functions will not be directly callable after loading.\n",
      "2021-03-06 22:27:29,814: Found untraced functions such as gru_cell_32_layer_call_and_return_conditional_losses, gru_cell_32_layer_call_fn, gru_cell_32_layer_call_fn, gru_cell_32_layer_call_and_return_conditional_losses, gru_cell_32_layer_call_and_return_conditional_losses while saving (showing 5 of 5). These functions will not be directly callable after loading.\n"
     ]
    },
    {
     "name": "stdout",
     "output_type": "stream",
     "text": [
      "INFO:tensorflow:Assets written to: model\\model_(428400, 4, 9)_(4, 9)_12_1615066047.850196/assets\n"
     ]
    },
    {
     "name": "stderr",
     "output_type": "stream",
     "text": [
      "2021-03-06 22:27:30,156: Assets written to: model\\model_(428400, 4, 9)_(4, 9)_12_1615066047.850196/assets\n"
     ]
    },
    {
     "name": "stdout",
     "output_type": "stream",
     "text": [
      "385560/385560 [==============================] - 949s 2ms/step - loss: 1.3185 - val_loss: 0.3805\n",
      "\n",
      "Epoch 00005: val_loss did not improve from 0.30346\n",
      "Epoch 6/10\n",
      "270307/385560 [====================>.........] - ETA: 4:31 - loss: 1.3495"
     ]
    },
    {
     "ename": "KeyboardInterrupt",
     "evalue": "",
     "output_type": "error",
     "traceback": [
      "\u001b[0;31m---------------------------------------------------------------------------\u001b[0m",
      "\u001b[0;31mKeyboardInterrupt\u001b[0m                         Traceback (most recent call last)",
      "\u001b[0;32m<ipython-input-111-75b998a3548e>\u001b[0m in \u001b[0;36m<module>\u001b[0;34m\u001b[0m\n\u001b[1;32m     36\u001b[0m     \u001b[0;32mreturn\u001b[0m \u001b[0mmodel\u001b[0m\u001b[0;34m\u001b[0m\u001b[0;34m\u001b[0m\u001b[0m\n\u001b[1;32m     37\u001b[0m \u001b[0;34m\u001b[0m\u001b[0m\n\u001b[0;32m---> 38\u001b[0;31m \u001b[0mcreate_and_train_network\u001b[0m\u001b[0;34m(\u001b[0m\u001b[0mdp\u001b[0m\u001b[0;34m,\u001b[0m \u001b[0mdp\u001b[0m\u001b[0;34m.\u001b[0m\u001b[0my_abs\u001b[0m\u001b[0;34m,\u001b[0m \u001b[0;36m12\u001b[0m\u001b[0;34m,\u001b[0m \u001b[0mmodel_generator\u001b[0m\u001b[0;34m=\u001b[0m\u001b[0mcreate_model4_improved\u001b[0m\u001b[0;34m)\u001b[0m\u001b[0;34m\u001b[0m\u001b[0;34m\u001b[0m\u001b[0m\n\u001b[0m",
      "\u001b[0;32m<ipython-input-7-9617068755c2>\u001b[0m in \u001b[0;36mcreate_and_train_network\u001b[0;34m(dp, y, model_id, epohs, batch_size, model_generator)\u001b[0m\n\u001b[1;32m    196\u001b[0m     \u001b[0mmodel\u001b[0m\u001b[0;34m.\u001b[0m\u001b[0msummary\u001b[0m\u001b[0;34m(\u001b[0m\u001b[0;34m)\u001b[0m\u001b[0;34m\u001b[0m\u001b[0;34m\u001b[0m\u001b[0m\n\u001b[1;32m    197\u001b[0m     \u001b[0mlogger\u001b[0m\u001b[0;34m.\u001b[0m\u001b[0minfo\u001b[0m\u001b[0;34m(\u001b[0m\u001b[0;34m\"Fit model..\"\u001b[0m\u001b[0;34m)\u001b[0m\u001b[0;34m\u001b[0m\u001b[0;34m\u001b[0m\u001b[0m\n\u001b[0;32m--> 198\u001b[0;31m     network = model.fit(train_dataset, validation_data=validation_dataset, verbose=1,\n\u001b[0m\u001b[1;32m    199\u001b[0m                         epochs=epohs, callbacks=[my_cb, early_stopping, best_model, tensorboard_callback])\n\u001b[1;32m    200\u001b[0m     \u001b[0mlogger\u001b[0m\u001b[0;34m.\u001b[0m\u001b[0minfo\u001b[0m\u001b[0;34m(\u001b[0m\u001b[0;34m\"Summary\"\u001b[0m\u001b[0;34m)\u001b[0m\u001b[0;34m\u001b[0m\u001b[0;34m\u001b[0m\u001b[0m\n",
      "\u001b[0;32m~/git/ueflow/venv/lib/python3.8/site-packages/tensorflow/python/keras/engine/training.py\u001b[0m in \u001b[0;36mfit\u001b[0;34m(self, x, y, batch_size, epochs, verbose, callbacks, validation_split, validation_data, shuffle, class_weight, sample_weight, initial_epoch, steps_per_epoch, validation_steps, validation_batch_size, validation_freq, max_queue_size, workers, use_multiprocessing)\u001b[0m\n\u001b[1;32m   1098\u001b[0m                 _r=1):\n\u001b[1;32m   1099\u001b[0m               \u001b[0mcallbacks\u001b[0m\u001b[0;34m.\u001b[0m\u001b[0mon_train_batch_begin\u001b[0m\u001b[0;34m(\u001b[0m\u001b[0mstep\u001b[0m\u001b[0;34m)\u001b[0m\u001b[0;34m\u001b[0m\u001b[0;34m\u001b[0m\u001b[0m\n\u001b[0;32m-> 1100\u001b[0;31m               \u001b[0mtmp_logs\u001b[0m \u001b[0;34m=\u001b[0m \u001b[0mself\u001b[0m\u001b[0;34m.\u001b[0m\u001b[0mtrain_function\u001b[0m\u001b[0;34m(\u001b[0m\u001b[0miterator\u001b[0m\u001b[0;34m)\u001b[0m\u001b[0;34m\u001b[0m\u001b[0;34m\u001b[0m\u001b[0m\n\u001b[0m\u001b[1;32m   1101\u001b[0m               \u001b[0;32mif\u001b[0m \u001b[0mdata_handler\u001b[0m\u001b[0;34m.\u001b[0m\u001b[0mshould_sync\u001b[0m\u001b[0;34m:\u001b[0m\u001b[0;34m\u001b[0m\u001b[0;34m\u001b[0m\u001b[0m\n\u001b[1;32m   1102\u001b[0m                 \u001b[0mcontext\u001b[0m\u001b[0;34m.\u001b[0m\u001b[0masync_wait\u001b[0m\u001b[0;34m(\u001b[0m\u001b[0;34m)\u001b[0m\u001b[0;34m\u001b[0m\u001b[0;34m\u001b[0m\u001b[0m\n",
      "\u001b[0;32m~/git/ueflow/venv/lib/python3.8/site-packages/tensorflow/python/eager/def_function.py\u001b[0m in \u001b[0;36m__call__\u001b[0;34m(self, *args, **kwds)\u001b[0m\n\u001b[1;32m    826\u001b[0m     \u001b[0mtracing_count\u001b[0m \u001b[0;34m=\u001b[0m \u001b[0mself\u001b[0m\u001b[0;34m.\u001b[0m\u001b[0mexperimental_get_tracing_count\u001b[0m\u001b[0;34m(\u001b[0m\u001b[0;34m)\u001b[0m\u001b[0;34m\u001b[0m\u001b[0;34m\u001b[0m\u001b[0m\n\u001b[1;32m    827\u001b[0m     \u001b[0;32mwith\u001b[0m \u001b[0mtrace\u001b[0m\u001b[0;34m.\u001b[0m\u001b[0mTrace\u001b[0m\u001b[0;34m(\u001b[0m\u001b[0mself\u001b[0m\u001b[0;34m.\u001b[0m\u001b[0m_name\u001b[0m\u001b[0;34m)\u001b[0m \u001b[0;32mas\u001b[0m \u001b[0mtm\u001b[0m\u001b[0;34m:\u001b[0m\u001b[0;34m\u001b[0m\u001b[0;34m\u001b[0m\u001b[0m\n\u001b[0;32m--> 828\u001b[0;31m       \u001b[0mresult\u001b[0m \u001b[0;34m=\u001b[0m \u001b[0mself\u001b[0m\u001b[0;34m.\u001b[0m\u001b[0m_call\u001b[0m\u001b[0;34m(\u001b[0m\u001b[0;34m*\u001b[0m\u001b[0margs\u001b[0m\u001b[0;34m,\u001b[0m \u001b[0;34m**\u001b[0m\u001b[0mkwds\u001b[0m\u001b[0;34m)\u001b[0m\u001b[0;34m\u001b[0m\u001b[0;34m\u001b[0m\u001b[0m\n\u001b[0m\u001b[1;32m    829\u001b[0m       \u001b[0mcompiler\u001b[0m \u001b[0;34m=\u001b[0m \u001b[0;34m\"xla\"\u001b[0m \u001b[0;32mif\u001b[0m \u001b[0mself\u001b[0m\u001b[0;34m.\u001b[0m\u001b[0m_experimental_compile\u001b[0m \u001b[0;32melse\u001b[0m \u001b[0;34m\"nonXla\"\u001b[0m\u001b[0;34m\u001b[0m\u001b[0;34m\u001b[0m\u001b[0m\n\u001b[1;32m    830\u001b[0m       \u001b[0mnew_tracing_count\u001b[0m \u001b[0;34m=\u001b[0m \u001b[0mself\u001b[0m\u001b[0;34m.\u001b[0m\u001b[0mexperimental_get_tracing_count\u001b[0m\u001b[0;34m(\u001b[0m\u001b[0;34m)\u001b[0m\u001b[0;34m\u001b[0m\u001b[0;34m\u001b[0m\u001b[0m\n",
      "\u001b[0;32m~/git/ueflow/venv/lib/python3.8/site-packages/tensorflow/python/eager/def_function.py\u001b[0m in \u001b[0;36m_call\u001b[0;34m(self, *args, **kwds)\u001b[0m\n\u001b[1;32m    853\u001b[0m       \u001b[0;31m# In this case we have created variables on the first call, so we run the\u001b[0m\u001b[0;34m\u001b[0m\u001b[0;34m\u001b[0m\u001b[0;34m\u001b[0m\u001b[0m\n\u001b[1;32m    854\u001b[0m       \u001b[0;31m# defunned version which is guaranteed to never create variables.\u001b[0m\u001b[0;34m\u001b[0m\u001b[0;34m\u001b[0m\u001b[0;34m\u001b[0m\u001b[0m\n\u001b[0;32m--> 855\u001b[0;31m       \u001b[0;32mreturn\u001b[0m \u001b[0mself\u001b[0m\u001b[0;34m.\u001b[0m\u001b[0m_stateless_fn\u001b[0m\u001b[0;34m(\u001b[0m\u001b[0;34m*\u001b[0m\u001b[0margs\u001b[0m\u001b[0;34m,\u001b[0m \u001b[0;34m**\u001b[0m\u001b[0mkwds\u001b[0m\u001b[0;34m)\u001b[0m  \u001b[0;31m# pylint: disable=not-callable\u001b[0m\u001b[0;34m\u001b[0m\u001b[0;34m\u001b[0m\u001b[0m\n\u001b[0m\u001b[1;32m    856\u001b[0m     \u001b[0;32melif\u001b[0m \u001b[0mself\u001b[0m\u001b[0;34m.\u001b[0m\u001b[0m_stateful_fn\u001b[0m \u001b[0;32mis\u001b[0m \u001b[0;32mnot\u001b[0m \u001b[0;32mNone\u001b[0m\u001b[0;34m:\u001b[0m\u001b[0;34m\u001b[0m\u001b[0;34m\u001b[0m\u001b[0m\n\u001b[1;32m    857\u001b[0m       \u001b[0;31m# Release the lock early so that multiple threads can perform the call\u001b[0m\u001b[0;34m\u001b[0m\u001b[0;34m\u001b[0m\u001b[0;34m\u001b[0m\u001b[0m\n",
      "\u001b[0;32m~/git/ueflow/venv/lib/python3.8/site-packages/tensorflow/python/eager/function.py\u001b[0m in \u001b[0;36m__call__\u001b[0;34m(self, *args, **kwargs)\u001b[0m\n\u001b[1;32m   2940\u001b[0m       (graph_function,\n\u001b[1;32m   2941\u001b[0m        filtered_flat_args) = self._maybe_define_function(args, kwargs)\n\u001b[0;32m-> 2942\u001b[0;31m     return graph_function._call_flat(\n\u001b[0m\u001b[1;32m   2943\u001b[0m         filtered_flat_args, captured_inputs=graph_function.captured_inputs)  # pylint: disable=protected-access\n\u001b[1;32m   2944\u001b[0m \u001b[0;34m\u001b[0m\u001b[0m\n",
      "\u001b[0;32m~/git/ueflow/venv/lib/python3.8/site-packages/tensorflow/python/eager/function.py\u001b[0m in \u001b[0;36m_call_flat\u001b[0;34m(self, args, captured_inputs, cancellation_manager)\u001b[0m\n\u001b[1;32m   1916\u001b[0m         and executing_eagerly):\n\u001b[1;32m   1917\u001b[0m       \u001b[0;31m# No tape is watching; skip to running the function.\u001b[0m\u001b[0;34m\u001b[0m\u001b[0;34m\u001b[0m\u001b[0;34m\u001b[0m\u001b[0m\n\u001b[0;32m-> 1918\u001b[0;31m       return self._build_call_outputs(self._inference_function.call(\n\u001b[0m\u001b[1;32m   1919\u001b[0m           ctx, args, cancellation_manager=cancellation_manager))\n\u001b[1;32m   1920\u001b[0m     forward_backward = self._select_forward_and_backward_functions(\n",
      "\u001b[0;32m~/git/ueflow/venv/lib/python3.8/site-packages/tensorflow/python/eager/function.py\u001b[0m in \u001b[0;36mcall\u001b[0;34m(self, ctx, args, cancellation_manager)\u001b[0m\n\u001b[1;32m    553\u001b[0m       \u001b[0;32mwith\u001b[0m \u001b[0m_InterpolateFunctionError\u001b[0m\u001b[0;34m(\u001b[0m\u001b[0mself\u001b[0m\u001b[0;34m)\u001b[0m\u001b[0;34m:\u001b[0m\u001b[0;34m\u001b[0m\u001b[0;34m\u001b[0m\u001b[0m\n\u001b[1;32m    554\u001b[0m         \u001b[0;32mif\u001b[0m \u001b[0mcancellation_manager\u001b[0m \u001b[0;32mis\u001b[0m \u001b[0;32mNone\u001b[0m\u001b[0;34m:\u001b[0m\u001b[0;34m\u001b[0m\u001b[0;34m\u001b[0m\u001b[0m\n\u001b[0;32m--> 555\u001b[0;31m           outputs = execute.execute(\n\u001b[0m\u001b[1;32m    556\u001b[0m               \u001b[0mstr\u001b[0m\u001b[0;34m(\u001b[0m\u001b[0mself\u001b[0m\u001b[0;34m.\u001b[0m\u001b[0msignature\u001b[0m\u001b[0;34m.\u001b[0m\u001b[0mname\u001b[0m\u001b[0;34m)\u001b[0m\u001b[0;34m,\u001b[0m\u001b[0;34m\u001b[0m\u001b[0;34m\u001b[0m\u001b[0m\n\u001b[1;32m    557\u001b[0m               \u001b[0mnum_outputs\u001b[0m\u001b[0;34m=\u001b[0m\u001b[0mself\u001b[0m\u001b[0;34m.\u001b[0m\u001b[0m_num_outputs\u001b[0m\u001b[0;34m,\u001b[0m\u001b[0;34m\u001b[0m\u001b[0;34m\u001b[0m\u001b[0m\n",
      "\u001b[0;32m~/git/ueflow/venv/lib/python3.8/site-packages/tensorflow/python/eager/execute.py\u001b[0m in \u001b[0;36mquick_execute\u001b[0;34m(op_name, num_outputs, inputs, attrs, ctx, name)\u001b[0m\n\u001b[1;32m     57\u001b[0m   \u001b[0;32mtry\u001b[0m\u001b[0;34m:\u001b[0m\u001b[0;34m\u001b[0m\u001b[0;34m\u001b[0m\u001b[0m\n\u001b[1;32m     58\u001b[0m     \u001b[0mctx\u001b[0m\u001b[0;34m.\u001b[0m\u001b[0mensure_initialized\u001b[0m\u001b[0;34m(\u001b[0m\u001b[0;34m)\u001b[0m\u001b[0;34m\u001b[0m\u001b[0;34m\u001b[0m\u001b[0m\n\u001b[0;32m---> 59\u001b[0;31m     tensors = pywrap_tfe.TFE_Py_Execute(ctx._handle, device_name, op_name,\n\u001b[0m\u001b[1;32m     60\u001b[0m                                         inputs, attrs, num_outputs)\n\u001b[1;32m     61\u001b[0m   \u001b[0;32mexcept\u001b[0m \u001b[0mcore\u001b[0m\u001b[0;34m.\u001b[0m\u001b[0m_NotOkStatusException\u001b[0m \u001b[0;32mas\u001b[0m \u001b[0me\u001b[0m\u001b[0;34m:\u001b[0m\u001b[0;34m\u001b[0m\u001b[0;34m\u001b[0m\u001b[0m\n",
      "\u001b[0;31mKeyboardInterrupt\u001b[0m: "
     ]
    }
   ],
   "source": [
    "from tensorflow.keras.layers import Add\n",
    "\n",
    "def create_model4_improved():\n",
    "    input_delta = Input(shape=(4, 6), name='x_delta')\n",
    "    input_abs_0 = Input(shape=(4, 9), name='x_abs_n_minus_1')\n",
    "    input_abs = Input(shape=(4, 9), name='x_abs_n')\n",
    "    input_force = Input(shape=(3, 1), name='x_force')\n",
    "\n",
    "    input_abs_0_flat = Flatten()(input_abs_0)\n",
    "    input_abs_flat = Flatten()(input_abs)\n",
    "    \n",
    "    input_force_flat = Flatten()(input_force)\n",
    "    input_delta_flat = Flatten()(input_delta)\n",
    "    delta_force = Concatenate()([input_force_flat, input_delta_flat])\n",
    "    delta_force = Dense(np.prod(dp.y_delta[0].shape))(delta_force)\n",
    "    delta_force = Reshape(dp.y_delta[0].shape)(delta_force)\n",
    "    \n",
    "    x = Concatenate()([input_abs_0, input_abs])\n",
    "    #x = Reshape((2, 36))(x)\n",
    "    x = GRU(np.prod(dp.y_delta[0].shape), return_sequences=False,\n",
    "    activation=\"tanh\", recurrent_activation=\"sigmoid\", recurrent_dropout=0, unroll=False, use_bias=True, reset_after=True\n",
    "    )(x)\n",
    "    x = Reshape(dp.y_delta[0].shape)(x)\n",
    "    x = Add()([x, delta_force])\n",
    "    x = Dense(dp.y_abs[0].shape[-1] * 2)(x)\n",
    "    x = Dropout(0.2)(x)\n",
    "    x = Dense(dp.y_abs[0].shape[-1] * 4)(x)\n",
    "    x = Dropout(0.2)(x)\n",
    "    x = Dense(dp.y_abs[0].shape[-1] * 2)(x)\n",
    "    x = Dropout(0.2)(x)\n",
    "    x = Dense(dp.y_abs[0].shape[-1])(x)\n",
    "    # print(x.shape, np.prod(dp.y_delta[0].shape), dp.y_delta[0].shape, \"!!!!!!\")\n",
    "    output_1 = Reshape(dp.y_abs[0].shape)(x)\n",
    "    model = Model(inputs=[input_abs_0, input_abs, input_force, input_delta], outputs=[output_1])\n",
    "    model.compile(loss=\"mse\", optimizer='rmsprop')\n",
    "    return model\n",
    "\n",
    "create_and_train_network(dp, dp.y_abs, 12, model_generator=create_model4_improved)"
   ]
  },
  {
   "cell_type": "code",
   "execution_count": 118,
   "metadata": {},
   "outputs": [
    {
     "name": "stderr",
     "output_type": "stream",
     "text": [
      "2021-03-07 08:01:22,031: Create model...\n",
      "2021-03-07 08:01:22,089: Fit model..\n"
     ]
    },
    {
     "name": "stdout",
     "output_type": "stream",
     "text": [
      "Model: \"model_43\"\n",
      "__________________________________________________________________________________________________\n",
      "Layer (type)                    Output Shape         Param #     Connected to                     \n",
      "==================================================================================================\n",
      "x_abs_n (InputLayer)            [(None, 4, 9)]       0                                            \n",
      "__________________________________________________________________________________________________\n",
      "x_force (InputLayer)            [(None, 3, 1)]       0                                            \n",
      "__________________________________________________________________________________________________\n",
      "flatten_324 (Flatten)           (None, 36)           0           x_abs_n[0][0]                    \n",
      "__________________________________________________________________________________________________\n",
      "flatten_325 (Flatten)           (None, 3)            0           x_force[0][0]                    \n",
      "__________________________________________________________________________________________________\n",
      "x_delta (InputLayer)            [(None, 4, 6)]       0                                            \n",
      "__________________________________________________________________________________________________\n",
      "concatenate_124 (Concatenate)   (None, 39)           0           flatten_324[0][0]                \n",
      "                                                                 flatten_325[0][0]                \n",
      "__________________________________________________________________________________________________\n",
      "flatten_326 (Flatten)           (None, 24)           0           x_delta[0][0]                    \n",
      "__________________________________________________________________________________________________\n",
      "dense_322 (Dense)               (None, 24)           960         concatenate_124[0][0]            \n",
      "__________________________________________________________________________________________________\n",
      "add_25 (Add)                    (None, 24)           0           flatten_326[0][0]                \n",
      "                                                                 dense_322[0][0]                  \n",
      "__________________________________________________________________________________________________\n",
      "reshape_108 (Reshape)           (None, 4, 6)         0           add_25[0][0]                     \n",
      "__________________________________________________________________________________________________\n",
      "dense_323 (Dense)               (None, 4, 256)       1792        reshape_108[0][0]                \n",
      "__________________________________________________________________________________________________\n",
      "dense_324 (Dense)               (None, 4, 512)       131584      dense_323[0][0]                  \n",
      "__________________________________________________________________________________________________\n",
      "dense_325 (Dense)               (None, 4, 512)       262656      dense_324[0][0]                  \n",
      "__________________________________________________________________________________________________\n",
      "dense_326 (Dense)               (None, 4, 256)       131328      dense_325[0][0]                  \n",
      "__________________________________________________________________________________________________\n",
      "dense_327 (Dense)               (None, 4, 6)         1542        dense_326[0][0]                  \n",
      "__________________________________________________________________________________________________\n",
      "x_abs_n_minus_1 (InputLayer)    [(None, 4, 9)]       0                                            \n",
      "__________________________________________________________________________________________________\n",
      "reshape_109 (Reshape)           (None, 4, 6)         0           dense_327[0][0]                  \n",
      "==================================================================================================\n",
      "Total params: 529,862\n",
      "Trainable params: 529,862\n",
      "Non-trainable params: 0\n",
      "__________________________________________________________________________________________________\n",
      "Epoch 1/10\n",
      "     1/385560 [..............................] - ETA: 32:30:12 - loss: 3.1029WARNING:tensorflow:Callback method `on_train_batch_end` is slow compared to the batch time (batch time: 0.0017s vs `on_train_batch_end` time: 0.0022s). Check your callbacks.\n"
     ]
    },
    {
     "name": "stderr",
     "output_type": "stream",
     "text": [
      "2021-03-07 08:01:22,483: Callback method `on_train_batch_end` is slow compared to the batch time (batch time: 0.0017s vs `on_train_batch_end` time: 0.0022s). Check your callbacks.\n"
     ]
    },
    {
     "name": "stdout",
     "output_type": "stream",
     "text": [
      "385555/385560 [============================>.] - ETA: 0s - loss: 0.0122INFO:tensorflow:Assets written to: model\\model_(428400, 4, 6)_(4, 6)_12_1615101032.0964904/assets\n"
     ]
    },
    {
     "name": "stderr",
     "output_type": "stream",
     "text": [
      "2021-03-07 08:10:33,012: Assets written to: model\\model_(428400, 4, 6)_(4, 6)_12_1615101032.0964904/assets\n"
     ]
    },
    {
     "name": "stdout",
     "output_type": "stream",
     "text": [
      "385560/385560 [==============================] - 576s 1ms/step - loss: 0.0122 - val_loss: 0.0040\n",
      "\n",
      "Epoch 00001: val_loss improved from inf to 0.00403, saving model to (428400, 4, 6)_(4, 6)_12_model.h5\n",
      "Epoch 2/10\n",
      "385544/385560 [============================>.] - ETA: 0s - loss: 0.0053INFO:tensorflow:Assets written to: model\\model_(428400, 4, 6)_(4, 6)_12_1615101613.7131937/assets\n"
     ]
    },
    {
     "name": "stderr",
     "output_type": "stream",
     "text": [
      "2021-03-07 08:20:14,408: Assets written to: model\\model_(428400, 4, 6)_(4, 6)_12_1615101613.7131937/assets\n"
     ]
    },
    {
     "name": "stdout",
     "output_type": "stream",
     "text": [
      "385560/385560 [==============================] - 581s 2ms/step - loss: 0.0053 - val_loss: 0.0041\n",
      "\n",
      "Epoch 00002: val_loss did not improve from 0.00403\n",
      "Epoch 3/10\n",
      "385539/385560 [============================>.] - ETA: 0s - loss: 0.0052INFO:tensorflow:Assets written to: model\\model_(428400, 4, 6)_(4, 6)_12_1615102194.858939/assets\n"
     ]
    },
    {
     "name": "stderr",
     "output_type": "stream",
     "text": [
      "2021-03-07 08:29:55,524: Assets written to: model\\model_(428400, 4, 6)_(4, 6)_12_1615102194.858939/assets\n"
     ]
    },
    {
     "name": "stdout",
     "output_type": "stream",
     "text": [
      "385560/385560 [==============================] - 581s 2ms/step - loss: 0.0052 - val_loss: 0.0039\n",
      "\n",
      "Epoch 00003: val_loss improved from 0.00403 to 0.00386, saving model to (428400, 4, 6)_(4, 6)_12_model.h5\n",
      "Epoch 4/10\n",
      "385536/385560 [============================>.] - ETA: 0s - loss: 0.0052INFO:tensorflow:Assets written to: model\\model_(428400, 4, 6)_(4, 6)_12_1615102771.636692/assets\n"
     ]
    },
    {
     "name": "stderr",
     "output_type": "stream",
     "text": [
      "2021-03-07 08:39:32,472: Assets written to: model\\model_(428400, 4, 6)_(4, 6)_12_1615102771.636692/assets\n"
     ]
    },
    {
     "name": "stdout",
     "output_type": "stream",
     "text": [
      "385560/385560 [==============================] - 577s 1ms/step - loss: 0.0052 - val_loss: 0.0038\n",
      "\n",
      "Epoch 00004: val_loss improved from 0.00386 to 0.00384, saving model to (428400, 4, 6)_(4, 6)_12_model.h5\n",
      "Epoch 5/10\n",
      "385555/385560 [============================>.] - ETA: 0s - loss: 0.0053INFO:tensorflow:Assets written to: model\\model_(428400, 4, 6)_(4, 6)_12_1615103356.2508466/assets\n"
     ]
    },
    {
     "name": "stderr",
     "output_type": "stream",
     "text": [
      "2021-03-07 08:49:16,924: Assets written to: model\\model_(428400, 4, 6)_(4, 6)_12_1615103356.2508466/assets\n"
     ]
    },
    {
     "name": "stdout",
     "output_type": "stream",
     "text": [
      "385560/385560 [==============================] - 584s 2ms/step - loss: 0.0053 - val_loss: 0.0039\n",
      "\n",
      "Epoch 00005: val_loss did not improve from 0.00384\n",
      "Epoch 6/10\n",
      "385550/385560 [============================>.] - ETA: 0s - loss: 0.0052INFO:tensorflow:Assets written to: model\\model_(428400, 4, 6)_(4, 6)_12_1615103936.2325976/assets\n"
     ]
    },
    {
     "name": "stderr",
     "output_type": "stream",
     "text": [
      "2021-03-07 08:58:56,916: Assets written to: model\\model_(428400, 4, 6)_(4, 6)_12_1615103936.2325976/assets\n"
     ]
    },
    {
     "name": "stdout",
     "output_type": "stream",
     "text": [
      "385560/385560 [==============================] - 580s 2ms/step - loss: 0.0052 - val_loss: 0.0044\n",
      "\n",
      "Epoch 00006: val_loss did not improve from 0.00384\n",
      "Epoch 7/10\n",
      "385527/385560 [============================>.] - ETA: 0s - loss: 0.0054INFO:tensorflow:Assets written to: model\\model_(428400, 4, 6)_(4, 6)_12_1615104515.129841/assets\n"
     ]
    },
    {
     "name": "stderr",
     "output_type": "stream",
     "text": [
      "2021-03-07 09:08:35,997: Assets written to: model\\model_(428400, 4, 6)_(4, 6)_12_1615104515.129841/assets\n"
     ]
    },
    {
     "name": "stdout",
     "output_type": "stream",
     "text": [
      "385560/385560 [==============================] - 579s 2ms/step - loss: 0.0054 - val_loss: 0.0042\n",
      "\n",
      "Epoch 00007: val_loss did not improve from 0.00384\n",
      "Epoch 8/10\n",
      "385555/385560 [============================>.] - ETA: 0s - loss: 0.0054INFO:tensorflow:Assets written to: model\\model_(428400, 4, 6)_(4, 6)_12_1615105095.4306498/assets\n"
     ]
    },
    {
     "name": "stderr",
     "output_type": "stream",
     "text": [
      "2021-03-07 09:18:16,094: Assets written to: model\\model_(428400, 4, 6)_(4, 6)_12_1615105095.4306498/assets\n"
     ]
    },
    {
     "name": "stdout",
     "output_type": "stream",
     "text": [
      "\b\b\b\b\b\b\b\b\b\b\b\b\b\b\b\b\b\b\b\b\b\b\b\b\b\b\b\b\b\b\b\b\b\b\b\b\b\b\b\b\b\b\b\b\b\b\b\b\b\b\b\b\b\b\b\b\b\b\b\b\b\b\b\b\b\b\b\b\b\b\b\r",
      "385560/385560 [==============================] - 580s 2ms/step - loss: 0.0054 - val_loss: 0.0040\n"
     ]
    },
    {
     "name": "stderr",
     "output_type": "stream",
     "text": [
      "2021-03-07 09:18:41,858: Summary\n"
     ]
    },
    {
     "name": "stdout",
     "output_type": "stream",
     "text": [
      "\n",
      "Epoch 00008: val_loss did not improve from 0.00384\n",
      "Model: \"model_43\"\n",
      "__________________________________________________________________________________________________\n",
      "Layer (type)                    Output Shape         Param #     Connected to                     \n",
      "==================================================================================================\n",
      "x_abs_n (InputLayer)            [(None, 4, 9)]       0                                            \n",
      "__________________________________________________________________________________________________\n",
      "x_force (InputLayer)            [(None, 3, 1)]       0                                            \n",
      "__________________________________________________________________________________________________\n",
      "flatten_324 (Flatten)           (None, 36)           0           x_abs_n[0][0]                    \n",
      "__________________________________________________________________________________________________\n",
      "flatten_325 (Flatten)           (None, 3)            0           x_force[0][0]                    \n",
      "__________________________________________________________________________________________________\n",
      "x_delta (InputLayer)            [(None, 4, 6)]       0                                            \n",
      "__________________________________________________________________________________________________\n",
      "concatenate_124 (Concatenate)   (None, 39)           0           flatten_324[0][0]                \n",
      "                                                                 flatten_325[0][0]                \n",
      "__________________________________________________________________________________________________\n",
      "flatten_326 (Flatten)           (None, 24)           0           x_delta[0][0]                    \n",
      "__________________________________________________________________________________________________\n",
      "dense_322 (Dense)               (None, 24)           960         concatenate_124[0][0]            \n",
      "__________________________________________________________________________________________________\n",
      "add_25 (Add)                    (None, 24)           0           flatten_326[0][0]                \n",
      "                                                                 dense_322[0][0]                  \n",
      "__________________________________________________________________________________________________\n",
      "reshape_108 (Reshape)           (None, 4, 6)         0           add_25[0][0]                     \n",
      "__________________________________________________________________________________________________\n",
      "dense_323 (Dense)               (None, 4, 256)       1792        reshape_108[0][0]                \n",
      "__________________________________________________________________________________________________\n",
      "dense_324 (Dense)               (None, 4, 512)       131584      dense_323[0][0]                  \n",
      "__________________________________________________________________________________________________\n",
      "dense_325 (Dense)               (None, 4, 512)       262656      dense_324[0][0]                  \n",
      "__________________________________________________________________________________________________\n",
      "dense_326 (Dense)               (None, 4, 256)       131328      dense_325[0][0]                  \n",
      "__________________________________________________________________________________________________\n",
      "dense_327 (Dense)               (None, 4, 6)         1542        dense_326[0][0]                  \n",
      "__________________________________________________________________________________________________\n",
      "x_abs_n_minus_1 (InputLayer)    [(None, 4, 9)]       0                                            \n",
      "__________________________________________________________________________________________________\n",
      "reshape_109 (Reshape)           (None, 4, 6)         0           dense_327[0][0]                  \n",
      "==================================================================================================\n",
      "Total params: 529,862\n",
      "Trainable params: 529,862\n",
      "Non-trainable params: 0\n",
      "__________________________________________________________________________________________________\n",
      "INFO:tensorflow:Assets written to: /home/pawel/git/ueflow/samplesGeneration/logs/model_1615105121.8618183/model/assets\n"
     ]
    },
    {
     "name": "stderr",
     "output_type": "stream",
     "text": [
      "2021-03-07 09:18:42,557: Assets written to: /home/pawel/git/ueflow/samplesGeneration/logs/model_1615105121.8618183/model/assets\n"
     ]
    },
    {
     "data": {
      "text/plain": [
       "<tensorflow.python.keras.callbacks.History at 0x7fc7ca5f6280>"
      ]
     },
     "execution_count": 118,
     "metadata": {},
     "output_type": "execute_result"
    }
   ],
   "source": [
    "from tensorflow.keras.layers import Add\n",
    "\n",
    "def create_model4_improved():\n",
    "    input_delta = Input(shape=(4, 6), name='x_delta')\n",
    "    input_abs_0 = Input(shape=(4, 9), name='x_abs_n_minus_1')\n",
    "    input_abs = Input(shape=(4, 9), name='x_abs_n')\n",
    "    input_force = Input(shape=(3, 1), name='x_force')\n",
    "\n",
    "    input_abs_0_flat = Flatten()(input_abs_0)\n",
    "    input_abs_flat = Flatten()(input_abs)\n",
    "    input_force_flat = Flatten()(input_force)\n",
    "    input_delta_flat = Flatten()(input_delta)\n",
    "    \n",
    "    input_force_part = Concatenate()([input_abs_flat, input_force_flat])\n",
    "    input_force_part = Dense(np.prod(dp.y_delta[0].shape))(input_force_part)\n",
    "    \n",
    "    \n",
    "    x = Add()([input_delta_flat, input_force_part])\n",
    "    x = Reshape(dp.y_delta[0].shape)(x)\n",
    "    x = Dense(256)(x)\n",
    "    x = Dense(512)(x)\n",
    "    x = Dense(512)(x)\n",
    "    x = Dense(256)(x)\n",
    "    x = Dense(dp.y_delta[0].shape[-1])(x)\n",
    "    # print(x.shape, np.prod(dp.y_delta[0].shape), dp.y_delta[0].shape, \"!!!!!!\")\n",
    "    output_1 = Reshape(dp.y_delta[0].shape)(x)\n",
    "    model = Model(inputs=[input_abs_0, input_abs, input_force, input_delta], outputs=[output_1])\n",
    "    model.compile(loss=\"mse\", optimizer='rmsprop')\n",
    "    return model\n",
    "\n",
    "create_and_train_network(dp, dp.y_delta, 12, model_generator=create_model4_improved)"
   ]
  },
  {
   "cell_type": "code",
   "execution_count": 114,
   "metadata": {},
   "outputs": [
    {
     "name": "stderr",
     "output_type": "stream",
     "text": [
      "2021-03-07 07:47:13,493: Create model...\n",
      "2021-03-07 07:47:13,524: Fit model..\n"
     ]
    },
    {
     "name": "stdout",
     "output_type": "stream",
     "text": [
      "Model: \"model_42\"\n",
      "__________________________________________________________________________________________________\n",
      "Layer (type)                    Output Shape         Param #     Connected to                     \n",
      "==================================================================================================\n",
      "x_abs_n (InputLayer)            [(None, 4, 9)]       0                                            \n",
      "__________________________________________________________________________________________________\n",
      "x_force (InputLayer)            [(None, 3, 1)]       0                                            \n",
      "__________________________________________________________________________________________________\n",
      "flatten_310 (Flatten)           (None, 36)           0           x_abs_n[0][0]                    \n",
      "__________________________________________________________________________________________________\n",
      "flatten_311 (Flatten)           (None, 3)            0           x_force[0][0]                    \n",
      "__________________________________________________________________________________________________\n",
      "x_delta (InputLayer)            [(None, 4, 6)]       0                                            \n",
      "__________________________________________________________________________________________________\n",
      "concatenate_120 (Concatenate)   (None, 39)           0           flatten_310[0][0]                \n",
      "                                                                 flatten_311[0][0]                \n",
      "__________________________________________________________________________________________________\n",
      "flatten_312 (Flatten)           (None, 24)           0           x_delta[0][0]                    \n",
      "__________________________________________________________________________________________________\n",
      "dense_310 (Dense)               (None, 24)           960         concatenate_120[0][0]            \n",
      "__________________________________________________________________________________________________\n",
      "add_23 (Add)                    (None, 24)           0           flatten_312[0][0]                \n",
      "                                                                 dense_310[0][0]                  \n",
      "__________________________________________________________________________________________________\n",
      "dense_311 (Dense)               (None, 256)          6400        add_23[0][0]                     \n",
      "__________________________________________________________________________________________________\n",
      "dense_312 (Dense)               (None, 512)          131584      dense_311[0][0]                  \n",
      "__________________________________________________________________________________________________\n",
      "dense_313 (Dense)               (None, 512)          262656      dense_312[0][0]                  \n",
      "__________________________________________________________________________________________________\n",
      "dense_314 (Dense)               (None, 256)          131328      dense_313[0][0]                  \n",
      "__________________________________________________________________________________________________\n",
      "dense_315 (Dense)               (None, 36)           9252        dense_314[0][0]                  \n",
      "__________________________________________________________________________________________________\n",
      "x_abs_n_minus_1 (InputLayer)    [(None, 4, 9)]       0                                            \n",
      "__________________________________________________________________________________________________\n",
      "reshape_106 (Reshape)           (None, 4, 9)         0           dense_315[0][0]                  \n",
      "==================================================================================================\n",
      "Total params: 542,180\n",
      "Trainable params: 542,180\n",
      "Non-trainable params: 0\n",
      "__________________________________________________________________________________________________\n",
      "Epoch 1/10\n",
      "     1/385560 [..............................] - ETA: 29:48:05 - loss: 40.0292WARNING:tensorflow:Callback method `on_train_batch_end` is slow compared to the batch time (batch time: 0.0016s vs `on_train_batch_end` time: 0.0022s). Check your callbacks.\n"
     ]
    },
    {
     "name": "stderr",
     "output_type": "stream",
     "text": [
      "2021-03-07 07:47:13,903: Callback method `on_train_batch_end` is slow compared to the batch time (batch time: 0.0016s vs `on_train_batch_end` time: 0.0022s). Check your callbacks.\n"
     ]
    },
    {
     "name": "stdout",
     "output_type": "stream",
     "text": [
      "385538/385560 [============================>.] - ETA: 0s - loss: 0.1294INFO:tensorflow:Assets written to: model\\model_(428400, 4, 9)_(4, 9)_12_1615100174.3266542/assets\n"
     ]
    },
    {
     "name": "stderr",
     "output_type": "stream",
     "text": [
      "2021-03-07 07:56:14,810: Assets written to: model\\model_(428400, 4, 9)_(4, 9)_12_1615100174.3266542/assets\n"
     ]
    },
    {
     "name": "stdout",
     "output_type": "stream",
     "text": [
      "385560/385560 [==============================] - 567s 1ms/step - loss: 0.1294 - val_loss: 0.0170\n",
      "\n",
      "Epoch 00001: val_loss improved from inf to 0.01700, saving model to (428400, 4, 9)_(4, 9)_12_model.h5\n",
      "Epoch 2/10\n",
      " 22908/385560 [>.............................] - ETA: 8:21 - loss: 0.0172"
     ]
    },
    {
     "ename": "KeyboardInterrupt",
     "evalue": "",
     "output_type": "error",
     "traceback": [
      "\u001b[0;31m---------------------------------------------------------------------------\u001b[0m",
      "\u001b[0;31mKeyboardInterrupt\u001b[0m                         Traceback (most recent call last)",
      "\u001b[0;32m<ipython-input-114-1bc3c90bef53>\u001b[0m in \u001b[0;36m<module>\u001b[0;34m\u001b[0m\n\u001b[1;32m     29\u001b[0m     \u001b[0;32mreturn\u001b[0m \u001b[0mmodel\u001b[0m\u001b[0;34m\u001b[0m\u001b[0;34m\u001b[0m\u001b[0m\n\u001b[1;32m     30\u001b[0m \u001b[0;34m\u001b[0m\u001b[0m\n\u001b[0;32m---> 31\u001b[0;31m \u001b[0mcreate_and_train_network\u001b[0m\u001b[0;34m(\u001b[0m\u001b[0mdp\u001b[0m\u001b[0;34m,\u001b[0m \u001b[0mdp\u001b[0m\u001b[0;34m.\u001b[0m\u001b[0my_abs\u001b[0m\u001b[0;34m,\u001b[0m \u001b[0;36m12\u001b[0m\u001b[0;34m,\u001b[0m \u001b[0mmodel_generator\u001b[0m\u001b[0;34m=\u001b[0m\u001b[0mcreate_model4_improved\u001b[0m\u001b[0;34m)\u001b[0m\u001b[0;34m\u001b[0m\u001b[0;34m\u001b[0m\u001b[0m\n\u001b[0m",
      "\u001b[0;32m<ipython-input-7-9617068755c2>\u001b[0m in \u001b[0;36mcreate_and_train_network\u001b[0;34m(dp, y, model_id, epohs, batch_size, model_generator)\u001b[0m\n\u001b[1;32m    196\u001b[0m     \u001b[0mmodel\u001b[0m\u001b[0;34m.\u001b[0m\u001b[0msummary\u001b[0m\u001b[0;34m(\u001b[0m\u001b[0;34m)\u001b[0m\u001b[0;34m\u001b[0m\u001b[0;34m\u001b[0m\u001b[0m\n\u001b[1;32m    197\u001b[0m     \u001b[0mlogger\u001b[0m\u001b[0;34m.\u001b[0m\u001b[0minfo\u001b[0m\u001b[0;34m(\u001b[0m\u001b[0;34m\"Fit model..\"\u001b[0m\u001b[0;34m)\u001b[0m\u001b[0;34m\u001b[0m\u001b[0;34m\u001b[0m\u001b[0m\n\u001b[0;32m--> 198\u001b[0;31m     network = model.fit(train_dataset, validation_data=validation_dataset, verbose=1,\n\u001b[0m\u001b[1;32m    199\u001b[0m                         epochs=epohs, callbacks=[my_cb, early_stopping, best_model, tensorboard_callback])\n\u001b[1;32m    200\u001b[0m     \u001b[0mlogger\u001b[0m\u001b[0;34m.\u001b[0m\u001b[0minfo\u001b[0m\u001b[0;34m(\u001b[0m\u001b[0;34m\"Summary\"\u001b[0m\u001b[0;34m)\u001b[0m\u001b[0;34m\u001b[0m\u001b[0;34m\u001b[0m\u001b[0m\n",
      "\u001b[0;32m~/git/ueflow/venv/lib/python3.8/site-packages/tensorflow/python/keras/engine/training.py\u001b[0m in \u001b[0;36mfit\u001b[0;34m(self, x, y, batch_size, epochs, verbose, callbacks, validation_split, validation_data, shuffle, class_weight, sample_weight, initial_epoch, steps_per_epoch, validation_steps, validation_batch_size, validation_freq, max_queue_size, workers, use_multiprocessing)\u001b[0m\n\u001b[1;32m   1098\u001b[0m                 _r=1):\n\u001b[1;32m   1099\u001b[0m               \u001b[0mcallbacks\u001b[0m\u001b[0;34m.\u001b[0m\u001b[0mon_train_batch_begin\u001b[0m\u001b[0;34m(\u001b[0m\u001b[0mstep\u001b[0m\u001b[0;34m)\u001b[0m\u001b[0;34m\u001b[0m\u001b[0;34m\u001b[0m\u001b[0m\n\u001b[0;32m-> 1100\u001b[0;31m               \u001b[0mtmp_logs\u001b[0m \u001b[0;34m=\u001b[0m \u001b[0mself\u001b[0m\u001b[0;34m.\u001b[0m\u001b[0mtrain_function\u001b[0m\u001b[0;34m(\u001b[0m\u001b[0miterator\u001b[0m\u001b[0;34m)\u001b[0m\u001b[0;34m\u001b[0m\u001b[0;34m\u001b[0m\u001b[0m\n\u001b[0m\u001b[1;32m   1101\u001b[0m               \u001b[0;32mif\u001b[0m \u001b[0mdata_handler\u001b[0m\u001b[0;34m.\u001b[0m\u001b[0mshould_sync\u001b[0m\u001b[0;34m:\u001b[0m\u001b[0;34m\u001b[0m\u001b[0;34m\u001b[0m\u001b[0m\n\u001b[1;32m   1102\u001b[0m                 \u001b[0mcontext\u001b[0m\u001b[0;34m.\u001b[0m\u001b[0masync_wait\u001b[0m\u001b[0;34m(\u001b[0m\u001b[0;34m)\u001b[0m\u001b[0;34m\u001b[0m\u001b[0;34m\u001b[0m\u001b[0m\n",
      "\u001b[0;32m~/git/ueflow/venv/lib/python3.8/site-packages/tensorflow/python/eager/def_function.py\u001b[0m in \u001b[0;36m__call__\u001b[0;34m(self, *args, **kwds)\u001b[0m\n\u001b[1;32m    826\u001b[0m     \u001b[0mtracing_count\u001b[0m \u001b[0;34m=\u001b[0m \u001b[0mself\u001b[0m\u001b[0;34m.\u001b[0m\u001b[0mexperimental_get_tracing_count\u001b[0m\u001b[0;34m(\u001b[0m\u001b[0;34m)\u001b[0m\u001b[0;34m\u001b[0m\u001b[0;34m\u001b[0m\u001b[0m\n\u001b[1;32m    827\u001b[0m     \u001b[0;32mwith\u001b[0m \u001b[0mtrace\u001b[0m\u001b[0;34m.\u001b[0m\u001b[0mTrace\u001b[0m\u001b[0;34m(\u001b[0m\u001b[0mself\u001b[0m\u001b[0;34m.\u001b[0m\u001b[0m_name\u001b[0m\u001b[0;34m)\u001b[0m \u001b[0;32mas\u001b[0m \u001b[0mtm\u001b[0m\u001b[0;34m:\u001b[0m\u001b[0;34m\u001b[0m\u001b[0;34m\u001b[0m\u001b[0m\n\u001b[0;32m--> 828\u001b[0;31m       \u001b[0mresult\u001b[0m \u001b[0;34m=\u001b[0m \u001b[0mself\u001b[0m\u001b[0;34m.\u001b[0m\u001b[0m_call\u001b[0m\u001b[0;34m(\u001b[0m\u001b[0;34m*\u001b[0m\u001b[0margs\u001b[0m\u001b[0;34m,\u001b[0m \u001b[0;34m**\u001b[0m\u001b[0mkwds\u001b[0m\u001b[0;34m)\u001b[0m\u001b[0;34m\u001b[0m\u001b[0;34m\u001b[0m\u001b[0m\n\u001b[0m\u001b[1;32m    829\u001b[0m       \u001b[0mcompiler\u001b[0m \u001b[0;34m=\u001b[0m \u001b[0;34m\"xla\"\u001b[0m \u001b[0;32mif\u001b[0m \u001b[0mself\u001b[0m\u001b[0;34m.\u001b[0m\u001b[0m_experimental_compile\u001b[0m \u001b[0;32melse\u001b[0m \u001b[0;34m\"nonXla\"\u001b[0m\u001b[0;34m\u001b[0m\u001b[0;34m\u001b[0m\u001b[0m\n\u001b[1;32m    830\u001b[0m       \u001b[0mnew_tracing_count\u001b[0m \u001b[0;34m=\u001b[0m \u001b[0mself\u001b[0m\u001b[0;34m.\u001b[0m\u001b[0mexperimental_get_tracing_count\u001b[0m\u001b[0;34m(\u001b[0m\u001b[0;34m)\u001b[0m\u001b[0;34m\u001b[0m\u001b[0;34m\u001b[0m\u001b[0m\n",
      "\u001b[0;32m~/git/ueflow/venv/lib/python3.8/site-packages/tensorflow/python/eager/def_function.py\u001b[0m in \u001b[0;36m_call\u001b[0;34m(self, *args, **kwds)\u001b[0m\n\u001b[1;32m    853\u001b[0m       \u001b[0;31m# In this case we have created variables on the first call, so we run the\u001b[0m\u001b[0;34m\u001b[0m\u001b[0;34m\u001b[0m\u001b[0;34m\u001b[0m\u001b[0m\n\u001b[1;32m    854\u001b[0m       \u001b[0;31m# defunned version which is guaranteed to never create variables.\u001b[0m\u001b[0;34m\u001b[0m\u001b[0;34m\u001b[0m\u001b[0;34m\u001b[0m\u001b[0m\n\u001b[0;32m--> 855\u001b[0;31m       \u001b[0;32mreturn\u001b[0m \u001b[0mself\u001b[0m\u001b[0;34m.\u001b[0m\u001b[0m_stateless_fn\u001b[0m\u001b[0;34m(\u001b[0m\u001b[0;34m*\u001b[0m\u001b[0margs\u001b[0m\u001b[0;34m,\u001b[0m \u001b[0;34m**\u001b[0m\u001b[0mkwds\u001b[0m\u001b[0;34m)\u001b[0m  \u001b[0;31m# pylint: disable=not-callable\u001b[0m\u001b[0;34m\u001b[0m\u001b[0;34m\u001b[0m\u001b[0m\n\u001b[0m\u001b[1;32m    856\u001b[0m     \u001b[0;32melif\u001b[0m \u001b[0mself\u001b[0m\u001b[0;34m.\u001b[0m\u001b[0m_stateful_fn\u001b[0m \u001b[0;32mis\u001b[0m \u001b[0;32mnot\u001b[0m \u001b[0;32mNone\u001b[0m\u001b[0;34m:\u001b[0m\u001b[0;34m\u001b[0m\u001b[0;34m\u001b[0m\u001b[0m\n\u001b[1;32m    857\u001b[0m       \u001b[0;31m# Release the lock early so that multiple threads can perform the call\u001b[0m\u001b[0;34m\u001b[0m\u001b[0;34m\u001b[0m\u001b[0;34m\u001b[0m\u001b[0m\n",
      "\u001b[0;32m~/git/ueflow/venv/lib/python3.8/site-packages/tensorflow/python/eager/function.py\u001b[0m in \u001b[0;36m__call__\u001b[0;34m(self, *args, **kwargs)\u001b[0m\n\u001b[1;32m   2940\u001b[0m       (graph_function,\n\u001b[1;32m   2941\u001b[0m        filtered_flat_args) = self._maybe_define_function(args, kwargs)\n\u001b[0;32m-> 2942\u001b[0;31m     return graph_function._call_flat(\n\u001b[0m\u001b[1;32m   2943\u001b[0m         filtered_flat_args, captured_inputs=graph_function.captured_inputs)  # pylint: disable=protected-access\n\u001b[1;32m   2944\u001b[0m \u001b[0;34m\u001b[0m\u001b[0m\n",
      "\u001b[0;32m~/git/ueflow/venv/lib/python3.8/site-packages/tensorflow/python/eager/function.py\u001b[0m in \u001b[0;36m_call_flat\u001b[0;34m(self, args, captured_inputs, cancellation_manager)\u001b[0m\n\u001b[1;32m   1916\u001b[0m         and executing_eagerly):\n\u001b[1;32m   1917\u001b[0m       \u001b[0;31m# No tape is watching; skip to running the function.\u001b[0m\u001b[0;34m\u001b[0m\u001b[0;34m\u001b[0m\u001b[0;34m\u001b[0m\u001b[0m\n\u001b[0;32m-> 1918\u001b[0;31m       return self._build_call_outputs(self._inference_function.call(\n\u001b[0m\u001b[1;32m   1919\u001b[0m           ctx, args, cancellation_manager=cancellation_manager))\n\u001b[1;32m   1920\u001b[0m     forward_backward = self._select_forward_and_backward_functions(\n",
      "\u001b[0;32m~/git/ueflow/venv/lib/python3.8/site-packages/tensorflow/python/eager/function.py\u001b[0m in \u001b[0;36mcall\u001b[0;34m(self, ctx, args, cancellation_manager)\u001b[0m\n\u001b[1;32m    553\u001b[0m       \u001b[0;32mwith\u001b[0m \u001b[0m_InterpolateFunctionError\u001b[0m\u001b[0;34m(\u001b[0m\u001b[0mself\u001b[0m\u001b[0;34m)\u001b[0m\u001b[0;34m:\u001b[0m\u001b[0;34m\u001b[0m\u001b[0;34m\u001b[0m\u001b[0m\n\u001b[1;32m    554\u001b[0m         \u001b[0;32mif\u001b[0m \u001b[0mcancellation_manager\u001b[0m \u001b[0;32mis\u001b[0m \u001b[0;32mNone\u001b[0m\u001b[0;34m:\u001b[0m\u001b[0;34m\u001b[0m\u001b[0;34m\u001b[0m\u001b[0m\n\u001b[0;32m--> 555\u001b[0;31m           outputs = execute.execute(\n\u001b[0m\u001b[1;32m    556\u001b[0m               \u001b[0mstr\u001b[0m\u001b[0;34m(\u001b[0m\u001b[0mself\u001b[0m\u001b[0;34m.\u001b[0m\u001b[0msignature\u001b[0m\u001b[0;34m.\u001b[0m\u001b[0mname\u001b[0m\u001b[0;34m)\u001b[0m\u001b[0;34m,\u001b[0m\u001b[0;34m\u001b[0m\u001b[0;34m\u001b[0m\u001b[0m\n\u001b[1;32m    557\u001b[0m               \u001b[0mnum_outputs\u001b[0m\u001b[0;34m=\u001b[0m\u001b[0mself\u001b[0m\u001b[0;34m.\u001b[0m\u001b[0m_num_outputs\u001b[0m\u001b[0;34m,\u001b[0m\u001b[0;34m\u001b[0m\u001b[0;34m\u001b[0m\u001b[0m\n",
      "\u001b[0;32m~/git/ueflow/venv/lib/python3.8/site-packages/tensorflow/python/eager/execute.py\u001b[0m in \u001b[0;36mquick_execute\u001b[0;34m(op_name, num_outputs, inputs, attrs, ctx, name)\u001b[0m\n\u001b[1;32m     57\u001b[0m   \u001b[0;32mtry\u001b[0m\u001b[0;34m:\u001b[0m\u001b[0;34m\u001b[0m\u001b[0;34m\u001b[0m\u001b[0m\n\u001b[1;32m     58\u001b[0m     \u001b[0mctx\u001b[0m\u001b[0;34m.\u001b[0m\u001b[0mensure_initialized\u001b[0m\u001b[0;34m(\u001b[0m\u001b[0;34m)\u001b[0m\u001b[0;34m\u001b[0m\u001b[0;34m\u001b[0m\u001b[0m\n\u001b[0;32m---> 59\u001b[0;31m     tensors = pywrap_tfe.TFE_Py_Execute(ctx._handle, device_name, op_name,\n\u001b[0m\u001b[1;32m     60\u001b[0m                                         inputs, attrs, num_outputs)\n\u001b[1;32m     61\u001b[0m   \u001b[0;32mexcept\u001b[0m \u001b[0mcore\u001b[0m\u001b[0;34m.\u001b[0m\u001b[0m_NotOkStatusException\u001b[0m \u001b[0;32mas\u001b[0m \u001b[0me\u001b[0m\u001b[0;34m:\u001b[0m\u001b[0;34m\u001b[0m\u001b[0;34m\u001b[0m\u001b[0m\n",
      "\u001b[0;31mKeyboardInterrupt\u001b[0m: "
     ]
    }
   ],
   "source": [
    "from tensorflow.keras.layers import Add\n",
    "\n",
    "def create_model4_improved():\n",
    "    input_delta = Input(shape=(4, 6), name='x_delta')\n",
    "    input_abs_0 = Input(shape=(4, 9), name='x_abs_n_minus_1')\n",
    "    input_abs = Input(shape=(4, 9), name='x_abs_n')\n",
    "    input_force = Input(shape=(3, 1), name='x_force')\n",
    "\n",
    "    input_abs_0_flat = Flatten()(input_abs_0)\n",
    "    input_abs_flat = Flatten()(input_abs)\n",
    "    \n",
    "    input_force_flat = Flatten()(input_force)\n",
    "    input_delta_flat = Flatten()(input_delta)\n",
    "    \n",
    "    input_force_part = Concatenate()([input_abs_flat, input_force_flat])\n",
    "    input_force_part = Dense(np.prod(dp.y_delta[0].shape))(input_force_part)\n",
    "    \n",
    "    \n",
    "    x = Add()([input_delta_flat, input_force_part])\n",
    "    x = Dense(256)(x)\n",
    "    x = Dense(512)(x)\n",
    "    x = Dense(512)(x)\n",
    "    x = Dense(256)(x)\n",
    "    x = Dense(np.prod(dp.y_abs[0].shape))(x)\n",
    "    # print(x.shape, np.prod(dp.y_delta[0].shape), dp.y_delta[0].shape, \"!!!!!!\")\n",
    "    output_1 = Reshape(dp.y_abs[0].shape)(x)\n",
    "    model = Model(inputs=[input_abs_0, input_abs, input_force, input_delta], outputs=[output_1])\n",
    "    model.compile(loss=\"mse\", optimizer='rmsprop')\n",
    "    return model\n",
    "\n",
    "create_and_train_network(dp, dp.y_abs, 12, model_generator=create_model4_improved)"
   ]
  },
  {
   "cell_type": "code",
   "execution_count": 112,
   "metadata": {},
   "outputs": [
    {
     "name": "stderr",
     "output_type": "stream",
     "text": [
      "2021-03-06 22:38:53,418: Create model...\n",
      "2021-03-06 22:38:53,510: Fit model..\n"
     ]
    },
    {
     "name": "stdout",
     "output_type": "stream",
     "text": [
      "Model: \"model_41\"\n",
      "__________________________________________________________________________________________________\n",
      "Layer (type)                    Output Shape         Param #     Connected to                     \n",
      "==================================================================================================\n",
      "x_abs_n (InputLayer)            [(None, 4, 9)]       0                                            \n",
      "__________________________________________________________________________________________________\n",
      "x_force (InputLayer)            [(None, 3, 1)]       0                                            \n",
      "__________________________________________________________________________________________________\n",
      "flatten_304 (Flatten)           (None, 36)           0           x_abs_n[0][0]                    \n",
      "__________________________________________________________________________________________________\n",
      "flatten_305 (Flatten)           (None, 3)            0           x_force[0][0]                    \n",
      "__________________________________________________________________________________________________\n",
      "x_delta (InputLayer)            [(None, 4, 6)]       0                                            \n",
      "__________________________________________________________________________________________________\n",
      "concatenate_118 (Concatenate)   (None, 39)           0           flatten_304[0][0]                \n",
      "                                                                 flatten_305[0][0]                \n",
      "__________________________________________________________________________________________________\n",
      "dense_300 (Dense)               (None, 4, 16)        160         x_abs_n[0][0]                    \n",
      "__________________________________________________________________________________________________\n",
      "flatten_306 (Flatten)           (None, 24)           0           x_delta[0][0]                    \n",
      "__________________________________________________________________________________________________\n",
      "dense_304 (Dense)               (None, 24)           960         concatenate_118[0][0]            \n",
      "__________________________________________________________________________________________________\n",
      "dense_301 (Dense)               (None, 4, 32)        544         dense_300[0][0]                  \n",
      "__________________________________________________________________________________________________\n",
      "add_21 (Add)                    (None, 24)           0           flatten_306[0][0]                \n",
      "                                                                 dense_304[0][0]                  \n",
      "__________________________________________________________________________________________________\n",
      "dense_302 (Dense)               (None, 4, 8)         264         dense_301[0][0]                  \n",
      "__________________________________________________________________________________________________\n",
      "reshape_104 (Reshape)           (None, 4, 6)         0           add_21[0][0]                     \n",
      "__________________________________________________________________________________________________\n",
      "dense_303 (Dense)               (None, 4, 6)         54          dense_302[0][0]                  \n",
      "__________________________________________________________________________________________________\n",
      "add_22 (Add)                    (None, 4, 6)         0           reshape_104[0][0]                \n",
      "                                                                 dense_303[0][0]                  \n",
      "__________________________________________________________________________________________________\n",
      "dense_305 (Dense)               (None, 4, 256)       1792        add_22[0][0]                     \n",
      "__________________________________________________________________________________________________\n",
      "dense_306 (Dense)               (None, 4, 512)       131584      dense_305[0][0]                  \n",
      "__________________________________________________________________________________________________\n",
      "dense_307 (Dense)               (None, 4, 512)       262656      dense_306[0][0]                  \n",
      "__________________________________________________________________________________________________\n",
      "dense_308 (Dense)               (None, 4, 256)       131328      dense_307[0][0]                  \n",
      "__________________________________________________________________________________________________\n",
      "dense_309 (Dense)               (None, 4, 9)         2313        dense_308[0][0]                  \n",
      "__________________________________________________________________________________________________\n",
      "x_abs_n_minus_1 (InputLayer)    [(None, 4, 9)]       0                                            \n",
      "__________________________________________________________________________________________________\n",
      "reshape_105 (Reshape)           (None, 4, 9)         0           dense_309[0][0]                  \n",
      "==================================================================================================\n",
      "Total params: 531,655\n",
      "Trainable params: 531,655\n",
      "Non-trainable params: 0\n",
      "__________________________________________________________________________________________________\n",
      "Epoch 1/10\n",
      "     1/385560 [..............................] - ETA: 49:10:04 - loss: 5.1832WARNING:tensorflow:Callback method `on_train_batch_end` is slow compared to the batch time (batch time: 0.0018s vs `on_train_batch_end` time: 0.0039s). Check your callbacks.\n"
     ]
    },
    {
     "name": "stderr",
     "output_type": "stream",
     "text": [
      "2021-03-06 22:38:54,077: Callback method `on_train_batch_end` is slow compared to the batch time (batch time: 0.0018s vs `on_train_batch_end` time: 0.0039s). Check your callbacks.\n"
     ]
    },
    {
     "name": "stdout",
     "output_type": "stream",
     "text": [
      "385538/385560 [============================>.] - ETA: 0s - loss: 0.1168INFO:tensorflow:Assets written to: model\\model_(428400, 4, 9)_(4, 9)_12_1615067534.6099675/assets\n"
     ]
    },
    {
     "name": "stderr",
     "output_type": "stream",
     "text": [
      "2021-03-06 22:52:15,789: Assets written to: model\\model_(428400, 4, 9)_(4, 9)_12_1615067534.6099675/assets\n"
     ]
    },
    {
     "name": "stdout",
     "output_type": "stream",
     "text": [
      "385560/385560 [==============================] - 832s 2ms/step - loss: 0.1168 - val_loss: 0.0116\n",
      "\n",
      "Epoch 00001: val_loss improved from inf to 0.01163, saving model to (428400, 4, 9)_(4, 9)_12_model.h5\n",
      "Epoch 2/10\n",
      "385555/385560 [============================>.] - ETA: 0s - loss: 0.0109INFO:tensorflow:Assets written to: model\\model_(428400, 4, 9)_(4, 9)_12_1615068365.609559/assets\n"
     ]
    },
    {
     "name": "stderr",
     "output_type": "stream",
     "text": [
      "2021-03-06 23:06:06,579: Assets written to: model\\model_(428400, 4, 9)_(4, 9)_12_1615068365.609559/assets\n"
     ]
    },
    {
     "name": "stdout",
     "output_type": "stream",
     "text": [
      "385560/385560 [==============================] - 830s 2ms/step - loss: 0.0109 - val_loss: 0.0092\n",
      "\n",
      "Epoch 00002: val_loss improved from 0.01163 to 0.00925, saving model to (428400, 4, 9)_(4, 9)_12_model.h5\n",
      "Epoch 3/10\n",
      "385551/385560 [============================>.] - ETA: 0s - loss: 0.0111INFO:tensorflow:Assets written to: model\\model_(428400, 4, 9)_(4, 9)_12_1615069195.7372894/assets\n"
     ]
    },
    {
     "name": "stderr",
     "output_type": "stream",
     "text": [
      "2021-03-06 23:19:56,902: Assets written to: model\\model_(428400, 4, 9)_(4, 9)_12_1615069195.7372894/assets\n"
     ]
    },
    {
     "name": "stdout",
     "output_type": "stream",
     "text": [
      "385560/385560 [==============================] - 830s 2ms/step - loss: 0.0111 - val_loss: 0.0125\n",
      "\n",
      "Epoch 00003: val_loss did not improve from 0.00925\n",
      "Epoch 4/10\n",
      "385554/385560 [============================>.] - ETA: 0s - loss: 0.0123INFO:tensorflow:Assets written to: model\\model_(428400, 4, 9)_(4, 9)_12_1615070027.451272/assets\n"
     ]
    },
    {
     "name": "stderr",
     "output_type": "stream",
     "text": [
      "2021-03-06 23:33:48,447: Assets written to: model\\model_(428400, 4, 9)_(4, 9)_12_1615070027.451272/assets\n"
     ]
    },
    {
     "name": "stdout",
     "output_type": "stream",
     "text": [
      "385560/385560 [==============================] - 831s 2ms/step - loss: 0.0123 - val_loss: 0.0119\n",
      "\n",
      "Epoch 00004: val_loss did not improve from 0.00925\n",
      "Epoch 5/10\n",
      "385536/385560 [============================>.] - ETA: 0s - loss: 0.0121INFO:tensorflow:Assets written to: model\\model_(428400, 4, 9)_(4, 9)_12_1615070859.163371/assets\n"
     ]
    },
    {
     "name": "stderr",
     "output_type": "stream",
     "text": [
      "2021-03-06 23:47:40,334: Assets written to: model\\model_(428400, 4, 9)_(4, 9)_12_1615070859.163371/assets\n"
     ]
    },
    {
     "name": "stdout",
     "output_type": "stream",
     "text": [
      "385560/385560 [==============================] - 832s 2ms/step - loss: 0.0121 - val_loss: 0.0137\n",
      "\n",
      "Epoch 00005: val_loss did not improve from 0.00925\n",
      "Epoch 6/10\n",
      "385560/385560 [==============================] - ETA: 0s - loss: 0.0124INFO:tensorflow:Assets written to: model\\model_(428400, 4, 9)_(4, 9)_12_1615071690.1964667/assets\n"
     ]
    },
    {
     "name": "stderr",
     "output_type": "stream",
     "text": [
      "2021-03-07 00:01:31,200: Assets written to: model\\model_(428400, 4, 9)_(4, 9)_12_1615071690.1964667/assets\n"
     ]
    },
    {
     "name": "stdout",
     "output_type": "stream",
     "text": [
      "\b\b\b\b\b\b\b\b\b\b\b\b\b\b\b\b\b\b\b\b\b\b\b\b\b\b\b\b\b\b\b\b\b\b\b\b\b\b\b\b\b\b\b\b\b\b\b\b\b\b\b\b\b\b\b\b\b\b\b\b\b\b\b\b\b\b\b\b\b\b\b\r",
      "385560/385560 [==============================] - 831s 2ms/step - loss: 0.0124 - val_loss: 0.0150\n"
     ]
    },
    {
     "name": "stderr",
     "output_type": "stream",
     "text": [
      "2021-03-07 00:02:00,776: Summary\n"
     ]
    },
    {
     "name": "stdout",
     "output_type": "stream",
     "text": [
      "\n",
      "Epoch 00006: val_loss did not improve from 0.00925\n",
      "Model: \"model_41\"\n",
      "__________________________________________________________________________________________________\n",
      "Layer (type)                    Output Shape         Param #     Connected to                     \n",
      "==================================================================================================\n",
      "x_abs_n (InputLayer)            [(None, 4, 9)]       0                                            \n",
      "__________________________________________________________________________________________________\n",
      "x_force (InputLayer)            [(None, 3, 1)]       0                                            \n",
      "__________________________________________________________________________________________________\n",
      "flatten_304 (Flatten)           (None, 36)           0           x_abs_n[0][0]                    \n",
      "__________________________________________________________________________________________________\n",
      "flatten_305 (Flatten)           (None, 3)            0           x_force[0][0]                    \n",
      "__________________________________________________________________________________________________\n",
      "x_delta (InputLayer)            [(None, 4, 6)]       0                                            \n",
      "__________________________________________________________________________________________________\n",
      "concatenate_118 (Concatenate)   (None, 39)           0           flatten_304[0][0]                \n",
      "                                                                 flatten_305[0][0]                \n",
      "__________________________________________________________________________________________________\n",
      "dense_300 (Dense)               (None, 4, 16)        160         x_abs_n[0][0]                    \n",
      "__________________________________________________________________________________________________\n",
      "flatten_306 (Flatten)           (None, 24)           0           x_delta[0][0]                    \n",
      "__________________________________________________________________________________________________\n",
      "dense_304 (Dense)               (None, 24)           960         concatenate_118[0][0]            \n",
      "__________________________________________________________________________________________________\n",
      "dense_301 (Dense)               (None, 4, 32)        544         dense_300[0][0]                  \n",
      "__________________________________________________________________________________________________\n",
      "add_21 (Add)                    (None, 24)           0           flatten_306[0][0]                \n",
      "                                                                 dense_304[0][0]                  \n",
      "__________________________________________________________________________________________________\n",
      "dense_302 (Dense)               (None, 4, 8)         264         dense_301[0][0]                  \n",
      "__________________________________________________________________________________________________\n",
      "reshape_104 (Reshape)           (None, 4, 6)         0           add_21[0][0]                     \n",
      "__________________________________________________________________________________________________\n",
      "dense_303 (Dense)               (None, 4, 6)         54          dense_302[0][0]                  \n",
      "__________________________________________________________________________________________________\n",
      "add_22 (Add)                    (None, 4, 6)         0           reshape_104[0][0]                \n",
      "                                                                 dense_303[0][0]                  \n",
      "__________________________________________________________________________________________________\n",
      "dense_305 (Dense)               (None, 4, 256)       1792        add_22[0][0]                     \n",
      "__________________________________________________________________________________________________\n",
      "dense_306 (Dense)               (None, 4, 512)       131584      dense_305[0][0]                  \n",
      "__________________________________________________________________________________________________\n",
      "dense_307 (Dense)               (None, 4, 512)       262656      dense_306[0][0]                  \n",
      "__________________________________________________________________________________________________\n",
      "dense_308 (Dense)               (None, 4, 256)       131328      dense_307[0][0]                  \n",
      "__________________________________________________________________________________________________\n",
      "dense_309 (Dense)               (None, 4, 9)         2313        dense_308[0][0]                  \n",
      "__________________________________________________________________________________________________\n",
      "x_abs_n_minus_1 (InputLayer)    [(None, 4, 9)]       0                                            \n",
      "__________________________________________________________________________________________________\n",
      "reshape_105 (Reshape)           (None, 4, 9)         0           dense_309[0][0]                  \n",
      "==================================================================================================\n",
      "Total params: 531,655\n",
      "Trainable params: 531,655\n",
      "Non-trainable params: 0\n",
      "__________________________________________________________________________________________________\n",
      "INFO:tensorflow:Assets written to: /home/pawel/git/ueflow/samplesGeneration/logs/model_1615071720.778867/model/assets\n"
     ]
    },
    {
     "name": "stderr",
     "output_type": "stream",
     "text": [
      "2021-03-07 00:02:01,924: Assets written to: /home/pawel/git/ueflow/samplesGeneration/logs/model_1615071720.778867/model/assets\n"
     ]
    },
    {
     "data": {
      "text/plain": [
       "<tensorflow.python.keras.callbacks.History at 0x7fc7b9880280>"
      ]
     },
     "execution_count": 112,
     "metadata": {},
     "output_type": "execute_result"
    }
   ],
   "source": [
    "from tensorflow.keras.layers import Add\n",
    "\n",
    "def create_model4_improved():\n",
    "    input_delta = Input(shape=(4, 6), name='x_delta')\n",
    "    input_abs_0 = Input(shape=(4, 9), name='x_abs_n_minus_1')\n",
    "    input_abs = Input(shape=(4, 9), name='x_abs_n')\n",
    "    input_force = Input(shape=(3, 1), name='x_force')\n",
    "\n",
    "    input_abs_0_flat = Flatten()(input_abs_0)\n",
    "    input_abs_flat = Flatten()(input_abs)\n",
    "    input_abs_rs = Dense(16)(input_abs)\n",
    "    input_abs_rs = Dense(32)(input_abs_rs)\n",
    "    input_abs_rs = Dense(8)(input_abs_rs)\n",
    "    input_abs_rs = Dense(6)(input_abs_rs)\n",
    "    \n",
    "    input_force_flat = Flatten()(input_force)\n",
    "    input_delta_flat = Flatten()(input_delta)\n",
    "    \n",
    "    input_force_part = Concatenate()([input_abs_flat, input_force_flat])\n",
    "    input_force_part = Dense(np.prod(dp.y_delta[0].shape))(input_force_part)\n",
    "    \n",
    "    \n",
    "    x = Add()([input_delta_flat, input_force_part])\n",
    "    x = Reshape(dp.y_delta[0].shape)(x)\n",
    "    x = Add()([x, input_abs_rs])\n",
    "    x = Dense(256)(x)\n",
    "    x = Dense(512)(x)\n",
    "    x = Dense(512)(x)\n",
    "    x = Dense(256)(x)\n",
    "    x = Dense(dp.y_abs[0].shape[-1])(x)\n",
    "    # print(x.shape, np.prod(dp.y_delta[0].shape), dp.y_delta[0].shape, \"!!!!!!\")\n",
    "    output_1 = Reshape(dp.y_abs[0].shape)(x)\n",
    "    model = Model(inputs=[input_abs_0, input_abs, input_force, input_delta], outputs=[output_1])\n",
    "    model.compile(loss=\"mse\", optimizer='rmsprop')\n",
    "    return model\n",
    "\n",
    "create_and_train_network(dp, dp.y_abs, 12, model_generator=create_model4_improved)"
   ]
  },
  {
   "cell_type": "code",
   "execution_count": 124,
   "metadata": {},
   "outputs": [
    {
     "name": "stderr",
     "output_type": "stream",
     "text": [
      "2021-03-07 12:38:01,741: Create model...\n",
      "2021-03-07 12:38:01,845: Fit model..\n"
     ]
    },
    {
     "name": "stdout",
     "output_type": "stream",
     "text": [
      "Model: \"model_48\"\n",
      "__________________________________________________________________________________________________\n",
      "Layer (type)                    Output Shape         Param #     Connected to                     \n",
      "==================================================================================================\n",
      "x_abs_n (InputLayer)            [(None, 4, 9)]       0                                            \n",
      "__________________________________________________________________________________________________\n",
      "x_force (InputLayer)            [(None, 3, 1)]       0                                            \n",
      "__________________________________________________________________________________________________\n",
      "flatten_346 (Flatten)           (None, 36)           0           x_abs_n[0][0]                    \n",
      "__________________________________________________________________________________________________\n",
      "flatten_347 (Flatten)           (None, 3)            0           x_force[0][0]                    \n",
      "__________________________________________________________________________________________________\n",
      "concatenate_130 (Concatenate)   (None, 39)           0           flatten_346[0][0]                \n",
      "                                                                 flatten_347[0][0]                \n",
      "__________________________________________________________________________________________________\n",
      "x_delta (InputLayer)            [(None, 4, 6)]       0                                            \n",
      "__________________________________________________________________________________________________\n",
      "dense_377 (Dense)               (None, 512)          20480       concatenate_130[0][0]            \n",
      "__________________________________________________________________________________________________\n",
      "dense_373 (Dense)               (None, 4, 16)        160         x_abs_n[0][0]                    \n",
      "__________________________________________________________________________________________________\n",
      "flatten_348 (Flatten)           (None, 24)           0           x_delta[0][0]                    \n",
      "__________________________________________________________________________________________________\n",
      "dense_378 (Dense)               (None, 24)           12312       dense_377[0][0]                  \n",
      "__________________________________________________________________________________________________\n",
      "dense_374 (Dense)               (None, 4, 32)        544         dense_373[0][0]                  \n",
      "__________________________________________________________________________________________________\n",
      "add_31 (Add)                    (None, 24)           0           flatten_348[0][0]                \n",
      "                                                                 dense_378[0][0]                  \n",
      "__________________________________________________________________________________________________\n",
      "dense_375 (Dense)               (None, 4, 8)         264         dense_374[0][0]                  \n",
      "__________________________________________________________________________________________________\n",
      "reshape_118 (Reshape)           (None, 4, 6)         0           add_31[0][0]                     \n",
      "__________________________________________________________________________________________________\n",
      "dense_376 (Dense)               (None, 4, 6)         54          dense_375[0][0]                  \n",
      "__________________________________________________________________________________________________\n",
      "add_32 (Add)                    (None, 4, 6)         0           reshape_118[0][0]                \n",
      "                                                                 dense_376[0][0]                  \n",
      "__________________________________________________________________________________________________\n",
      "dense_379 (Dense)               (None, 4, 256)       1792        add_32[0][0]                     \n",
      "__________________________________________________________________________________________________\n",
      "dense_380 (Dense)               (None, 4, 512)       131584      dense_379[0][0]                  \n",
      "__________________________________________________________________________________________________\n",
      "dense_381 (Dense)               (None, 4, 512)       262656      dense_380[0][0]                  \n",
      "__________________________________________________________________________________________________\n",
      "dense_382 (Dense)               (None, 4, 256)       131328      dense_381[0][0]                  \n",
      "__________________________________________________________________________________________________\n",
      "dense_383 (Dense)               (None, 4, 9)         2313        dense_382[0][0]                  \n",
      "__________________________________________________________________________________________________\n",
      "x_abs_n_minus_1 (InputLayer)    [(None, 4, 9)]       0                                            \n",
      "__________________________________________________________________________________________________\n",
      "reshape_119 (Reshape)           (None, 4, 9)         0           dense_383[0][0]                  \n",
      "==================================================================================================\n",
      "Total params: 563,487\n",
      "Trainable params: 563,487\n",
      "Non-trainable params: 0\n",
      "__________________________________________________________________________________________________\n",
      "Epoch 1/10\n",
      "     1/385560 [..............................] - ETA: 52:16:10 - loss: 4.7559WARNING:tensorflow:Callback method `on_train_batch_end` is slow compared to the batch time (batch time: 0.0024s vs `on_train_batch_end` time: 0.0038s). Check your callbacks.\n"
     ]
    },
    {
     "name": "stderr",
     "output_type": "stream",
     "text": [
      "2021-03-07 12:38:02,447: Callback method `on_train_batch_end` is slow compared to the batch time (batch time: 0.0024s vs `on_train_batch_end` time: 0.0038s). Check your callbacks.\n"
     ]
    },
    {
     "name": "stdout",
     "output_type": "stream",
     "text": [
      "385556/385560 [============================>.] - ETA: 0s - loss: 0.1471INFO:tensorflow:Assets written to: model\\model_(428400, 4, 9)_(4, 9)_12_1615117953.1743207/assets\n"
     ]
    },
    {
     "name": "stderr",
     "output_type": "stream",
     "text": [
      "2021-03-07 12:52:34,343: Assets written to: model\\model_(428400, 4, 9)_(4, 9)_12_1615117953.1743207/assets\n"
     ]
    },
    {
     "name": "stdout",
     "output_type": "stream",
     "text": [
      "385560/385560 [==============================] - 903s 2ms/step - loss: 0.1471 - val_loss: 0.0433\n",
      "\n",
      "Epoch 00001: val_loss improved from inf to 0.04326, saving model to (428400, 4, 9)_(4, 9)_12_model.h5\n",
      "Epoch 2/10\n",
      "385541/385560 [============================>.] - ETA: 0s - loss: 0.0196INFO:tensorflow:Assets written to: model\\model_(428400, 4, 9)_(4, 9)_12_1615118845.370328/assets\n"
     ]
    },
    {
     "name": "stderr",
     "output_type": "stream",
     "text": [
      "2021-03-07 13:07:26,426: Assets written to: model\\model_(428400, 4, 9)_(4, 9)_12_1615118845.370328/assets\n"
     ]
    },
    {
     "name": "stdout",
     "output_type": "stream",
     "text": [
      "385560/385560 [==============================] - 892s 2ms/step - loss: 0.0196 - val_loss: 0.0495\n",
      "\n",
      "Epoch 00002: val_loss did not improve from 0.04326\n",
      "Epoch 3/10\n",
      "385539/385560 [============================>.] - ETA: 0s - loss: 0.0176INFO:tensorflow:Assets written to: model\\model_(428400, 4, 9)_(4, 9)_12_1615119741.1105561/assets\n"
     ]
    },
    {
     "name": "stderr",
     "output_type": "stream",
     "text": [
      "2021-03-07 13:22:22,386: Assets written to: model\\model_(428400, 4, 9)_(4, 9)_12_1615119741.1105561/assets\n"
     ]
    },
    {
     "name": "stdout",
     "output_type": "stream",
     "text": [
      "385560/385560 [==============================] - 896s 2ms/step - loss: 0.0176 - val_loss: 0.0150\n",
      "\n",
      "Epoch 00003: val_loss improved from 0.04326 to 0.01498, saving model to (428400, 4, 9)_(4, 9)_12_model.h5\n",
      "Epoch 4/10\n",
      "385550/385560 [============================>.] - ETA: 0s - loss: 0.0167INFO:tensorflow:Assets written to: model\\model_(428400, 4, 9)_(4, 9)_12_1615120635.257775/assets\n"
     ]
    },
    {
     "name": "stderr",
     "output_type": "stream",
     "text": [
      "2021-03-07 13:37:16,318: Assets written to: model\\model_(428400, 4, 9)_(4, 9)_12_1615120635.257775/assets\n"
     ]
    },
    {
     "name": "stdout",
     "output_type": "stream",
     "text": [
      "385560/385560 [==============================] - 893s 2ms/step - loss: 0.0167 - val_loss: 0.0222\n",
      "\n",
      "Epoch 00004: val_loss did not improve from 0.01498\n",
      "Epoch 5/10\n",
      "385545/385560 [============================>.] - ETA: 0s - loss: 0.0156INFO:tensorflow:Assets written to: model\\model_(428400, 4, 9)_(4, 9)_12_1615121525.7272012/assets\n"
     ]
    },
    {
     "name": "stderr",
     "output_type": "stream",
     "text": [
      "2021-03-07 13:52:06,780: Assets written to: model\\model_(428400, 4, 9)_(4, 9)_12_1615121525.7272012/assets\n"
     ]
    },
    {
     "name": "stdout",
     "output_type": "stream",
     "text": [
      "385560/385560 [==============================] - 890s 2ms/step - loss: 0.0156 - val_loss: 0.0163\n",
      "\n",
      "Epoch 00005: val_loss did not improve from 0.01498\n",
      "Epoch 6/10\n",
      "385552/385560 [============================>.] - ETA: 0s - loss: 0.0154INFO:tensorflow:Assets written to: model\\model_(428400, 4, 9)_(4, 9)_12_1615122417.8595214/assets\n"
     ]
    },
    {
     "name": "stderr",
     "output_type": "stream",
     "text": [
      "2021-03-07 14:06:59,110: Assets written to: model\\model_(428400, 4, 9)_(4, 9)_12_1615122417.8595214/assets\n"
     ]
    },
    {
     "name": "stdout",
     "output_type": "stream",
     "text": [
      "385560/385560 [==============================] - 892s 2ms/step - loss: 0.0154 - val_loss: 0.0231\n",
      "\n",
      "Epoch 00006: val_loss did not improve from 0.01498\n",
      "Epoch 7/10\n",
      "385548/385560 [============================>.] - ETA: 0s - loss: 0.0164INFO:tensorflow:Assets written to: model\\model_(428400, 4, 9)_(4, 9)_12_1615123312.7563915/assets\n"
     ]
    },
    {
     "name": "stderr",
     "output_type": "stream",
     "text": [
      "2021-03-07 14:21:53,803: Assets written to: model\\model_(428400, 4, 9)_(4, 9)_12_1615123312.7563915/assets\n"
     ]
    },
    {
     "name": "stdout",
     "output_type": "stream",
     "text": [
      "\b\b\b\b\b\b\b\b\b\b\b\b\b\b\b\b\b\b\b\b\b\b\b\b\b\b\b\b\b\b\b\b\b\b\b\b\b\b\b\b\b\b\b\b\b\b\b\b\b\b\b\b\b\b\b\b\b\b\b\b\b\b\b\b\b\b\b\b\b\b\b\r",
      "385560/385560 [==============================] - 895s 2ms/step - loss: 0.0164 - val_loss: 0.0982\n"
     ]
    },
    {
     "name": "stderr",
     "output_type": "stream",
     "text": [
      "2021-03-07 14:22:24,361: Summary\n"
     ]
    },
    {
     "name": "stdout",
     "output_type": "stream",
     "text": [
      "\n",
      "Epoch 00007: val_loss did not improve from 0.01498\n",
      "Model: \"model_48\"\n",
      "__________________________________________________________________________________________________\n",
      "Layer (type)                    Output Shape         Param #     Connected to                     \n",
      "==================================================================================================\n",
      "x_abs_n (InputLayer)            [(None, 4, 9)]       0                                            \n",
      "__________________________________________________________________________________________________\n",
      "x_force (InputLayer)            [(None, 3, 1)]       0                                            \n",
      "__________________________________________________________________________________________________\n",
      "flatten_346 (Flatten)           (None, 36)           0           x_abs_n[0][0]                    \n",
      "__________________________________________________________________________________________________\n",
      "flatten_347 (Flatten)           (None, 3)            0           x_force[0][0]                    \n",
      "__________________________________________________________________________________________________\n",
      "concatenate_130 (Concatenate)   (None, 39)           0           flatten_346[0][0]                \n",
      "                                                                 flatten_347[0][0]                \n",
      "__________________________________________________________________________________________________\n",
      "x_delta (InputLayer)            [(None, 4, 6)]       0                                            \n",
      "__________________________________________________________________________________________________\n",
      "dense_377 (Dense)               (None, 512)          20480       concatenate_130[0][0]            \n",
      "__________________________________________________________________________________________________\n",
      "dense_373 (Dense)               (None, 4, 16)        160         x_abs_n[0][0]                    \n",
      "__________________________________________________________________________________________________\n",
      "flatten_348 (Flatten)           (None, 24)           0           x_delta[0][0]                    \n",
      "__________________________________________________________________________________________________\n",
      "dense_378 (Dense)               (None, 24)           12312       dense_377[0][0]                  \n",
      "__________________________________________________________________________________________________\n",
      "dense_374 (Dense)               (None, 4, 32)        544         dense_373[0][0]                  \n",
      "__________________________________________________________________________________________________\n",
      "add_31 (Add)                    (None, 24)           0           flatten_348[0][0]                \n",
      "                                                                 dense_378[0][0]                  \n",
      "__________________________________________________________________________________________________\n",
      "dense_375 (Dense)               (None, 4, 8)         264         dense_374[0][0]                  \n",
      "__________________________________________________________________________________________________\n",
      "reshape_118 (Reshape)           (None, 4, 6)         0           add_31[0][0]                     \n",
      "__________________________________________________________________________________________________\n",
      "dense_376 (Dense)               (None, 4, 6)         54          dense_375[0][0]                  \n",
      "__________________________________________________________________________________________________\n",
      "add_32 (Add)                    (None, 4, 6)         0           reshape_118[0][0]                \n",
      "                                                                 dense_376[0][0]                  \n",
      "__________________________________________________________________________________________________\n",
      "dense_379 (Dense)               (None, 4, 256)       1792        add_32[0][0]                     \n",
      "__________________________________________________________________________________________________\n",
      "dense_380 (Dense)               (None, 4, 512)       131584      dense_379[0][0]                  \n",
      "__________________________________________________________________________________________________\n",
      "dense_381 (Dense)               (None, 4, 512)       262656      dense_380[0][0]                  \n",
      "__________________________________________________________________________________________________\n",
      "dense_382 (Dense)               (None, 4, 256)       131328      dense_381[0][0]                  \n",
      "__________________________________________________________________________________________________\n",
      "dense_383 (Dense)               (None, 4, 9)         2313        dense_382[0][0]                  \n",
      "__________________________________________________________________________________________________\n",
      "x_abs_n_minus_1 (InputLayer)    [(None, 4, 9)]       0                                            \n",
      "__________________________________________________________________________________________________\n",
      "reshape_119 (Reshape)           (None, 4, 9)         0           dense_383[0][0]                  \n",
      "==================================================================================================\n",
      "Total params: 563,487\n",
      "Trainable params: 563,487\n",
      "Non-trainable params: 0\n",
      "__________________________________________________________________________________________________\n",
      "INFO:tensorflow:Assets written to: /home/pawel/git/ueflow/samplesGeneration/logs/model_1615123344.3664703/model/assets\n"
     ]
    },
    {
     "name": "stderr",
     "output_type": "stream",
     "text": [
      "2021-03-07 14:22:25,607: Assets written to: /home/pawel/git/ueflow/samplesGeneration/logs/model_1615123344.3664703/model/assets\n"
     ]
    },
    {
     "data": {
      "text/plain": [
       "<tensorflow.python.keras.callbacks.History at 0x7fc68438a790>"
      ]
     },
     "execution_count": 124,
     "metadata": {},
     "output_type": "execute_result"
    }
   ],
   "source": [
    "from tensorflow.keras.layers import Add\n",
    "\n",
    "def create_model4_improved():\n",
    "    input_delta = Input(shape=(4, 6), name='x_delta')\n",
    "    input_abs_0 = Input(shape=(4, 9), name='x_abs_n_minus_1')\n",
    "    input_abs = Input(shape=(4, 9), name='x_abs_n')\n",
    "    input_force = Input(shape=(3, 1), name='x_force')\n",
    "\n",
    "    input_abs_0_flat = Flatten()(input_abs_0)\n",
    "    input_abs_flat = Flatten()(input_abs)\n",
    "    input_abs_rs = Dense(16)(input_abs)\n",
    "    input_abs_rs = Dense(32)(input_abs_rs)\n",
    "    input_abs_rs = Dense(8)(input_abs_rs)\n",
    "    input_abs_rs = Dense(6)(input_abs_rs)\n",
    "    \n",
    "    input_force_flat = Flatten()(input_force)\n",
    "    input_delta_flat = Flatten()(input_delta)\n",
    "    \n",
    "    input_force_part = Concatenate()([input_abs_flat, input_force_flat])\n",
    "    input_force_part = Dense(512)(input_force_part)\n",
    "    input_force_part = Dense(np.prod(dp.y_delta[0].shape))(input_force_part)\n",
    "    \n",
    "    \n",
    "    x = Add()([input_delta_flat, input_force_part])\n",
    "    x = Reshape(dp.y_delta[0].shape)(x)\n",
    "    x = Add()([x, input_abs_rs])\n",
    "    x = Dense(256)(x)\n",
    "    x = Dense(512)(x)\n",
    "    x = Dense(512)(x)\n",
    "    x = Dense(256)(x)\n",
    "    x = Dense(dp.y_abs[0].shape[-1])(x)\n",
    "    # print(x.shape, np.prod(dp.y_delta[0].shape), dp.y_delta[0].shape, \"!!!!!!\")\n",
    "    output_1 = Reshape(dp.y_abs[0].shape)(x)\n",
    "    model = Model(inputs=[input_abs_0, input_abs, input_force, input_delta], outputs=[output_1])\n",
    "    model.compile(loss=\"mse\", optimizer='rmsprop')\n",
    "    return model\n",
    "\n",
    "create_and_train_network(dp, dp.y_abs, 12, model_generator=create_model4_improved)"
   ]
  },
  {
   "cell_type": "code",
   "execution_count": null,
   "metadata": {},
   "outputs": [],
   "source": []
  }
 ],
 "metadata": {
  "kernelspec": {
   "display_name": "Python 3",
   "language": "python",
   "name": "python3"
  },
  "language_info": {
   "codemirror_mode": {
    "name": "ipython",
    "version": 3
   },
   "file_extension": ".py",
   "mimetype": "text/x-python",
   "name": "python",
   "nbconvert_exporter": "python",
   "pygments_lexer": "ipython3",
   "version": "3.8.6"
  }
 },
 "nbformat": 4,
 "nbformat_minor": 4
}
